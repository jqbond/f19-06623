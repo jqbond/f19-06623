{
 "cells": [
  {
   "cell_type": "markdown",
   "metadata": {},
   "source": [
    "## exam3-5 BVP by ODE\n",
    "\n"
   ]
  },
  {
   "cell_type": "markdown",
   "metadata": {},
   "source": [
    "**This is an exam. You must be present in the exam room to get credit for this problem unless you have prior permission from the instructor. You may not talk during the exam except to ask an instructor a question. By turning this in, you agree that this work is your own, and you did not get unauthorized help to complete it or provide unauthorized help to anyone else. You may not modify your exam answer after the due time without permission.**\n",
    "\n",
    "In this problem we learn a new way to solve a *linear* boundary value problem. The problem of interest is:\n",
    "\n",
    "$y'''(x) - x^2 y = -x^4$ with $y(0)=0, y'(0)=0, y(2)=4$.\n",
    "\n",
    "This will take some steps, so read the following carefully. Some of these steps will be worked out, and others you will be asked to complete. You *do not need to derive these*, they are here to guide what you will do.\n",
    "\n",
    "First, we recall that the general solution of a linear ODE can be written as a linear combination of solutions to the homogeneous equation (where the right hand side is zero) and a particular solution to the non-homogeneous equation (where the right hand side in this case is $-x^4$).\n",
    "\n",
    "Here are the homogeneous versions and the particular version of the equation above, expressed in *initial value form*. The initial conditions are chosen here to provide three linearly independent functions $Y_1, Y_2$, and $Y_3$. For $Y_p$ any values can be used since any particular solution will do.\n",
    "\n",
    "$Y_1''' - x^2 Y_1 = 0$ with $Y_1(0)=1, Y_1'(0)=0, Y_1''(0)=0$\n",
    "\n",
    "$Y_2''' - x^2 Y_2 = 0$ with $Y_2(0)=0, Y_2'(0)=1, Y_2''(0)=0$\n",
    "\n",
    "$Y_3''' - x^2 Y_3 = 0$ with $Y_3(0)=0, Y_3'(0)=0, Y_3''(0)=1$\n",
    "\n",
    "$Y_p''' - x^2 Y_p = -x^4$ with $Y_p(0)=0, Y_p'(0)=0, Y_p''(0)=0$\n",
    "\n",
    "These can be combined to form the general solution to the differential equation.\n",
    "\n",
    "$y(x) = C_1 Y_1(x) + C_2 Y_2(x) + C_3 Y_3(x) + Y_p(x)$\n",
    "\n",
    "To get towards a solution to the original BVP, we next apply the boundary conditions to find the constants $C_i$.\n",
    "\n",
    "$y(0) = 0 = C_1 + 0 + 0 + 0$\n",
    "\n",
    "$y'(0) = 0 = 0 + C_2 + 0 + 0$\n",
    "\n",
    "$y(2) = 4 = C_1 Y_1(2) + C_2 Y_2(2) + C_3 Y_3(2) + Y_p(2)$\n",
    "\n",
    "Combined, these lead to:\n",
    "\n",
    "$y(x) = \\frac{4 - Y_p(2)}{Y_3(2)} Y_3(x) + Y_p(x)$ where $Y_p(2)$ means the function $Y_p$ evaluated at $x=2$ and $Y_3(2)$ means the function $Y_3$ evaluated at $x=2$.\n",
    "\n",
    "That is remarkably the solution to the boundary value problem originally stated, and we can now get $Y_3$ and $Y_p$ by integrating two *ordinary initial value* differential equations!\n",
    "\n"
   ]
  },
  {
   "cell_type": "markdown",
   "metadata": {},
   "source": [
    "### Solve for $Y_3$ and $Y_p$\n",
    "\n"
   ]
  },
  {
   "cell_type": "markdown",
   "metadata": {},
   "source": [
    "Find solutions to these two initial value ODEs over the range of $x=0$ to $x=2$:\n",
    "\n",
    "$Y_3''' - x^2 Y_3 = 0$ with $Y_3(0)=0, Y_3'(0)=0, Y_3''(0)=1$\n",
    "\n",
    "Note that in the next step you will need to evaluate $Y_3(2)$ and $Y_p(2)$.\n",
    "\n"
   ]
  },
  {
   "cell_type": "code",
   "execution_count": 1,
   "metadata": {},
   "outputs": [
    {
     "data": {
      "text/html": [
       "<style>#notebook { padding-top:0px !important; } .container { width:100% !important; } .end_space { min-height:0px !important; } </style>"
      ],
      "text/plain": [
       "<IPython.core.display.HTML object>"
      ]
     },
     "metadata": {},
     "output_type": "display_data"
    }
   ],
   "source": [
    "from IPython.core.display import display, HTML\n",
    "display(HTML(\n",
    "    '<style>'\n",
    "        '#notebook { padding-top:0px !important; } ' \n",
    "        '.container { width:100% !important; } '\n",
    "        '.end_space { min-height:0px !important; } '\n",
    "    '</style>'\n",
    "))"
   ]
  },
  {
   "cell_type": "markdown",
   "metadata": {},
   "source": [
    "$Y_p''' - x^2 Y_p = -x^4$ with $Y_p(0)=0, Y_p'(0)=0, Y_p''(0)=0$\n",
    "\n"
   ]
  },
  {
   "cell_type": "code",
   "execution_count": null,
   "metadata": {},
   "outputs": [],
   "source": []
  },
  {
   "cell_type": "markdown",
   "metadata": {},
   "source": [
    "### Combine them to get a solution to the BVP\n",
    "\n"
   ]
  },
  {
   "cell_type": "markdown",
   "metadata": {},
   "source": [
    "Use your solutions to create the overall solution. $Y_p(2)$ means evaluate $Y_p(x)$ at $x=2$. $Y_3(2)$ means evaluate $Y_3(x)$ at $x=2$. You can do this anyway you want.\n",
    "\n",
    "$y(x) = \\frac{4 - Y_p(2)}{Y_3(2)} Y_3(x) + Y_p(x)$\n",
    "\n",
    "Make a plot of $y(x)$.\n",
    "\n"
   ]
  },
  {
   "cell_type": "code",
   "execution_count": null,
   "metadata": {},
   "outputs": [],
   "source": []
  },
  {
   "cell_type": "markdown",
   "metadata": {},
   "source": [
    "## Linear BVP\n",
    "\n"
   ]
  },
  {
   "cell_type": "code",
   "execution_count": 2,
   "metadata": {},
   "outputs": [],
   "source": [
    "import numpy as np\n",
    "from scipy.integrate import solve_bvp, solve_ivp\n",
    "import scipy.optimize as opt\n",
    "import matplotlib.pyplot as plt"
   ]
  },
  {
   "cell_type": "code",
   "execution_count": 58,
   "metadata": {},
   "outputs": [
    {
     "data": {
      "text/plain": [
       "1.9999421957541585"
      ]
     },
     "execution_count": 58,
     "metadata": {},
     "output_type": "execute_result"
    },
    {
     "data": {
      "image/png": "[encoded data removed]",
      "text/plain": [
       "<Figure size 432x288 with 1 Axes>"
      ]
     },
     "metadata": {
      "needs_background": "light"
     },
     "output_type": "display_data"
    }
   ],
   "source": [
    "def bvp(x,var):\n",
    "    y, yp = var\n",
    "    dydx  = yp\n",
    "    dypdx = -y\n",
    "    return np.array([dydx, dypdx])\n",
    "\n",
    "def bc(vara, varb):\n",
    "    ya, ypa = vara\n",
    "    yb, ypb = varb\n",
    "    bc1     = ya\n",
    "    bc2     = yb - 2\n",
    "    return np.array([bc1, bc2])\n",
    "\n",
    "xspan = (0, np.pi/2)\n",
    "xeval = np.linspace(*xspan, 15)\n",
    "yguess = 2*np.sin(xeval)\n",
    "ypguess = np.ones(len(yguess))\n",
    "varguess = np.array([yguess, ypguess])\n",
    "sol = solve_bvp(bvp, bc, xeval, varguess)\n",
    "y, yp = sol.y\n",
    "x     = sol.x\n",
    "plt.plot(x,y,'k-', x, 2*np.sin(x), 'bo')\n",
    "\n",
    "var0 = np.array([0,2])\n",
    "sol  = solve_ivp(bvp, xspan, var0, t_eval = xeval)\n",
    "x    = sol.t\n",
    "y, yp = sol.y\n",
    "plt.plot(x,y, 'rs')\n",
    "y[-1]"
   ]
  },
  {
   "cell_type": "markdown",
   "metadata": {},
   "source": [
    "This boundary value problem is linear.\n",
    "\n",
    "$y'' + y = 0$\n",
    "\n",
    "With boundary conditions $y(0) = 0$ and $y(\\pi/2) = 2$\n",
    "\n",
    "First, derive the equations that approximate this equation using finite differences. You should write out the equations in a form that allow you to construct a set of linear equations, e.g. $\\mathbf{A} \\mathbf{y} = \\mathbf{b}$.\n",
    "\n"
   ]
  },
  {
   "cell_type": "markdown",
   "metadata": {},
   "source": [
    "Next, write code to construct $\\mathbf{A}$ and $\\mathbf{b}$, and solve for $\\mathbf{y}$.\n",
    "\n"
   ]
  },
  {
   "cell_type": "code",
   "execution_count": 74,
   "metadata": {},
   "outputs": [
    {
     "data": {
      "text/plain": [
       "[<matplotlib.lines.Line2D at 0x26c8c097108>]"
      ]
     },
     "execution_count": 74,
     "metadata": {},
     "output_type": "execute_result"
    },
    {
     "data": {
      "image/png": "[encoded data removed]",
      "text/plain": [
       "<Figure size 432x288 with 1 Axes>"
      ]
     },
     "metadata": {
      "needs_background": "light"
     },
     "output_type": "display_data"
    }
   ],
   "source": [
    "ya = 0\n",
    "yb = 2\n",
    "xplot    = np.linspace(0, np.pi/2, 1000)\n",
    "yplot    = 2*np.sin(xplot)\n",
    "xspan, h = np.linspace(0, np.pi/2, 10, retstep = True)\n",
    "EYE      = np.eye(len(xspan)-2) * (h**2 - 2)\n",
    "LOW      = np.diag(np.ones(len(EYE)-1),-1)\n",
    "UPP      = np.diag(np.ones(len(EYE)-1), 1)\n",
    "A        = EYE + LOW + UPP\n",
    "RHS      = np.zeros([A.shape[0], 1])\n",
    "RHS[0]   = -ya\n",
    "RHS[-1]  = -yb\n",
    "vals     = np.linalg.solve(A, RHS)\n",
    "yfdm     = np.concatenate(([ya], vals[:,0], [yb]))\n",
    "plt.plot(xspan, yfdm, 'ro')\n",
    "plt.plot(xplot, yplot, 'k-')"
   ]
  },
  {
   "cell_type": "code",
   "execution_count": 105,
   "metadata": {},
   "outputs": [
    {
     "data": {
      "text/plain": [
       "[<matplotlib.lines.Line2D at 0x26c8c2e4a08>]"
      ]
     },
     "execution_count": 105,
     "metadata": {},
     "output_type": "execute_result"
    },
    {
     "data": {
      "image/png": "[encoded data removed]",
      "text/plain": [
       "<Figure size 432x288 with 1 Axes>"
      ]
     },
     "metadata": {
      "needs_background": "light"
     },
     "output_type": "display_data"
    }
   ],
   "source": [
    "ya = 0\n",
    "yb = 2\n",
    "xplot     = np.linspace(0, np.pi/2, 1000)\n",
    "yplot     = 2*np.sin(xplot)\n",
    "xspan, h  = np.linspace(0, np.pi/2, 25, retstep = True)\n",
    "A1        = np.eye(len(xspan))*(h**2 - 2)\n",
    "A2        = np.diag(np.ones(len(xspan)-1),-1)\n",
    "A3        = np.diag(np.ones(len(xspan)-1),1)\n",
    "A         = A1 + A2 + A3\n",
    "A[0,0]    = 1\n",
    "A[0,1]    = 0\n",
    "A[-1,-1]  = 1\n",
    "A[-1,-2]  = 0\n",
    "RHS       = np.zeros([A.shape[0], 1])\n",
    "RHS[0]    = ya\n",
    "RHS[-1]   = yb\n",
    "vals      = np.linalg.solve(A, RHS)\n",
    "yfdm      = vals\n",
    "plt.plot(xspan, yfdm, 'ro')\n",
    "plt.plot(xplot, yplot, 'k-')"
   ]
  },
  {
   "cell_type": "markdown",
   "metadata": {},
   "source": [
    "Show some evidence that your solution is reasonable.\n",
    "\n"
   ]
  },
  {
   "cell_type": "code",
   "execution_count": null,
   "metadata": {},
   "outputs": [],
   "source": []
  },
  {
   "cell_type": "markdown",
   "metadata": {},
   "source": [
    "Finally, there is a known analytical solution to this equation: $y = 2 \\sin x$. Compare your answer to the known solution.\n",
    "\n"
   ]
  },
  {
   "cell_type": "code",
   "execution_count": null,
   "metadata": {},
   "outputs": [],
   "source": []
  },
  {
   "cell_type": "markdown",
   "metadata": {},
   "source": [
    "## linear regression\n",
    "\n"
   ]
  },
  {
   "cell_type": "markdown",
   "metadata": {},
   "source": [
    "At [https://www.itl.nist.gov/div898/handbook/pmd/section4/pmd44.htm>](https://www.itl.nist.gov/div898/handbook/pmd/section4/pmd44.htm>)there is a dataset that describes the ambient pressure and temperature in the atmosphere.\n",
    "Run this cell to retrieve the data. It will download into a file called PT.txt.\n",
    "\n"
   ]
  },
  {
   "cell_type": "code",
   "execution_count": 106,
   "metadata": {},
   "outputs": [
    {
     "data": {
      "text/plain": [
       "('PT.txt', <http.client.HTTPMessage at 0x26c8c2306c8>)"
      ]
     },
     "execution_count": 106,
     "metadata": {},
     "output_type": "execute_result"
    }
   ],
   "source": [
    "import urllib.request\n",
    "url = 'https://www.itl.nist.gov/div898/handbook/datasets/MODEL-4_4_4.DAT'\n",
    "urllib.request.urlretrieve(url, 'PT.txt')"
   ]
  },
  {
   "cell_type": "markdown",
   "metadata": {},
   "source": [
    "Here, we print the first three lines of the file to see what is in it.\n",
    "\n"
   ]
  },
  {
   "cell_type": "code",
   "execution_count": 107,
   "metadata": {},
   "outputs": [
    {
     "name": "stdout",
     "output_type": "stream",
     "text": [
      " Run          Ambient                            Fitted\n",
      "Order  Day  Temperature  Temperature  Pressure    Value    Residual\n",
      " 1      1      23.820      54.749      225.066   222.920     2.146\n",
      "\n"
     ]
    }
   ],
   "source": [
    "with open('PT.txt') as f:\n",
    "    print(''.join(f.readlines()[0:3]))"
   ]
  },
  {
   "cell_type": "markdown",
   "metadata": {},
   "source": [
    "Next, we read the file into numpy arrays.\n",
    "\n"
   ]
  },
  {
   "cell_type": "code",
   "execution_count": 108,
   "metadata": {},
   "outputs": [],
   "source": [
    "import numpy as np\n",
    "data = np.loadtxt('PT.txt', skiprows=2)\n",
    "T = data[:, 3]\n",
    "P = data[:, 4]"
   ]
  },
  {
   "cell_type": "markdown",
   "metadata": {},
   "source": [
    "Make a plot of P vs. T.\n",
    "\n"
   ]
  },
  {
   "cell_type": "code",
   "execution_count": 109,
   "metadata": {},
   "outputs": [
    {
     "data": {
      "text/plain": [
       "[<matplotlib.lines.Line2D at 0x26c8c377388>]"
      ]
     },
     "execution_count": 109,
     "metadata": {},
     "output_type": "execute_result"
    },
    {
     "data": {
      "image/png": "[encoded data removed]",
      "text/plain": [
       "<Figure size 432x288 with 1 Axes>"
      ]
     },
     "metadata": {
      "needs_background": "light"
     },
     "output_type": "display_data"
    }
   ],
   "source": [
    "plt.plot(T,P, 'ro')"
   ]
  },
  {
   "cell_type": "markdown",
   "metadata": {},
   "source": [
    "Fit a model of the form $P = \\beta_0 + beta_1 T$ to this data. Show the confidence intervals on the parameters, and how the model fits the data.\n",
    "\n"
   ]
  },
  {
   "cell_type": "code",
   "execution_count": 131,
   "metadata": {},
   "outputs": [
    {
     "name": "stdout",
     "output_type": "stream",
     "text": [
      "[7.74899739 3.93014044]\n"
     ]
    },
    {
     "data": {
      "image/png": "[encoded data removed]",
      "text/plain": [
       "<Figure size 432x288 with 1 Axes>"
      ]
     },
     "metadata": {
      "needs_background": "light"
     },
     "output_type": "display_data"
    }
   ],
   "source": [
    "TMAT = np.zeros([len(T), 2])\n",
    "TMAT[:,0] = 1\n",
    "TMAT[:,1] = T\n",
    "PVEC      = P\n",
    "\n",
    "BETA = np.linalg.inv(TMAT.T @ TMAT) @ (TMAT.T @ PVEC)\n",
    "PMOD = TMAT @ BETA \n",
    "plt.plot(T,P,'ro', T, PMOD, 'k-.')\n",
    "print(BETA)"
   ]
  },
  {
   "cell_type": "code",
   "execution_count": 148,
   "metadata": {},
   "outputs": [
    {
     "name": "stdout",
     "output_type": "stream",
     "text": [
      "[7.74899745 3.93014044] \n",
      "\n",
      " [[ 2.98388248 12.51411242]\n",
      " [ 3.82749994  4.03278094]] \n",
      "\n",
      " [2.35384742 0.05070183]\n",
      "[7.74899745 3.93014044] \n",
      "\n",
      " [[ 5.54059765e+00 -1.14259726e-01]\n",
      " [-1.14259726e-01  2.57067604e-03]]\n",
      "[4.76511497 0.1026405 ] [12.51411242  4.03278094]\n"
     ]
    }
   ],
   "source": [
    "from scipy.optimize import curve_fit\n",
    "from pycse import nlinfit\n",
    "from scipy.stats.distributions import t\n",
    "\n",
    "alpha = 0.05  # 95% confidence interval = 100*(1-alpha)\n",
    "\n",
    "n = len(T)    # number of data points\n",
    "p = 2  # number of parameters\n",
    "\n",
    "dof = max(0, n - p)  # number of degrees of freedom\n",
    "\n",
    "# student-t value for the dof and confidence level\n",
    "tval = t.ppf(1.0 - alpha / 2., dof)\n",
    "\n",
    "def PRESSURE(T, beta0, beta1):\n",
    "    return beta0 + beta1*T\n",
    "pars, pars_ci, se = nlinfit(PRESSURE, T, P, [1, 1], alpha=0.05)\n",
    "print(pars, '\\n\\n', pars_ci, '\\n\\n', se)\n",
    "\n",
    "popt, pcov = curve_fit(PRESSURE, T, P, [1,1])\n",
    "print(popt, '\\n\\n', pcov)\n",
    "\n",
    "se = np.sqrt(np.diag(pcov))\n",
    "ci = np.zeros(se.shape)\n",
    "ci[0] = se[0]*tval\n",
    "ci[1] = se[1]*tval\n",
    "print(ci, popt + ci)\n"
   ]
  },
  {
   "cell_type": "markdown",
   "metadata": {},
   "source": [
    "Compare your fit to the fit described at  [https://www.itl.nist.gov/div898/handbook/pmd/section4/pmd44.htm>](https://www.itl.nist.gov/div898/handbook/pmd/section4/pmd44.htm>).\n",
    "\n"
   ]
  },
  {
   "cell_type": "code",
   "execution_count": null,
   "metadata": {},
   "outputs": [],
   "source": []
  }
 ],
 "metadata": {
  "kernelspec": {
   "display_name": "Python 3",
   "language": "python",
   "name": "python3"
  },
  "language_info": {
   "codemirror_mode": {
    "name": "ipython",
    "version": 3
   },
   "file_extension": ".py",
   "mimetype": "text/x-python",
   "name": "python",
   "nbconvert_exporter": "python",
   "pygments_lexer": "ipython3",
   "version": "3.7.6"
  },
  "org": null
 },
 "nbformat": 4,
 "nbformat_minor": 1
}
