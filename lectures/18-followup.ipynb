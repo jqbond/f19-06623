{
 "cells": [
  {
   "cell_type": "markdown",
   "metadata": {},
   "source": [
    "- KEYWORDS: numpy.linalg.solve, numpy.linalg.lstsq\n"
   ]
  },
  {
   "cell_type": "markdown",
   "metadata": {},
   "source": [
    "## Followup on showing the normal equation minimizes SSE\n",
    "\n"
   ]
  },
  {
   "cell_type": "markdown",
   "metadata": {},
   "source": [
    "We examined this regression problem in class today.\n",
    "\n"
   ]
  },
  {
   "cell_type": "code",
   "execution_count": 2,
   "metadata": {},
   "outputs": [
    {
     "name": "stdout",
     "output_type": "stream",
     "text": [
      "[ 4.99902597e-02 -2.97846320e-04  1.34348485e-06 -3.48484848e-09\n",
      "  3.69696970e-12]\n"
     ]
    },
    {
     "data": {
      "text/plain": [
       "[<matplotlib.lines.Line2D at 0x2111d886a88>]"
      ]
     },
     "execution_count": 2,
     "metadata": {},
     "output_type": "execute_result"
    },
    {
     "data": {
      "image/png": "[encoded data removed]",
      "text/plain": [
       "<Figure size 432x288 with 1 Axes>"
      ]
     },
     "metadata": {
      "needs_background": "light"
     },
     "output_type": "display_data"
    }
   ],
   "source": [
    "import numpy as np\n",
    "\n",
    "time = np.array([0.0, 50.0, 100.0, 150.0, 200.0, 250.0, 300.0])\n",
    "Ca = np.array([50.0, 38.0, 30.6, 25.6, 22.2, 19.5, 17.4])*1e-3\n",
    "\n",
    "X = np.column_stack([time**0, time, time**2, time**3, time**4])\n",
    "\n",
    "a = np.linalg.solve(X.T @ X, X.T @ Ca)\n",
    "print(a)\n",
    "\n",
    "%matplotlib inline\n",
    "import matplotlib.pyplot as plt\n",
    "plt.plot(time, Ca, 'bo')\n",
    "plt.plot(time, X @ a)"
   ]
  },
  {
   "cell_type": "markdown",
   "metadata": {},
   "source": [
    "That looks good. We should be able to show that the derivative of the summed squared errors with respect to each parameter is zero at the minimum. Let's try using numdifftools for this. I showed you this in class, and we saw a little surprise.\n",
    "\n"
   ]
  },
  {
   "cell_type": "code",
   "execution_count": 3,
   "metadata": {},
   "outputs": [
    {
     "data": {
      "text/plain": [
       "array([[-2.49794757e-16, -3.17833338e-14, -5.03604059e-10,\n",
       "        -9.97627951e-06,  8.22222222e-01]])"
      ]
     },
     "execution_count": 3,
     "metadata": {},
     "output_type": "execute_result"
    }
   ],
   "source": [
    "import numdifftools as nd\n",
    "\n",
    "def SSE(pars):\n",
    "    errs = X @ pars - Ca\n",
    "    return errs @ errs\n",
    "\n",
    "J = nd.Jacobian(SSE)\n",
    "J(a)"
   ]
  },
  {
   "cell_type": "markdown",
   "metadata": {},
   "source": [
    "The first two of these values are very small, but they progressively get larger. That should be concerning, but let's remember numdifftools uses finite differences. It could be that this is not sufficiently accurate for this purpose, especially for a term like $t^4$ in it.\n",
    "\n",
    "One way to test this is to derive an analytical derivative.\n",
    "\n",
    "$SSE = \\sum (X @ pars - Ca)^2$\n",
    "\n",
    "so we can work out the following derivative using the chain rule,\n",
    "\n",
    "$\\frac{dSSE}{dpars} = 2 \\sum (X @ pars - Ca) @ X$\n",
    "\n",
    "And evaluating this leads to *much smaller* derivatives.\n",
    "\n"
   ]
  },
  {
   "cell_type": "code",
   "execution_count": 4,
   "metadata": {},
   "outputs": [
    {
     "data": {
      "text/plain": [
       "array([-2.49800181e-16, -2.84494650e-14, -3.08797432e-12, -1.60637548e-09,\n",
       "       -2.89262793e-07])"
      ]
     },
     "execution_count": 4,
     "metadata": {},
     "output_type": "execute_result"
    }
   ],
   "source": [
    "2 * (X @ a - Ca) @ X"
   ]
  },
  {
   "cell_type": "markdown",
   "metadata": {},
   "source": [
    "I am not a huge fan of working out those derivatives, so let's double check our work with autograd, which provides exact derivatives using automatic differentiation. We will learn more about autograd soon.\n",
    "\n"
   ]
  },
  {
   "cell_type": "code",
   "execution_count": 6,
   "metadata": {},
   "outputs": [
    {
     "name": "stdout",
     "output_type": "stream",
     "text": [
      "Collecting autograd\n",
      "  Downloading autograd-1.3.tar.gz (38 kB)\n",
      "Requirement already satisfied: numpy>=1.12 in c:\\users\\jqbon\\anaconda3\\lib\\site-packages (from autograd) (1.18.1)\n",
      "Requirement already satisfied: future>=0.15.2 in c:\\users\\jqbon\\anaconda3\\lib\\site-packages (from autograd) (0.18.2)\n",
      "Building wheels for collected packages: autograd\n",
      "  Building wheel for autograd (setup.py): started\n",
      "  Building wheel for autograd (setup.py): finished with status 'done'\n",
      "  Created wheel for autograd: filename=autograd-1.3-py3-none-any.whl size=47994 sha256=c272160813f6b799241d20dec67387d6ab339f96736f71e2ea982fdffd4e4140\n",
      "  Stored in directory: c:\\users\\jqbon\\appdata\\local\\pip\\cache\\wheels\\ef\\32\\31\\0e87227cd0ca1d99ad51fbe4b54c6fa02afccf7e483d045e04\n",
      "Successfully built autograd\n",
      "Installing collected packages: autograd\n",
      "Successfully installed autograd-1.3\n"
     ]
    },
    {
     "data": {
      "text/plain": [
       "array([-2.49800181e-16, -2.84494650e-14, -3.08797432e-12, -1.60637548e-09,\n",
       "       -2.89262793e-07])"
      ]
     },
     "execution_count": 6,
     "metadata": {},
     "output_type": "execute_result"
    }
   ],
   "source": [
    "!pip install autograd\n",
    "from autograd import jacobian\n",
    "Ja = jacobian(SSE)\n",
    "Ja(a)"
   ]
  },
  {
   "cell_type": "markdown",
   "metadata": {},
   "source": [
    "These both agree, suggesting the analytical derivative is correct. So, why do the errors get larger in these terms? This is caused by catastrophic accumulation of errors that arises from adding and subtracting large and small numbers.\n",
    "\n"
   ]
  },
  {
   "cell_type": "code",
   "execution_count": 7,
   "metadata": {},
   "outputs": [
    {
     "data": {
      "text/plain": [
       "(0.0, 8100000000.0)"
      ]
     },
     "execution_count": 7,
     "metadata": {},
     "output_type": "execute_result"
    }
   ],
   "source": [
    "X.min(), X.max()"
   ]
  },
  {
   "cell_type": "markdown",
   "metadata": {},
   "source": [
    "### Is the Hessian positive definite?\n",
    "\n"
   ]
  },
  {
   "cell_type": "markdown",
   "metadata": {},
   "source": [
    "As before we can see that the Hessian is positive definite, but as before we should be skeptical here if the Hessian in numdifftools is sufficiently accurate, especially since we see 18 orders of magnitude among the eigenvalues.\n",
    "\n"
   ]
  },
  {
   "cell_type": "code",
   "execution_count": 8,
   "metadata": {},
   "outputs": [
    {
     "data": {
      "text/plain": [
       "array([1.67392305e+20, 2.87547709e+13, 5.43139168e+07, 2.02416054e+00,\n",
       "       9.28122151e+02])"
      ]
     },
     "execution_count": 8,
     "metadata": {},
     "output_type": "execute_result"
    }
   ],
   "source": [
    "H = nd.Hessian(SSE)\n",
    "np.linalg.eigvals(H(a))"
   ]
  },
  {
   "cell_type": "markdown",
   "metadata": {},
   "source": [
    "The Jacobian was defined as:\n",
    "\n",
    "$\\frac{dSSE}{dpars} = 2 \\sum (X @ pars - Ca) @ X$\n",
    "\n",
    "The analytical Hessian is defined by:\n",
    "\n",
    "$\\frac{dSSE^2}{d^pars} = 2 X^T X$\n",
    "\n",
    "We evaluate that to see that here the Hessian happens to be quite accurate. You can see why, it does not depend on the parameters at all, so there are not errors associated with finite differences.\n",
    "\n"
   ]
  },
  {
   "cell_type": "code",
   "execution_count": 9,
   "metadata": {},
   "outputs": [
    {
     "data": {
      "text/plain": [
       "array([1.67392305e+20, 2.87547709e+13, 5.43139168e+07, 2.02420092e+00,\n",
       "       9.28164186e+02])"
      ]
     },
     "execution_count": 9,
     "metadata": {},
     "output_type": "execute_result"
    }
   ],
   "source": [
    "np.linalg.eigvals(2 * X.T @ X)"
   ]
  },
  {
   "cell_type": "markdown",
   "metadata": {},
   "source": [
    "Here we confirm this with autograd again.\n",
    "\n"
   ]
  },
  {
   "cell_type": "code",
   "execution_count": 10,
   "metadata": {},
   "outputs": [
    {
     "data": {
      "text/plain": [
       "array([1.67392305e+20, 2.87547709e+13, 5.43139168e+07, 2.02420092e+00,\n",
       "       9.28164186e+02])"
      ]
     },
     "execution_count": 10,
     "metadata": {},
     "output_type": "execute_result"
    }
   ],
   "source": [
    "from autograd import hessian\n",
    "Ha = hessian(SSE)\n",
    "np.linalg.eigvals(Ha(a))"
   ]
  },
  {
   "cell_type": "markdown",
   "metadata": {},
   "source": [
    "## pycse.regress\n",
    "\n"
   ]
  },
  {
   "cell_type": "markdown",
   "metadata": {},
   "source": [
    "Somehow, I neglected to introduce the `pycse.regress` function which is the linear regression analog of `pycse.nlinfit`. It is a thin wrapper around `np.linalg.lstsq` that does the confidence interval computation for you.\n",
    "\n"
   ]
  },
  {
   "cell_type": "code",
   "execution_count": 11,
   "metadata": {},
   "outputs": [
    {
     "name": "stdout",
     "output_type": "stream",
     "text": [
      "[ 4.99902596e-02 -2.97846318e-04  1.34348481e-06 -3.48484825e-09\n",
      "  3.69696923e-12]\n"
     ]
    },
    {
     "name": "stderr",
     "output_type": "stream",
     "text": [
      "C:\\Users\\jqbon\\anaconda3\\lib\\site-packages\\pycse\\PYCSE.py:62: FutureWarning: `rcond` parameter will change to the default of machine precision times ``max(M, N)`` where M and N are the input matrix dimensions.\n",
      "To use the future default and silence this warning we advise to pass `rcond=None`, to keep using the old, explicitly pass `rcond=-1`.\n",
      "  b, res, rank, s = np.linalg.lstsq(A, y)\n"
     ]
    }
   ],
   "source": [
    "from pycse import regress\n",
    "\n",
    "p, pint, se = regress(X, Ca, 0.05)\n",
    "print(p)"
   ]
  },
  {
   "cell_type": "markdown",
   "metadata": {},
   "source": [
    "Note in these confidence intervals, The last two contain zero, indicating they are very uncertain. This is a little different than what is in the notes. That is because `regress` uses one less degree of freedom than I did in the notes which makes the CI a little larger. The argument for doing that is related to how the parameters are counted and whether you count the intercept as a parameter or not. `regress` may be overcounting the parameters in this case, leading to a larger CI than needed. When you have a lot of data, this error is negligible.\n",
    "\n"
   ]
  },
  {
   "cell_type": "code",
   "execution_count": 12,
   "metadata": {},
   "outputs": [
    {
     "name": "stdout",
     "output_type": "stream",
     "text": [
      "[[ 4.90747574e-02  5.09057619e-02]\n",
      " [-3.49867288e-04 -2.45825348e-04]\n",
      " [ 5.40268291e-07  2.14670133e-06]\n",
      " [-7.67338615e-09  7.03689639e-10]\n",
      " [-3.23368790e-12  1.06276264e-11]]\n"
     ]
    }
   ],
   "source": [
    "print(pint)"
   ]
  }
 ],
 "metadata": {
  "kernelspec": {
   "display_name": "Python 3",
   "language": "python",
   "name": "python3"
  },
  "language_info": {
   "codemirror_mode": {
    "name": "ipython",
    "version": 3
   },
   "file_extension": ".py",
   "mimetype": "text/x-python",
   "name": "python",
   "nbconvert_exporter": "python",
   "pygments_lexer": "ipython3",
   "version": "3.7.6"
  },
  "org": {
   "KEYWORDS": "numpy.linalg.solve, numpy.linalg.lstsq"
  }
 },
 "nbformat": 4,
 "nbformat_minor": 1
}
