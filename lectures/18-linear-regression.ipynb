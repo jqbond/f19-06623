{
 "cells": [
  {
   "cell_type": "markdown",
   "metadata": {},
   "source": [
    "- KEYWORDS: numpy.linalg.solve\n"
   ]
  },
  {
   "cell_type": "markdown",
   "metadata": {},
   "source": [
    "## Linear regression\n",
    "\n"
   ]
  },
  {
   "cell_type": "markdown",
   "metadata": {},
   "source": [
    "In linear regression, we seek to find models in the form $y = a_{0} f_{0}(x) + a_{1} f_{1}(x) + ... + a_{n} f_{n}(x) + \\epsilon$, where $a_{i}$ are coefficients to be determined, and &epsilon; are the residual errors. We call this linear regression because the model is linear in the unknown coefficients $a_{i}$. The functions can be any function of $x$. In the function `numpy.polyfit` these functions are polynomials in $x$.\n",
    "\n",
    "If we are given some data as pairs of (x, y), we can construct a set of equations of the form:\n",
    "\n",
    "$[f_{0}(x_{i}), f_{1}(x_{i}), ..., f_{n}(x_{i})]\\cdot[a_{0}, a_{1}, ...,  a_{n}]^T = y_{i}$\n",
    "\n",
    "There will be one of these equations for every data point, so we end up with a matrix equation that looks like:\n",
    "\n",
    "$\\mathbf{X} \\mathbf{a} = \\mathbf{y}$\n",
    "\n",
    "There are *usually* more data points than in the vector of $\\mathbf{a}$, so the shapes of these arrays are not suitable to solve directly. You can of course set up an objective function and use `scipy.optimize.minimize`, but there is a better approach.\n",
    "\n",
    "To be a little more specific, suppose we have $m$ pairs of $(x, y)$ data points, and we want to fit a model containing $n$ parameters. Then, the dimensions of the $\\mathbf{X}$ will be $(m, n)$, the dimensions of $\\mathbf{a}$ will be $(n, 1)$, and the dimensions of $\\mathbf{y}$ will be $(m, 1)$.  We have more equations than unknowns here, and we cannot use `numpy.linalg.solve` because \\mathbf{X} is not square. Note that if it was square, we would be doing the kind of interpolation we described in the last lecture.\n",
    "\n",
    "We can modify the equation though if we *left multiply* each side of the equation by $\\mathbf{X}^T$.\n",
    "\n",
    "$\\mathbf{X}^T \\mathbf{X} \\mathbf{a} = \\mathbf{X}^T \\mathbf{y}$\n",
    "\n",
    "The array $\\mathbf{X}^T \\mathbf{X}$ now has the shape $(n, m) * (m, n) = (n, n)$. The right hand side $\\mathbf{X}^T \\mathbf{y}$ has a shape of $(n, m) * (m, 1) = (n, 1)$, and $\\mathbf{a}$ is still $(n, 1)$. This new matrix equation can be solved efficiently with `numpy.linalg.solve`. We will not prove this, but solving this modified equation *is equivalent* to finding the set of parameters that minimizes the summed squared errors: $\\sum (\\mathbf{X} \\cdot \\mathbf{a} - \\mathbf{y})^2$.\n",
    "\n",
    "The parameters are then found by:\n",
    "\n"
   ]
  },
  {
   "cell_type": "markdown",
   "metadata": {},
   "source": [
    "a = (X.T @ X).inv @ X.T @ y"
   ]
  },
  {
   "cell_type": "code",
   "execution_count": null,
   "metadata": {},
   "outputs": [],
   "source": [
    "np.linalg.solve(X @ X.T, X.T @ y)"
   ]
  },
  {
   "cell_type": "markdown",
   "metadata": {},
   "source": [
    "An alternative form is called the normal equation: $\\mathbf{a} = (\\mathbf{X}\\cdot\\mathbf{X}^T)^{-1}\\mathbf{X}^T \\mathbf{y}$. This is symbolically correct, but relies on the inverse which is expensive to compute for large systems. It is not used practically, instead the equations are solved efficiently using a different algorithm.\n",
    "\n"
   ]
  },
  {
   "cell_type": "markdown",
   "metadata": {},
   "source": [
    "### An example of polynomial fitting\n",
    "\n"
   ]
  },
  {
   "cell_type": "markdown",
   "metadata": {},
   "source": [
    "Our goal in this example is to fit a polynomial to some time-dependent concentration data.\n",
    "\n"
   ]
  },
  {
   "cell_type": "code",
   "execution_count": 1,
   "metadata": {},
   "outputs": [],
   "source": [
    "import numpy as np\n",
    "\n",
    "time = np.array([0.0, 50.0, 100.0, 150.0, 200.0, 250.0, 300.0])\n",
    "Ca = np.array([50.0, 38.0, 30.6, 25.6, 22.2, 19.5, 17.4])*1e-3"
   ]
  },
  {
   "cell_type": "markdown",
   "metadata": {},
   "source": [
    "Fit a fourth order polynomial to this data and determine the confidence interval for each parameter. This data is from example 5-1 in Fogler, Elements of Chemical Reaction Engineering.\n",
    "\n",
    "We want the equation $Ca(t) = b0 + b1*t + b2*t^2 + b3*t^3 + b4*t^4$ fit to the data in the least squares sense. We can write this in a linear algebra form as: $\\mathbf{T} \\mathbf{p} = \\mathbf{Ca}$ where $\\mathbf{T}$ is a matrix of columns $[1, t, t^2, t^3, t^4]$, and $\\mathbf{p}$ is a column vector of the fitting parameters. We want to solve for the $\\mathbf{p}$ vector and estimate the confidence intervals.\n",
    "\n",
    "First, we setup the array of function values, and then we solve for the paramters.\n",
    "\n"
   ]
  },
  {
   "cell_type": "code",
   "execution_count": 2,
   "metadata": {},
   "outputs": [
    {
     "data": {
      "text/plain": [
       "array([[1.00000e+00, 0.00000e+00, 0.00000e+00, 0.00000e+00, 0.00000e+00],\n",
       "       [1.00000e+00, 5.00000e+01, 2.50000e+03, 1.25000e+05, 6.25000e+06],\n",
       "       [1.00000e+00, 1.00000e+02, 1.00000e+04, 1.00000e+06, 1.00000e+08],\n",
       "       [1.00000e+00, 1.50000e+02, 2.25000e+04, 3.37500e+06, 5.06250e+08],\n",
       "       [1.00000e+00, 2.00000e+02, 4.00000e+04, 8.00000e+06, 1.60000e+09],\n",
       "       [1.00000e+00, 2.50000e+02, 6.25000e+04, 1.56250e+07, 3.90625e+09],\n",
       "       [1.00000e+00, 3.00000e+02, 9.00000e+04, 2.70000e+07, 8.10000e+09]])"
      ]
     },
     "execution_count": 2,
     "metadata": {},
     "output_type": "execute_result"
    }
   ],
   "source": [
    "X = np.column_stack([time**0, time, time**2, time**3, time**4])\n",
    "X"
   ]
  },
  {
   "cell_type": "code",
   "execution_count": 3,
   "metadata": {},
   "outputs": [
    {
     "data": {
      "text/plain": [
       "array([[0.00000e+00, 0.00000e+00, 0.00000e+00, 0.00000e+00, 1.00000e+00],\n",
       "       [6.25000e+06, 1.25000e+05, 2.50000e+03, 5.00000e+01, 1.00000e+00],\n",
       "       [1.00000e+08, 1.00000e+06, 1.00000e+04, 1.00000e+02, 1.00000e+00],\n",
       "       [5.06250e+08, 3.37500e+06, 2.25000e+04, 1.50000e+02, 1.00000e+00],\n",
       "       [1.60000e+09, 8.00000e+06, 4.00000e+04, 2.00000e+02, 1.00000e+00],\n",
       "       [3.90625e+09, 1.56250e+07, 6.25000e+04, 2.50000e+02, 1.00000e+00],\n",
       "       [8.10000e+09, 2.70000e+07, 9.00000e+04, 3.00000e+02, 1.00000e+00]])"
      ]
     },
     "execution_count": 3,
     "metadata": {},
     "output_type": "execute_result"
    }
   ],
   "source": [
    "np.vander(time, 5)  # this is equivalent, but the columns are in the opposite order."
   ]
  },
  {
   "cell_type": "code",
   "execution_count": 4,
   "metadata": {},
   "outputs": [
    {
     "data": {
      "text/plain": [
       "array([[1.00000e+00, 0.00000e+00, 0.00000e+00, 0.00000e+00, 0.00000e+00],\n",
       "       [1.00000e+00, 5.00000e+01, 2.50000e+03, 1.25000e+05, 6.25000e+06],\n",
       "       [1.00000e+00, 1.00000e+02, 1.00000e+04, 1.00000e+06, 1.00000e+08],\n",
       "       [1.00000e+00, 1.50000e+02, 2.25000e+04, 3.37500e+06, 5.06250e+08],\n",
       "       [1.00000e+00, 2.00000e+02, 4.00000e+04, 8.00000e+06, 1.60000e+09],\n",
       "       [1.00000e+00, 2.50000e+02, 6.25000e+04, 1.56250e+07, 3.90625e+09],\n",
       "       [1.00000e+00, 3.00000e+02, 9.00000e+04, 2.70000e+07, 8.10000e+09]])"
      ]
     },
     "execution_count": 4,
     "metadata": {},
     "output_type": "execute_result"
    }
   ],
   "source": [
    "np.stack([time**0, time, time**2, time**3, time**4], axis=1)"
   ]
  },
  {
   "cell_type": "code",
   "execution_count": 5,
   "metadata": {},
   "outputs": [
    {
     "name": "stdout",
     "output_type": "stream",
     "text": [
      "[ 4.99902597e-02 -2.97846320e-04  1.34348485e-06 -3.48484848e-09\n",
      "  3.69696970e-12]\n"
     ]
    }
   ],
   "source": [
    "a = np.linalg.solve(X.T @ X, X.T @ Ca)\n",
    "print(a)"
   ]
  },
  {
   "cell_type": "code",
   "execution_count": 6,
   "metadata": {},
   "outputs": [
    {
     "data": {
      "text/plain": [
       "<matplotlib.legend.Legend at 0x1bee8bbc908>"
      ]
     },
     "execution_count": 6,
     "metadata": {},
     "output_type": "execute_result"
    },
    {
     "data": {
      "image/png": "[encoded data removed]",
      "text/plain": [
       "<Figure size 432x288 with 1 Axes>"
      ]
     },
     "metadata": {
      "needs_background": "light"
     },
     "output_type": "display_data"
    }
   ],
   "source": [
    "%matplotlib inline\n",
    "import matplotlib.pyplot as plt\n",
    "\n",
    "plt.plot(time, Ca, 'bo', time, X @ a)\n",
    "plt.xlabel('Time')\n",
    "plt.ylabel('Ca')\n",
    "plt.legend(['data', 'fit'])"
   ]
  },
  {
   "cell_type": "code",
   "execution_count": 7,
   "metadata": {},
   "outputs": [
    {
     "data": {
      "text/plain": [
       "<matplotlib.legend.Legend at 0x1bee90a55c8>"
      ]
     },
     "execution_count": 7,
     "metadata": {},
     "output_type": "execute_result"
    },
    {
     "data": {
      "image/png": "[encoded data removed]",
      "text/plain": [
       "<Figure size 432x288 with 1 Axes>"
      ]
     },
     "metadata": {
      "needs_background": "light"
     },
     "output_type": "display_data"
    }
   ],
   "source": [
    "tfit = np.linspace(0, 300)\n",
    "Cafit = np.column_stack([tfit**0, tfit, tfit**2, tfit**3, tfit**4]) @ a\n",
    "\n",
    "plt.plot(time, Ca, 'bo', tfit, Cafit)\n",
    "plt.xlabel('Time')\n",
    "plt.ylabel('Ca')\n",
    "plt.legend(['data', 'fit'])"
   ]
  },
  {
   "cell_type": "markdown",
   "metadata": {},
   "source": [
    "We previously claimed that solving this equation was equivalent to minimizing the summed squared errors. Here we demonstrate that is consistent with our observation for the first parameter.\n",
    "\n"
   ]
  },
  {
   "cell_type": "code",
   "execution_count": 8,
   "metadata": {},
   "outputs": [
    {
     "data": {
      "text/plain": [
       "<matplotlib.legend.Legend at 0x1bee914cd08>"
      ]
     },
     "execution_count": 8,
     "metadata": {},
     "output_type": "execute_result"
    },
    {
     "data": {
      "image/png": "[encoded data removed]",
      "text/plain": [
       "<Figure size 432x288 with 1 Axes>"
      ]
     },
     "metadata": {
      "needs_background": "light"
     },
     "output_type": "display_data"
    }
   ],
   "source": [
    "i = 1\n",
    "P = np.linspace(0.9 * a[i], 1.1 * a[i])\n",
    "\n",
    "errs = []\n",
    "for p in P:\n",
    "    A = [a[0], p, a[2], a[3], a[4]]\n",
    "    err = np.sum(np.square(X @ A - Ca))\n",
    "    errs += [err]\n",
    "    \n",
    "# errs = [np.sum(np.square(X @ [p, *a[1:]] - Ca)) for p in P]\n",
    "\n",
    "plt.plot(P, errs)\n",
    "plt.axvline(a[i], color='k', linestyle='--')\n",
    "plt.xlabel('slope')\n",
    "plt.ylabel('SSE')\n",
    "plt.legend(['SSE', 'best fit'])"
   ]
  },
  {
   "cell_type": "code",
   "execution_count": 9,
   "metadata": {},
   "outputs": [
    {
     "data": {
      "text/plain": [
       "array([1.67392305e+20, 2.87547709e+13, 5.43139168e+07, 2.02415885e+00,\n",
       "       9.28119574e+02])"
      ]
     },
     "execution_count": 9,
     "metadata": {},
     "output_type": "execute_result"
    }
   ],
   "source": [
    "def SSE(pars):\n",
    "    return np.sum(np.square(X @ pars - Ca))\n",
    "\n",
    "import numdifftools as nd\n",
    "H = nd.Hessian(SSE)\n",
    "np.linalg.eigvals(H(a))"
   ]
  },
  {
   "cell_type": "code",
   "execution_count": 23,
   "metadata": {},
   "outputs": [],
   "source": [
    "?nd.Jacobian"
   ]
  },
  {
   "cell_type": "code",
   "execution_count": 10,
   "metadata": {},
   "outputs": [
    {
     "data": {
      "text/plain": [
       "array([[-2.49850546e-16, -3.31361041e-14, -4.03987037e-10,\n",
       "        -9.76017239e-06, -1.33333333e+00]])"
      ]
     },
     "execution_count": 10,
     "metadata": {},
     "output_type": "execute_result"
    }
   ],
   "source": [
    "J = nd.Jacobian(SSE)  # this is the derivative: dSSE / dpar\n",
    "J(a)"
   ]
  },
  {
   "cell_type": "markdown",
   "metadata": {},
   "source": [
    "**Exercise** Demonstrate that the SSE is minimized for the other parameters. Try estimating the Hessian of the sum of squared errors and then see if it is positive definite.\n",
    "\n",
    "As we have seen many times before, Numpy provides a function for doing least squares linear regression. It returns more information about the fit than what we have done so far, and is a little more convenient because we do not have to do all the transposes and left multiplications.\n",
    "\n"
   ]
  },
  {
   "cell_type": "code",
   "execution_count": 24,
   "metadata": {},
   "outputs": [],
   "source": [
    "?np.linalg.lstsq"
   ]
  },
  {
   "cell_type": "code",
   "execution_count": 11,
   "metadata": {},
   "outputs": [
    {
     "data": {
      "text/plain": [
       "(array([ 4.99902596e-02, -2.97846318e-04,  1.34348481e-06, -3.48484825e-09,\n",
       "         3.69696923e-12]),\n",
       " array([1.05194827e-08]),\n",
       " 5,\n",
       " array([9.14856013e+09, 3.79175229e+06, 5.21123386e+03, 2.15423668e+01,\n",
       "        1.00603128e+00]))"
      ]
     },
     "execution_count": 11,
     "metadata": {},
     "output_type": "execute_result"
    }
   ],
   "source": [
    "pars, residuals, rank, singular_values = np.linalg.lstsq(X, Ca, rcond=None)\n",
    "pars, residuals, rank, singular_values"
   ]
  },
  {
   "cell_type": "code",
   "execution_count": 12,
   "metadata": {},
   "outputs": [
    {
     "data": {
      "text/plain": [
       "(1.5348867187497376e+43,\n",
       " array([[ 9.87012987e-01, -3.18903319e-02,  3.25757576e-04,\n",
       "         -1.31313131e-06,  1.81818182e-09],\n",
       "        [-3.18903319e-02,  3.18684464e-03, -4.69545455e-05,\n",
       "          2.29360269e-07, -3.57575758e-10],\n",
       "        [ 3.25757576e-04, -4.69545455e-05,  7.59747475e-07,\n",
       "         -3.90303030e-09,  6.28282828e-12],\n",
       "        [-1.31313131e-06,  2.29360269e-07, -3.90303030e-09,\n",
       "          2.06599327e-11, -3.39393939e-14],\n",
       "        [ 1.81818182e-09, -3.57575758e-10,  6.28282828e-12,\n",
       "         -3.39393939e-14,  5.65656566e-17]]))"
      ]
     },
     "execution_count": 12,
     "metadata": {},
     "output_type": "execute_result"
    }
   ],
   "source": [
    "# This determinant is huge.\n",
    "np.linalg.det(X.T @ X), np.linalg.inv(X.T @ X)"
   ]
  },
  {
   "cell_type": "markdown",
   "metadata": {},
   "source": [
    "The key points to note are that the rank is equal to the number of parameters we are estimating, which means we have enough information to get pretty good estimates of the parameters.\n",
    "\n"
   ]
  },
  {
   "cell_type": "markdown",
   "metadata": {},
   "source": [
    "### Confidence intervals on the parameters\n",
    "\n"
   ]
  },
  {
   "cell_type": "markdown",
   "metadata": {},
   "source": [
    "The confidence intervals reflect the range of values we are confident the true parameter lies in. Remember we are only *estimating* these parameters from a small amount of data.\n",
    "\n",
    "The degrees of freedom is roughly equal to the number of data points minus the number of parameters.\n",
    "\n",
    "We define $\\sigma^2 = SSE / dof$ where $SSE$ is the summed squared error, and $dof$ is the degrees of freedom.\n",
    "\n",
    "The covariance matrix is defined as $(\\mathbf{X}^T \\mathbf{X})^{-1}$. Finally, we compute the standard error on the parameters as:\n",
    "\n",
    "$\\mathbf{se} = \\sqrt{diag(\\sigma^2 cov)}$.\n",
    "\n",
    "This will be an array with one element for each parameter. You can think of this standard error as the uncertainty in the mean value of each parameter.\n",
    "\n",
    "The confidence intervals are finally computed by calculating a student t-value that accounts for the additional uncertainty we have because of the small number of degrees of freedom.\n",
    "\n"
   ]
  },
  {
   "cell_type": "code",
   "execution_count": 13,
   "metadata": {},
   "outputs": [
    {
     "name": "stdout",
     "output_type": "stream",
     "text": [
      " 5.00e-02 [ 4.9680e-02  5.0300e-02]\n",
      "-2.98e-04 [-3.1546e-04 -2.8023e-04]\n",
      " 1.34e-06 [ 1.0715e-06  1.6155e-06]\n",
      "-3.48e-09 [-4.9032e-09 -2.0665e-09]\n",
      " 3.70e-12 [ 1.3501e-12  6.0439e-12]\n"
     ]
    }
   ],
   "source": [
    "dof = len(Ca) - len(pars)  # This assumes len(pars) is less than len(Ca)\n",
    "errs = Ca - X @ pars\n",
    "sigma2 = np.sum(errs**2) / dof\n",
    "\n",
    "covariance = np.linalg.inv(X.T @ X)\n",
    "se = np.sqrt(np.diag(sigma2 * covariance))\n",
    "\n",
    "from scipy.stats.distributions import t\n",
    "alpha = 0.05  # 100*(1 - alpha) confidence level\n",
    "sT = t.ppf(1.0 - alpha/2.0, dof)  # student T multiplier\n",
    "\n",
    "CI = sT * se\n",
    "\n",
    "for beta, ci in zip(pars, CI):\n",
    "    print(f'{beta: 1.2e} [{beta - ci: 1.4e} {beta + ci: 1.4e}]')"
   ]
  },
  {
   "cell_type": "markdown",
   "metadata": {},
   "source": [
    "It is also common to estimate an $R^2$ value, where values close to one mean the model accounts for most of the variance in the data.\n",
    "\n"
   ]
  },
  {
   "cell_type": "code",
   "execution_count": 14,
   "metadata": {},
   "outputs": [
    {
     "name": "stdout",
     "output_type": "stream",
     "text": [
      "R^2 = 0.9999869672459532\n"
     ]
    }
   ],
   "source": [
    "SS_tot = np.sum((Ca - np.mean(Ca))**2)\n",
    "SS_err = np.sum(errs**2)\n",
    "\n",
    "#  http://en.wikipedia.org/wiki/Coefficient_of_determination\n",
    "Rsq = 1 - SS_err/SS_tot\n",
    "print('R^2 = {0}'.format(Rsq))"
   ]
  },
  {
   "cell_type": "markdown",
   "metadata": {},
   "source": [
    "Here we would say the model looks very good, but with the caveat that we fit five parameters to seven data points, and some of the parameters are very small, suggesting they may not be necessary (although they are in front of terms like x<sup>4</sup> which can be very large).\n",
    "\n",
    "Now you can use this model to interpolate new values in the fitted range. This is not a model you can extrapolate with though, *even though it is a linear model*. What is happening?\n",
    "\n"
   ]
  },
  {
   "cell_type": "code",
   "execution_count": 15,
   "metadata": {},
   "outputs": [
    {
     "data": {
      "image/png": "[encoded data removed]",
      "text/plain": [
       "<Figure size 432x288 with 1 Axes>"
      ]
     },
     "metadata": {
      "needs_background": "light"
     },
     "output_type": "display_data"
    }
   ],
   "source": [
    "newt = np.linspace(0, 700)\n",
    "\n",
    "newT = np.column_stack([newt**i for i in range(5)])\n",
    "newCa = newT @ pars\n",
    "\n",
    "plt.plot(time, Ca, 'b.')\n",
    "plt.plot(newt, newCa)\n",
    "plt.xlabel('Time')\n",
    "plt.ylabel('Ca');"
   ]
  },
  {
   "cell_type": "markdown",
   "metadata": {},
   "source": [
    "It is almost certainly not reasonable for the concentration of A to start increasing again after about 350 time units.\n",
    "\n"
   ]
  },
  {
   "cell_type": "markdown",
   "metadata": {},
   "source": [
    "## Regularization\n",
    "\n"
   ]
  },
  {
   "cell_type": "markdown",
   "metadata": {},
   "source": [
    "When we do linear regression we get a coefficient for every function in the model. However, there can be bad behavior with regular regression, especially for certain classes of functions, and when the functions are correlated with each other. To explore why this happens, we will look at some regression models of varying complexity. We start by looking at some data.\n",
    "\n"
   ]
  },
  {
   "cell_type": "code",
   "execution_count": 16,
   "metadata": {},
   "outputs": [
    {
     "data": {
      "text/plain": [
       "Text(0, 0.5, 'y')"
      ]
     },
     "execution_count": 16,
     "metadata": {},
     "output_type": "execute_result"
    },
    {
     "data": {
      "image/png": "[encoded data removed]",
      "text/plain": [
       "<Figure size 432x288 with 1 Axes>"
      ]
     },
     "metadata": {
      "needs_background": "light"
     },
     "output_type": "display_data"
    }
   ],
   "source": [
    "import numpy as np\n",
    "np.random.seed(10)  #Setting seed for reproducibility\n",
    "\n",
    "x = np.linspace(0.3, 1.5 * np.pi)\n",
    "y = np.sin(x) + np.random.normal(0, 0.15, len(x))\n",
    "\n",
    "%matplotlib inline\n",
    "import matplotlib.pyplot as plt\n",
    "plt.plot(x, y, 'b.')\n",
    "plt.xlabel('x')\n",
    "plt.ylabel('y')"
   ]
  },
  {
   "cell_type": "markdown",
   "metadata": {},
   "source": [
    "Our goal is to fit a linear regression model to this data. We want to avoid underfitting and overfitting. If we just fit polynomials to this data, we find some undesirable behavior. Let's look at fits up to a 12<sup>th</sup> order polynomials.\n",
    "\n"
   ]
  },
  {
   "cell_type": "code",
   "execution_count": 17,
   "metadata": {},
   "outputs": [
    {
     "name": "stdout",
     "output_type": "stream",
     "text": [
      "        x^12    x^11    x^10    x^9     x^8     x^7     x^6     x^5     x^4     x^3     x^2     x^1     x^0     \n",
      " 1   0.00    0.00    0.00    0.00    0.00    0.00    0.00    0.00    0.00    0.00    0.00   -0.47    1.40\n",
      " 3   0.00    0.00    0.00    0.00    0.00    0.00    0.00    0.00    0.00    0.09   -0.92    2.08   -0.33\n",
      " 6   0.00    0.00    0.00    0.00    0.00    0.00    0.01   -0.09    0.58   -1.80    2.37   -0.66    0.43\n",
      " 9   0.00    0.00    0.00   -0.00    0.10   -1.02    5.90  -20.81   46.10  -63.24   50.45  -19.91    3.34\n",
      "12   0.01   -0.21    2.83  -22.43   114.61  -395.70   940.66  -1541.20   1715.97  -1258.64   574.27  -144.86   15.53\n"
     ]
    },
    {
     "data": {
      "text/plain": [
       "<matplotlib.legend.Legend at 0x1bee9fe4c88>"
      ]
     },
     "execution_count": 17,
     "metadata": {},
     "output_type": "execute_result"
    },
    {
     "data": {
      "image/png": "[encoded data removed]",
      "text/plain": [
       "<Figure size 432x288 with 1 Axes>"
      ]
     },
     "metadata": {
      "needs_background": "light"
     },
     "output_type": "display_data"
    }
   ],
   "source": [
    "N = [1, 3, 6, 9, 12]\n",
    "\n",
    "print('       ', f''.join([f'x^{i:<6d}' for i in range(12, -1, -1)]))\n",
    "\n",
    "for i in N:\n",
    "    pars = np.polyfit(x, y, i)\n",
    "    p = np.zeros(13)\n",
    "    p[13 - (i + 1):] = pars\n",
    "    # This way of printing is to get columnar output\n",
    "    print(f'{i:2d}', f'  '.join([f'{j: 6.2f}' for j in p]))\n",
    "    plt.plot(x, y, 'b.')\n",
    "    plt.plot(x, np.polyval(pars, x), label=f'{i}')\n",
    "plt.legend()"
   ]
  },
  {
   "cell_type": "markdown",
   "metadata": {},
   "source": [
    "The most undesirable behavior is that the coefficients grow large, which puts a lot of weight in places we might not want. This also leads to *wiggles* in the fit, which are probably not reasonable. The solution to this issue is called *regularization*, which means we add a penalty to our objective function that serves to reduce the magnitude of the parameters. There are several approaches to regularization. In *ridge regression* we add an L<sub>2</sub> penalty to the parameters, i.e. the sum of the parameters squared. In *LASSO* regression we add an L<sub>1</sub> penalty to the parameters, i.e. the sum of the absolute values of the parameters.\n",
    "\n",
    "In *ridge regression* the parameters are driven by the penalty to become smaller. In *LASSO regression* as many of the parameters are driven to zero as possible.\n",
    "\n"
   ]
  },
  {
   "cell_type": "markdown",
   "metadata": {},
   "source": [
    "### Ridge regression\n",
    "\n"
   ]
  },
  {
   "cell_type": "markdown",
   "metadata": {},
   "source": [
    "In ridge regression we define our objective function to minimize the summed squared error as usual, and add a term proportional to the sum of the squared parameters.\n",
    "\n",
    "So, if our regression model looks like $\\mathbf{X} \\mathbf{\\beta} = \\mathbf{y}$ we seek to minimize:\n",
    "\n",
    "$(\\mathbf{y} - \\mathbf{X} \\mathbf{p})^T (\\mathbf{y} - \\mathbf{X} \\mathbf{p}) + \\lambda ||\\mathbf{p}||_2^2$\n",
    "\n",
    "Where $\\mathbf{p}$ are the fitting parameters, and $\\lambda$ is the proportionality constant.\n",
    "\n",
    "Finding the parameters is done by solving this modified normal equation:\n",
    "\n",
    "$(\\mathbf{Z}^T \\mathbf{Z} + \\lambda(\\mathbf{I} \\mathbf{p}) = \\mathbf{Z}^T \\mathbf{w}$\n",
    "\n",
    "We have changed variable names because it is considered important to standardize our variables:\n",
    "\n",
    "$\\mathbf{Z} = (\\mathbf{X} - mean(\\mathbf{X})) / std(\\mathbf{X})$\n",
    "\n",
    "Standardization means that the variable has a mean of 0 and a standard deviation of 1.\n",
    "and\n",
    "\n",
    "$\\mathbf{w} = (\\mathbf{y} - mean(\\mathbf{y})) / std(\\mathbf{y})$\n",
    "\n",
    "&lambda; is a parameter that affects the amount of *regularization*.\n",
    "\n",
    "It is common to *standardize* the input/output variables which means we make the average of each column equal to zero and scale them to have unit variance. Doing this eliminates the intercept from the model since it would then go through the point (0, 0).\n",
    "\n"
   ]
  },
  {
   "cell_type": "code",
   "execution_count": 41,
   "metadata": {},
   "outputs": [
    {
     "data": {
      "text/plain": [
       "(array([2.48293800e+06, 5.69542539e+05, 1.31727857e+05, 3.07737861e+04,\n",
       "        7.27890923e+03, 1.74895299e+03, 4.28974856e+02, 1.08219836e+02,\n",
       "        2.84377137e+01, 7.96966389e+00, 2.50619449e+00]),\n",
       " array([5.49844745e+06, 1.19967517e+06, 2.62434616e+05, 5.75785285e+04,\n",
       "        1.26746927e+04, 2.80017452e+03, 6.20905075e+02, 1.38066119e+02,\n",
       "        3.06634869e+01, 6.68612694e+00, 1.29948184e+00]))"
      ]
     },
     "execution_count": 41,
     "metadata": {},
     "output_type": "execute_result"
    }
   ],
   "source": [
    "X = np.vander(x, 12)[:, 0:-1] # since we standardize we do not consider the last column of ones.\n",
    "xmean = X.mean(axis=0)  # average of every column\n",
    "xstd = X.std(axis=0)\n",
    "xmean, xstd"
   ]
  },
  {
   "cell_type": "markdown",
   "metadata": {},
   "source": [
    "We standardize the input vector like this.\n",
    "\n"
   ]
  },
  {
   "cell_type": "code",
   "execution_count": 42,
   "metadata": {},
   "outputs": [
    {
     "data": {
      "text/plain": [
       "array([[-4.51570742e-01, -4.74747292e-01, -5.01945433e-01,\n",
       "        -5.34466351e-01, -5.74286823e-01, -6.24586878e-01,\n",
       "        -6.90882461e-01, -7.83767494e-01, -9.26532389e-01,\n",
       "        -1.17850947e+00, -1.69774938e+00],\n",
       "       [-4.51570742e-01, -4.74747292e-01, -5.01945432e-01,\n",
       "        -5.34466343e-01, -5.74286732e-01, -6.24585880e-01,\n",
       "        -6.90871835e-01, -7.83658517e-01, -9.25477673e-01,\n",
       "        -1.16921589e+00, -1.62845348e+00],\n",
       "       [-4.51570742e-01, -4.74747291e-01, -5.01945428e-01,\n",
       "        -5.34466303e-01, -5.74286377e-01, -6.24582765e-01,\n",
       "        -6.90845295e-01, -7.83441365e-01, -9.23804082e-01,\n",
       "        -1.15749676e+00, -1.55915759e+00],\n",
       "       [-4.51570742e-01, -4.74747289e-01, -5.01945409e-01,\n",
       "        -5.34466158e-01, -5.74285295e-01, -6.24574871e-01,\n",
       "        -6.90789345e-01, -7.83060815e-01, -9.21368736e-01,\n",
       "        -1.14335208e+00, -1.48986170e+00],\n",
       "       [-4.51570740e-01, -4.74747279e-01, -5.01945342e-01,\n",
       "        -5.34465725e-01, -5.74282527e-01, -6.24557568e-01,\n",
       "        -6.90684382e-01, -7.82450214e-01, -9.18028759e-01,\n",
       "        -1.12678184e+00, -1.42056580e+00],\n",
       "       [-4.51570734e-01, -4.74747245e-01, -5.01945146e-01,\n",
       "        -5.34464609e-01, -5.74276285e-01, -6.24523454e-01,\n",
       "        -6.90503562e-01, -7.81531480e-01, -9.13641275e-01,\n",
       "        -1.10778605e+00, -1.35126991e+00],\n",
       "       [-4.51570715e-01, -4.74747145e-01, -5.01944637e-01,\n",
       "        -5.34462035e-01, -5.74263502e-01, -6.24461420e-01,\n",
       "        -6.90211649e-01, -7.80215100e-01, -9.08063405e-01,\n",
       "        -1.08636471e+00, -1.28197402e+00],\n",
       "       [-4.51570660e-01, -4.74746887e-01, -5.01943444e-01,\n",
       "        -5.34456605e-01, -5.74239246e-01, -6.24355575e-01,\n",
       "        -6.89763875e-01, -7.78400133e-01, -9.01152273e-01,\n",
       "        -1.06251781e+00, -1.21267813e+00],\n",
       "       [-4.51570515e-01, -4.74746272e-01, -5.01940864e-01,\n",
       "        -5.34445941e-01, -5.74195969e-01, -6.24184038e-01,\n",
       "        -6.89104793e-01, -7.75974208e-01, -8.92765001e-01,\n",
       "        -1.03624537e+00, -1.14338223e+00],\n",
       "       [-4.51570166e-01, -4.74744915e-01, -5.01935651e-01,\n",
       "        -5.34426201e-01, -5.74122583e-01, -6.23917588e-01,\n",
       "        -6.88167132e-01, -7.72813523e-01, -8.82758712e-01,\n",
       "        -1.00754736e+00, -1.07408634e+00],\n",
       "       [-4.51569385e-01, -4.74742109e-01, -5.01925700e-01,\n",
       "        -5.34391431e-01, -5.74003332e-01, -6.23518179e-01,\n",
       "        -6.86870658e-01, -7.68782848e-01, -8.70990530e-01,\n",
       "        -9.76423809e-01, -1.00479045e+00],\n",
       "       [-4.51567734e-01, -4.74736610e-01, -5.01907597e-01,\n",
       "        -5.34332723e-01, -5.73816455e-01, -6.22937319e-01,\n",
       "        -6.85121022e-01, -7.63735521e-01, -8.57317576e-01,\n",
       "        -9.42874701e-01, -9.35494554e-01],\n",
       "       [-4.51564426e-01, -4.74726323e-01, -5.01876003e-01,\n",
       "        -5.34237136e-01, -5.73532609e-01, -6.22114310e-01,\n",
       "        -6.82808621e-01, -7.57513453e-01, -8.41596974e-01,\n",
       "        -9.06900040e-01, -8.66198661e-01],\n",
       "       [-4.51558086e-01, -4.74707848e-01, -5.01822825e-01,\n",
       "        -5.34086359e-01, -5.73113040e-01, -6.20974352e-01,\n",
       "        -6.79807452e-01, -7.49947124e-01, -8.23685847e-01,\n",
       "        -8.68499826e-01, -7.96902768e-01],\n",
       "       [-4.51546408e-01, -4.74675829e-01, -5.01736113e-01,\n",
       "        -5.33855050e-01, -5.72507477e-01, -6.19426512e-01,\n",
       "        -6.75973970e-01, -7.40855583e-01, -8.03441317e-01,\n",
       "        -8.27674058e-01, -7.27606875e-01],\n",
       "       [-4.51525640e-01, -4.74622064e-01, -5.01598643e-01,\n",
       "        -5.33508826e-01, -5.71651739e-01, -6.17361549e-01,\n",
       "        -6.71145938e-01, -7.30046452e-01, -7.80720507e-01,\n",
       "        -7.84422737e-01, -6.58310982e-01],\n",
       "       [-4.51489843e-01, -4.74534294e-01, -5.01386096e-01,\n",
       "        -5.33001847e-01, -5.70465023e-01, -6.14649610e-01,\n",
       "        -6.65141290e-01, -7.17315922e-01, -7.55380541e-01,\n",
       "        -7.38745863e-01, -5.89015089e-01],\n",
       "       [-4.51429851e-01, -4.74394585e-01, -5.01064773e-01,\n",
       "        -5.32273944e-01, -5.68846867e-01, -6.11137786e-01,\n",
       "        -6.57756980e-01, -7.02448753e-01, -7.27278540e-01,\n",
       "        -6.90643436e-01, -5.19719197e-01],\n",
       "       [-4.51331820e-01, -4.74177215e-01, -5.00588757e-01,\n",
       "        -5.31247233e-01, -5.66673761e-01, -6.06647526e-01,\n",
       "        -6.48767842e-01, -6.85218278e-01, -6.96271628e-01,\n",
       "        -6.40115456e-01, -4.50423304e-01],\n",
       "       [-4.51175268e-01, -4.73845932e-01, -4.99896422e-01,\n",
       "        -5.29822175e-01, -5.63795386e-01, -6.00971924e-01,\n",
       "        -6.37925445e-01, -6.65386397e-01, -6.62216927e-01,\n",
       "        -5.87161922e-01, -3.81127411e-01],\n",
       "       [-4.50930433e-01, -4.73350456e-01, -4.98906179e-01,\n",
       "        -5.27872994e-01, -5.60030473e-01, -5.93872859e-01,\n",
       "        -6.24956946e-01, -6.42703584e-01, -6.24971561e-01,\n",
       "        -5.31782835e-01, -3.11831518e-01],\n",
       "       [-4.50554779e-01, -4.72622055e-01, -4.97511360e-01,\n",
       "        -5.25242416e-01, -5.55162243e-01, -5.85078002e-01,\n",
       "        -6.09563951e-01, -6.16908880e-01, -5.84392652e-01,\n",
       "        -4.73978195e-01, -2.42535625e-01],\n",
       "       [-4.49988437e-01, -4.71568022e-01, -4.95574092e-01,\n",
       "        -5.21735651e-01, -5.48933434e-01, -5.74277690e-01,\n",
       "        -5.91421364e-01, -5.87729898e-01, -5.40337323e-01,\n",
       "        -4.13748002e-01, -1.73239732e-01],\n",
       "       [-4.49148311e-01, -4.70064831e-01, -4.92918028e-01,\n",
       "        -5.17113546e-01, -5.41040868e-01, -5.61121654e-01,\n",
       "        -5.70176249e-01, -5.54882822e-01, -4.92662697e-01,\n",
       "        -3.51092256e-01, -1.03943839e-01],\n",
       "       [-4.47920532e-01, -4.67949738e-01, -4.89319788e-01,\n",
       "        -5.11084845e-01, -5.31129568e-01, -5.45215618e-01,\n",
       "        -5.45446680e-01, -5.18072404e-01, -4.41225896e-01,\n",
       "        -2.86010957e-01, -3.46479464e-02],\n",
       "       [-4.46150923e-01, -4.65010553e-01, -4.84498932e-01,\n",
       "        -5.03297473e-01, -5.18786380e-01, -5.26117757e-01,\n",
       "        -5.16820602e-01, -4.76991968e-01, -3.85884044e-01,\n",
       "        -2.18504104e-01,  3.46479464e-02],\n",
       "       [-4.43633011e-01, -4.60973281e-01, -4.78106295e-01,\n",
       "        -4.93328776e-01, -5.03533098e-01, -5.03335016e-01,\n",
       "        -4.83854684e-01, -4.31323408e-01, -3.26494263e-01,\n",
       "        -1.48571698e-01,  1.03943839e-01],\n",
       "       [-4.40093118e-01, -4.55487286e-01, -4.69710486e-01,\n",
       "        -4.80674622e-01, -4.84819068e-01, -4.76319301e-01,\n",
       "        -4.46073173e-01, -3.80737188e-01, -2.62913676e-01,\n",
       "        -7.62137395e-02,  1.73239732e-01],\n",
       "       [-4.35171939e-01, -4.48107595e-01, -4.58782343e-01,\n",
       "        -4.64737294e-01, -4.62013247e-01, -4.44463517e-01,\n",
       "        -4.02966752e-01, -3.24892342e-01, -1.94999407e-01,\n",
       "        -1.43022735e-03,  2.42535625e-01],\n",
       "       [-4.28401952e-01, -4.38273928e-01, -4.44677116e-01,\n",
       "        -4.44812071e-01, -4.34395702e-01, -4.07097488e-01,\n",
       "        -3.53991397e-01, -2.63436476e-01, -1.22608577e-01,\n",
       "         7.57788380e-02,  3.11831518e-01],\n",
       "       [-4.19179897e-01, -4.25285966e-01, -4.26614151e-01,\n",
       "        -4.20072423e-01, -4.01148538e-01, -3.63483722e-01,\n",
       "        -2.98567230e-01, -1.96005764e-01, -4.55983098e-02,\n",
       "         1.55413456e-01,  3.81127411e-01],\n",
       "       [-4.06733459e-01, -4.08274358e-01, -4.03653801e-01,\n",
       "        -3.89553717e-01, -3.61346216e-01, -3.12813055e-01,\n",
       "        -2.36077376e-01, -1.22224952e-01,  3.61742720e-02,\n",
       "         2.37473628e-01,  4.50423304e-01],\n",
       "       [-3.90081174e-01, -3.86166876e-01, -3.74671306e-01,\n",
       "        -3.52135338e-01, -3.13945264e-01, -2.54200142e-01,\n",
       "        -1.65866816e-01, -4.17073557e-02,  1.22852045e-01,\n",
       "         3.21959353e-01,  5.19719197e-01],\n",
       "       [-3.67984439e-01, -3.57649112e-01, -3.38327344e-01,\n",
       "        -3.06521131e-01, -2.57773345e-01, -1.86678824e-01,\n",
       "        -8.72412479e-02,  4.59451396e-02,  2.14577888e-01,\n",
       "         4.08870631e-01,  5.89015089e-01],\n",
       "       [-3.38890377e-01, -3.21119011e-01, -2.93034947e-01,\n",
       "        -2.51218052e-01, -1.91517670e-01, -1.09197354e-01,\n",
       "         5.34061721e-04,  1.41142077e-01,  3.11494676e-01,\n",
       "         4.98207462e-01,  6.58310982e-01],\n",
       "       [-3.00864144e-01, -2.74634512e-01, -2.36922456e-01,\n",
       "        -1.84512937e-01, -1.13712744e-01, -2.06134791e-02,\n",
       "         9.82354210e-02,  2.44304431e-01,  4.13745288e-01,\n",
       "         5.89969846e-01,  7.27606875e-01],\n",
       "       [-2.51509103e-01, -2.15853466e-01, -1.67792168e-01,\n",
       "        -1.04447268e-01, -2.27274078e-02,  8.03106034e-02,\n",
       "         2.06681857e-01,  3.55864604e-01,  5.21472600e-01,\n",
       "         6.84157784e-01,  7.96902768e-01],\n",
       "       [-1.87873098e-01, -1.41964957e-01, -8.30743082e-02,\n",
       "        -8.78982265e-03,  8.32488271e-02,  1.94913435e-01,\n",
       "         3.26736260e-01,  4.76266428e-01,  6.34819489e-01,\n",
       "         7.80771275e-01,  8.66198661e-01],\n",
       "       [-1.06338869e-01, -4.96110640e-02,  2.02240515e-02,\n",
       "         1.04992888e-01,  2.06220175e-01,  3.24639619e-01,\n",
       "         4.59306528e-01,  6.05965167e-01,  7.53928834e-01,\n",
       "         8.79810319e-01,  9.35494554e-01],\n",
       "       [-2.49643730e-03,  6.52019706e-02,  1.45575543e-01,\n",
       "         2.39768535e-01,  3.48399725e-01,  4.71045281e-01,\n",
       "         6.05346710e-01,  7.45427513e-01,  8.78943510e-01,\n",
       "         9.81274916e-01,  1.00479045e+00],\n",
       "       [ 1.29004954e-01,  2.07204286e-01,  2.96994943e-01,\n",
       "         3.98773349e-01,  5.12225361e-01,  6.35803666e-01,\n",
       "         7.65858153e-01,  8.95131587e-01,  1.01000640e+00,\n",
       "         1.08516507e+00,  1.07408634e+00],\n",
       "       [ 2.94628003e-01,  3.81975864e-01,  4.79107950e-01,\n",
       "         5.85649077e-01,  7.00376467e-01,  8.20710876e-01,\n",
       "         9.41890643e-01,  1.05556694e+00,  1.14726037e+00,\n",
       "         1.19148077e+00,  1.14338223e+00],\n",
       "       [ 5.02144550e-01,  5.96074200e-01,  6.97226779e-01,\n",
       "         8.04482658e-01,  9.15791446e-01,  1.02769174e+00,\n",
       "         1.13454355e+00,  1.22723456e+00,  1.29084830e+00,\n",
       "         1.30022203e+00,  1.21267813e+00],\n",
       "       [ 7.60862016e-01,  8.57177583e-01,  9.57433060e-01,\n",
       "         1.05984875e+00,  1.16168606e+00,  1.25880581e+00,\n",
       "         1.34496698e+00,  1.41064685e+00,  1.44091308e+00,\n",
       "         1.41138884e+00,  1.28197402e+00],\n",
       "       [ 1.08188264e+00,  1.17424545e+00,  1.26666856e+00,\n",
       "         1.35685520e+00,  1.44157263e+00,  1.51625355e+00,\n",
       "         1.57436289e+00,  1.60632765e+00,  1.59759757e+00,\n",
       "         1.52498120e+00,  1.35126991e+00],\n",
       "       [ 1.47839937e+00,  1.55769746e+00,  1.63283424e+00,\n",
       "         1.70119168e+00,  1.75928006e+00,  1.80238255e+00,\n",
       "         1.82398629e+00,  1.81481224e+00,  1.76104466e+00,\n",
       "         1.64099911e+00,  1.42056580e+00],\n",
       "       [ 1.96603258e+00,  2.01961291e+00,  2.06489834e+00,\n",
       "         2.09918153e+00,  2.11897482e+00,  2.11969402e+00,\n",
       "         2.09514633e+00,  2.03664731e+00,  1.93139722e+00,\n",
       "         1.75944258e+00,  1.48986170e+00],\n",
       "       [ 2.56321233e+00,  2.57395238e+00,  2.57301382e+00,\n",
       "         2.55783700e+00,  2.52518276e+00,  2.47084929e+00,\n",
       "         2.38920747e+00,  2.27239100e+00,  2.10879813e+00,\n",
       "         1.88031161e+00,  1.55915759e+00],\n",
       "       [ 3.29161100e+00,  3.23680354e+00,  3.16864609e+00,\n",
       "         3.08491801e+00,  2.98281189e+00,  2.85867654e+00,\n",
       "         2.70759061e+00,  2.52261286e+00,  2.29339027e+00,\n",
       "         2.00360618e+00,  1.62845348e+00],\n",
       "       [ 4.17663195e+00,  4.02665312e+00,  3.86471144e+00,\n",
       "         3.68899469e+00,  3.49717607e+00,  3.28617760e+00,\n",
       "         3.05177426e+00,  2.78789388e+00,  2.48531651e+00,\n",
       "         2.12932631e+00,  1.69774938e+00]])"
      ]
     },
     "execution_count": 42,
     "metadata": {},
     "output_type": "execute_result"
    }
   ],
   "source": [
    "Z = (X - xmean) / xstd\n",
    "Z"
   ]
  },
  {
   "cell_type": "markdown",
   "metadata": {},
   "source": [
    "Here we just confirm we have standardized all the columns. The only one that stands out is the column of ones, which does not have unit standard deviation.\n",
    "\n"
   ]
  },
  {
   "cell_type": "code",
   "execution_count": 43,
   "metadata": {},
   "outputs": [
    {
     "name": "stdout",
     "output_type": "stream",
     "text": [
      "[-0. -0.  0.  0.  0. -0.  0.  0.  0. -0.  0.] [1. 1. 1. 1. 1. 1. 1. 1. 1. 1. 1.]\n"
     ]
    }
   ],
   "source": [
    "with np.printoptions(suppress=True):\n",
    "    print(Z.mean(axis=0), Z.std(axis=0))"
   ]
  },
  {
   "cell_type": "markdown",
   "metadata": {},
   "source": [
    "We similarly standardize the y data.\n",
    "\n"
   ]
  },
  {
   "cell_type": "code",
   "execution_count": 44,
   "metadata": {},
   "outputs": [],
   "source": [
    "ymean = y.mean()\n",
    "ystd = y.std()\n",
    "\n",
    "w = (y - ymean) / ystd"
   ]
  },
  {
   "cell_type": "markdown",
   "metadata": {},
   "source": [
    "To get an estimate of the parameters we have to specify a value of &lambda;. If we set &lambda;=0, we have regular linear regression. If we set &lambda;=&infin;, all the weights will go to zero. We need something in between. It is a good idea to try several values of &lambda; from a very small value to a large value, on a log scale.\n",
    "\n"
   ]
  },
  {
   "cell_type": "code",
   "execution_count": 45,
   "metadata": {
    "scrolled": true
   },
   "outputs": [
    {
     "name": "stdout",
     "output_type": "stream",
     "text": [
      "lambda      x^11         x^10         x^9          x^8          x^7          x^6          x^5          x^4          x^3          x^2          x^1          \n",
      "     0 -34195.37 191575.60-466614.45 648939.70-569731.62 330263.45-128905.09 34080.70-6068.14  694.85  -40.46\n",
      " 1e-13 -13094.53 64037.60-128468.90 132101.66-66385.95 4380.21 13092.96-7134.16 1623.91 -158.53    4.92\n",
      "3.2e-10 -1054.79 3732.41-3866.46 -865.30 3642.47 -286.71-3426.20 3217.32-1354.26  284.92  -24.21\n",
      " 1e-06   -11.38    6.95   17.29    8.03  -18.81  -29.90   13.53   55.80  -61.16   19.93   -1.06\n",
      "0.0032    -0.28   -0.10    0.10    0.32    0.54    0.63    0.39   -0.43   -1.76   -2.04    1.87\n",
      "    10     0.11    0.08    0.04   -0.01   -0.06   -0.11   -0.17   -0.22   -0.25   -0.22   -0.06\n"
     ]
    },
    {
     "data": {
      "text/plain": [
       "<matplotlib.legend.Legend at 0x1beeb299688>"
      ]
     },
     "execution_count": 45,
     "metadata": {},
     "output_type": "execute_result"
    },
    {
     "data": {
      "image/png": "[encoded data removed]",
      "text/plain": [
       "<Figure size 432x288 with 1 Axes>"
      ]
     },
     "metadata": {
      "needs_background": "light"
     },
     "output_type": "display_data"
    }
   ],
   "source": [
    "lambdas = np.concatenate([[0], np.geomspace(1e-13, 10, 5)])\n",
    "\n",
    "print('lambda     ', f''.join([f'x^{i:<11d}' for i in range(len(X[0]), 0, -1)]))\n",
    "for lam in lambdas:\n",
    "    l2p = np.linalg.solve(Z.T @ Z + lam * np.eye(len(Z[0])), Z.T @ w)\n",
    "    p = np.zeros(len(X[0]))\n",
    "    p[len(X[0] + 2) - len(l2p):] = l2p\n",
    "    # This way of printing is to get columnar output\n",
    "    print(f'{lam:6.2g}', f''.join([f'{j: 8.2f}' for j in p]))\n",
    "    plt.plot(x, y, 'b.')\n",
    "    plt.plot(x, (Z @ l2p) * ystd + ymean, label=f'{lam:1.2g}')\n",
    "plt.legend()"
   ]
  },
  {
   "cell_type": "markdown",
   "metadata": {},
   "source": [
    "One way people have evaluated a reasonable value of &lambda; is to look at how the coefficients vary with &lambda; using a *ridge plot*. In this plot, you look for a range that balances the large swings associated with regular unconstrained regression and the damping caused by large values of &lambda;. Here a value of $10^{-6} \\le \\lambda \\le 10^{-8}$ would be considered reasonable.\n",
    "\n"
   ]
  },
  {
   "cell_type": "code",
   "execution_count": 48,
   "metadata": {},
   "outputs": [
    {
     "data": {
      "text/plain": [
       "Text(0, 0.5, 'parameters')"
      ]
     },
     "execution_count": 48,
     "metadata": {},
     "output_type": "execute_result"
    },
    {
     "data": {
      "image/png": "[encoded data removed]",
      "text/plain": [
       "<Figure size 432x288 with 1 Axes>"
      ]
     },
     "metadata": {
      "needs_background": "light"
     },
     "output_type": "display_data"
    }
   ],
   "source": [
    "lambdas = np.geomspace(1e-10, 1e-5)\n",
    "\n",
    "pars = np.zeros((11, len(lambdas)))\n",
    "\n",
    "for i, lam in enumerate(lambdas):\n",
    "    l2p = np.linalg.solve(Z.T @ Z + lam * np.eye(len(Z[0])), Z.T @ w)\n",
    "    pars[:, i] = l2p\n",
    "\n",
    "plt.semilogx(lambdas, pars.T)\n",
    "plt.xlabel(r'$\\lambda$')\n",
    "plt.ylabel('parameters')"
   ]
  },
  {
   "cell_type": "markdown",
   "metadata": {},
   "source": [
    "### LASSO regression\n",
    "\n"
   ]
  },
  {
   "cell_type": "markdown",
   "metadata": {},
   "source": [
    "In LASSO regression, we seek to minimize the summed squared errors *plus* the sum of the absolute value of the parameters. Unlike linear least squares regression and ridge regression, there is no analytical solution to get the parameters; they can only be obtained numerically using an iterative solver. We again have a parameter &lambda; we have to choose. Setting this parameter to zero will be equivalent to normal linear regression. Setting this parameter to infinity will again cause all coefficients to go to zero. We again have to find a balance.\n",
    "\n"
   ]
  },
  {
   "cell_type": "code",
   "execution_count": 49,
   "metadata": {},
   "outputs": [
    {
     "data": {
      "text/plain": [
       "array([1.77147e-06, 5.90490e-06, 1.96830e-05, 6.56100e-05, 2.18700e-04,\n",
       "       7.29000e-04, 2.43000e-03, 8.10000e-03, 2.70000e-02, 9.00000e-02,\n",
       "       3.00000e-01])"
      ]
     },
     "execution_count": 49,
     "metadata": {},
     "output_type": "execute_result"
    }
   ],
   "source": [
    "X[0]"
   ]
  },
  {
   "cell_type": "code",
   "execution_count": 50,
   "metadata": {},
   "outputs": [
    {
     "name": "stdout",
     "output_type": "stream",
     "text": [
      "Optimization terminated successfully. [-1975.576  5999.169 -5580.338   231.586  2158.667  -823.823     0.\n",
      "   -24.956    -0.       17.839    -3.42 ]\n"
     ]
    },
    {
     "data": {
      "text/plain": [
       "[<matplotlib.lines.Line2D at 0x1beebc1c348>]"
      ]
     },
     "execution_count": 50,
     "metadata": {},
     "output_type": "execute_result"
    },
    {
     "data": {
      "image/png": "[encoded data removed]",
      "text/plain": [
       "<Figure size 432x288 with 1 Axes>"
      ]
     },
     "metadata": {
      "needs_background": "light"
     },
     "output_type": "display_data"
    }
   ],
   "source": [
    "def objective(pars, lam=0.0):\n",
    "    SSE = np.sum(np.square(y - ((Z @ pars) * ystd + ymean)))\n",
    "    return SSE + lam * np.sum(np.abs(pars))\n",
    "\n",
    "from scipy.optimize import minimize\n",
    "sol = minimize(objective, pars[:, 0], args=(0.002,),\n",
    "               method='nelder-mead', options={'maxiter': 5000}\n",
    "              )\n",
    "              \n",
    "np.set_printoptions(suppress=True, precision=3) # prints small numbers as practically zero\n",
    "print(sol.message, sol.x)\n",
    "\n",
    "plt.plot(x, y, 'b.')\n",
    "plt.plot(x, (Z @ sol.x) * ystd + ymean)"
   ]
  },
  {
   "cell_type": "markdown",
   "metadata": {},
   "source": [
    "Now, we can explore the effect of &lambda; more thoroughly.\n",
    "\n"
   ]
  },
  {
   "cell_type": "code",
   "execution_count": 51,
   "metadata": {},
   "outputs": [
    {
     "name": "stdout",
     "output_type": "stream",
     "text": [
      "lambda      x^11         x^10         x^9          x^8          x^7          x^6          x^5          x^4          x^3          x^2          x^1          \n",
      "       0    129.57  -284.78    -1.65   282.45   101.17  -311.47  -169.39   498.57  -326.76    89.89    -8.39\n",
      "   1e-05     62.80  -143.69   -10.67   187.94    16.71  -168.53   -95.07   308.72  -214.48    60.91    -5.42\n",
      " 0.00032      0.01    -0.00     0.01    -0.02    -0.53     0.84     1.61     1.03    -4.72    -0.71     1.70\n",
      "    0.01     -0.07     0.00    -0.00     0.00     0.66     0.45    -0.00     0.00    -0.99    -2.90     2.08\n",
      "    0.32      0.32     0.26    -0.00     0.00     0.00     0.00     0.00    -0.00    -1.99    -0.00     0.60\n",
      "      10      0.00    -0.00    -0.00    -0.00    -0.00    -0.01    -0.12    -0.35    -0.17    -0.08    -0.04\n"
     ]
    },
    {
     "data": {
      "text/plain": [
       "<matplotlib.legend.Legend at 0x1beebd17988>"
      ]
     },
     "execution_count": 51,
     "metadata": {},
     "output_type": "execute_result"
    },
    {
     "data": {
      "image/png": "[encoded data removed]",
      "text/plain": [
       "<Figure size 432x288 with 1 Axes>"
      ]
     },
     "metadata": {
      "needs_background": "light"
     },
     "output_type": "display_data"
    }
   ],
   "source": [
    "lambdas = np.concatenate([[0], np.geomspace(1e-5, 10, 5)])\n",
    "\n",
    "print('lambda     ', f''.join([f'x^{i:<11d}' for i in range(len(X[0]), 0, -1)]))\n",
    "for lam in lambdas:\n",
    "    sol = minimize(objective, np.random.random(len(Z[0])), (lam,),\n",
    "                   options={'maxiter': 5000})\n",
    "\n",
    "    # This way of printing is to get columnar output\n",
    "    print(f'{lam:8.2g}', f''.join([f'{j: 9.2f}' for j in sol.x]))\n",
    "    plt.plot(x, y, 'b.')\n",
    "    plt.plot(x, (Z @ sol.x) * ystd + ymean, label=f'{lam:1.2g}')\n",
    "plt.legend()"
   ]
  },
  {
   "cell_type": "markdown",
   "metadata": {},
   "source": [
    "You can see that by increasing &lambda; we are making more and more of the parameters go to zero; in other words the functions they correspond to are not part of the model any longer. This is called sparsifying the model. It reduces over-fitting by reducing the model complexity. Finding the most suitable value for &lambda; requires some sophisticated programming and analysis, and it is an important topic in machine learning and data science.\n",
    "\n",
    "LASSO has some important benefits, and some disadvantanges. The benefits include sparsification of the model; the method removes inputs that are not needed, or that are highly correlated with other inputs. This can make models more interpretable as there are fewer terms, and the terms are more independent.\n",
    "\n",
    "The disadvantages, however, are that we cannot use linear algebra to find the parameters. The penalty imposes a nonlinear behavior to the objective function, so we must use an iterative solver. For features that are correlated, we have no control over which feature is eliminated. Different initial guesses may lead to different feature elimination. If the features are really correlated, this will not affect the fit quality, but it will mean some models favor one feature over another. This is less of a problem in polynomial models, but often a problem in models based on physical properties that are correlated, e.g. high melting points of materials tend to be correlated with how hard they are. With LASSO, one model could favor the melting point and another could favor the hardness.\n",
    "\n"
   ]
  },
  {
   "cell_type": "markdown",
   "metadata": {},
   "source": [
    "### Advanced selection of \\lambda\n",
    "\n"
   ]
  },
  {
   "cell_type": "markdown",
   "metadata": {},
   "source": [
    "A more advanced way to select a value of &lambda; is called k-fold validation. It is complex to code this, and the standard method to do it is in [scikit-learn](https://scikit-learn.org/stable/index.html), see specifically the [ridge regression example](https://scikit-learn.org/stable/modules/linear_model.html#ridge-regression) and the  [LASSO example](https://scikit-learn.org/stable/modules/linear_model.html#lasso). The basic idea is that you split your data set into $k$ *folds*, and then you fit $k-1$ folds to get the paramters. On the remaining fold (which was not used for fitting) you estimate the model errors. Initially with no regularization, the errors will be high due to overfitting. As you add regularization, the errors will begin decrease. Eventually though, the model will start underfitting, and the errors will go back up. The &lambda; that provides the lowest test errors is usually considered the best choice.\n",
    "\n",
    "We will not cover these more advanced methods as they rely on learning the scikit-learn API in depth, and some other higher level Python libraries we have not covered like Pandas. These are more appropriate in a data science/machine learning focused course.\n",
    "\n"
   ]
  },
  {
   "cell_type": "markdown",
   "metadata": {},
   "source": [
    "## Summary\n",
    "\n"
   ]
  },
  {
   "cell_type": "markdown",
   "metadata": {},
   "source": [
    "In this lecture we introduced the concept of linear regression. In the normal linear regression, we simply solve linear equations that ultimately minimize the summed squared errors between the model and data. With some additional linear algebra, we can also estimate the confidence intervals on the parameters.\n",
    "\n",
    "One issue with normal linear regression is that the parameters are unconstrained, which can lead to some functions having undesirably large parameters. We introduced two types of *regularization* to mitigate this issue: ridge regression and LASSO regression. In both cases, a penalty function is added to the objective function being minimized. In ridge regression the penalty is an L2 norm on the parameters which penalizes large parameters, leading to a reduction in their magnitude. In LASSO reduction the penalty is an L1 norm, which drives parameters towards zero. Both methods rely on a hyperparameter &lambda; that determines how much regularization is applied. With both regularization approaches we have to use some judgment in how much regularization to apply (the magnitude of &lambda;), and we only provided a heuristic approach to doing this.\n",
    "\n"
   ]
  },
  {
   "cell_type": "code",
   "execution_count": null,
   "metadata": {},
   "outputs": [],
   "source": []
  },
  {
   "cell_type": "code",
   "execution_count": null,
   "metadata": {},
   "outputs": [],
   "source": []
  }
 ],
 "metadata": {
  "kernelspec": {
   "display_name": "Python 3",
   "language": "python",
   "name": "python3"
  },
  "language_info": {
   "codemirror_mode": {
    "name": "ipython",
    "version": 3
   },
   "file_extension": ".py",
   "mimetype": "text/x-python",
   "name": "python",
   "nbconvert_exporter": "python",
   "pygments_lexer": "ipython3",
   "version": "3.7.6"
  },
  "org": {
   "KEYWORDS": "numpy.linalg.solve"
  }
 },
 "nbformat": 4,
 "nbformat_minor": 4
}
