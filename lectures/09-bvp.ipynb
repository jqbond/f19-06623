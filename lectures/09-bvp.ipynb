{
 "cells": [
  {
   "cell_type": "markdown",
   "metadata": {},
   "source": [
    "- KEYWORDS: scipy.integrate.solve_bvp, numpy.polyfit\n"
   ]
  },
  {
   "cell_type": "markdown",
   "metadata": {},
   "source": [
    "## Solving nonlinear BVPs by finite differences\n",
    "\n"
   ]
  },
  {
   "cell_type": "markdown",
   "metadata": {},
   "source": [
    "Adapted from Example 8.7 in <span class=\"underline\">Numerical Methods in Engineering with Python</span> by Jaan Kiusalaas.\n",
    "\n",
    "We want to solve $y''(x) = -3 y(x) y'(x)$ with $y(0) = 0$ and $y(2) = 1$.\n",
    "\n",
    "This is a boundary value problem *not an initial value problem*. First we consider using a finite difference method. We discretize the region and approximate the derivatives as:\n",
    "\n",
    "$y''(x) \\approx \\frac{y_{i-1} - 2 y_i + y_{i+1}}{h^2} $\n",
    "\n",
    "$y'(x) \\approx \\frac{y_{i+1} - y_{i-1}}{2 h} $\n",
    "\n",
    "We define a function $y''(x) = F(x, y, y')$. At each node in our discretized region, we will have an equation that looks like $y''(x) - F(x, y, y') = 0$, which will be nonlinear in the unknown solution $y$. The set of equations to solve is:\n",
    "\n",
    "\\begin{eqnarray}\n",
    "y_0 - \\alpha &=& 0 \\\\\n",
    "\\frac{y_{i-1} - 2 y_i + y_{i+1}}{h^2} + (3 y_i) (\\frac{y_{i+1} - y_{i-1}}{2 h}) &=& 0 \\\\\n",
    "y_L - \\beta &=&0\n",
    "\\end{eqnarray}\n",
    "\n",
    "Since we use a nonlinear solver, we will have to provide an initial guess to the solution. We will in this case assume a line. In other cases, a bad initial guess may lead to no solution.\n",
    "\n"
   ]
  },
  {
   "cell_type": "code",
   "execution_count": 2,
   "metadata": {},
   "outputs": [],
   "source": [
    "import numpy as np\n",
    "from scipy.optimize import fsolve\n",
    "%matplotlib inline\n",
    "import matplotlib.pyplot as plt\n",
    "\n",
    "x1 = 0.0\n",
    "x2 = 2.0\n",
    "\n",
    "alpha = 0.0\n",
    "beta  = 1.0"
   ]
  },
  {
   "cell_type": "markdown",
   "metadata": {},
   "source": [
    "We need to specify a grid of points to discretize the solution on. We will start with a small grid because it is easy to visualize, but note that the grid spacing determines how good the approximation to the derivative is, so we will have to return here to see what the impact of our spacing is.\n",
    "\n"
   ]
  },
  {
   "cell_type": "code",
   "execution_count": 35,
   "metadata": {},
   "outputs": [
    {
     "data": {
      "text/plain": [
       "(array([0.        , 0.02020202, 0.04040404, 0.06060606, 0.08080808,\n",
       "        0.1010101 , 0.12121212, 0.14141414, 0.16161616, 0.18181818,\n",
       "        0.2020202 , 0.22222222, 0.24242424, 0.26262626, 0.28282828,\n",
       "        0.3030303 , 0.32323232, 0.34343434, 0.36363636, 0.38383838,\n",
       "        0.4040404 , 0.42424242, 0.44444444, 0.46464646, 0.48484848,\n",
       "        0.50505051, 0.52525253, 0.54545455, 0.56565657, 0.58585859,\n",
       "        0.60606061, 0.62626263, 0.64646465, 0.66666667, 0.68686869,\n",
       "        0.70707071, 0.72727273, 0.74747475, 0.76767677, 0.78787879,\n",
       "        0.80808081, 0.82828283, 0.84848485, 0.86868687, 0.88888889,\n",
       "        0.90909091, 0.92929293, 0.94949495, 0.96969697, 0.98989899,\n",
       "        1.01010101, 1.03030303, 1.05050505, 1.07070707, 1.09090909,\n",
       "        1.11111111, 1.13131313, 1.15151515, 1.17171717, 1.19191919,\n",
       "        1.21212121, 1.23232323, 1.25252525, 1.27272727, 1.29292929,\n",
       "        1.31313131, 1.33333333, 1.35353535, 1.37373737, 1.39393939,\n",
       "        1.41414141, 1.43434343, 1.45454545, 1.47474747, 1.49494949,\n",
       "        1.51515152, 1.53535354, 1.55555556, 1.57575758, 1.5959596 ,\n",
       "        1.61616162, 1.63636364, 1.65656566, 1.67676768, 1.6969697 ,\n",
       "        1.71717172, 1.73737374, 1.75757576, 1.77777778, 1.7979798 ,\n",
       "        1.81818182, 1.83838384, 1.85858586, 1.87878788, 1.8989899 ,\n",
       "        1.91919192, 1.93939394, 1.95959596, 1.97979798, 2.        ]),\n",
       " 0.020202020202020204)"
      ]
     },
     "execution_count": 35,
     "metadata": {},
     "output_type": "execute_result"
    }
   ],
   "source": [
    "N = 100\n",
    "X, h = np.linspace(x1, x2, N, retstep=True)\n",
    "X, h"
   ]
  },
  {
   "cell_type": "markdown",
   "metadata": {},
   "source": [
    "Now, we can define functions for the differential equation, and for the nonlinear equations.\n",
    "\n"
   ]
  },
  {
   "cell_type": "code",
   "execution_count": 36,
   "metadata": {},
   "outputs": [],
   "source": [
    "def residuals(y):\n",
    "    \"When we have the right values of y, this function will be zero.\"\n",
    "\n",
    "    res = np.zeros(y.shape) # we need a zero for each node\n",
    "\n",
    "    res[0] = y[0] - alpha # this is the boundary value y(alpha) = 0\n",
    "\n",
    "    for i in range(1, N - 1):\n",
    "        x = X[i]  # This is not actually used\n",
    "        # Approximation of y'' from the current point\n",
    "        YPP = (y[i - 1] - 2 * y[i] + y[i + 1]) / h**2\n",
    "\n",
    "        # Approximation of y'\n",
    "        YP = (y[i + 1] - y[i - 1]) / (2 * h)\n",
    "\n",
    "        # y'' + 3 * y * y' = 0\n",
    "        res[i] = YPP + 3 * y[i] * YP\n",
    "\n",
    "    res[-1] = y[-1] - beta # y(beta) = 0\n",
    "\n",
    "    return res"
   ]
  },
  {
   "cell_type": "markdown",
   "metadata": {},
   "source": [
    "We need a guess, and here we guess a line. It is always a good idea to plot your guess just to make sure it does what you want. Here, we want it to have the right boundary values.\n",
    "\n"
   ]
  },
  {
   "cell_type": "code",
   "execution_count": 37,
   "metadata": {},
   "outputs": [
    {
     "data": {
      "text/plain": [
       "array([0.        , 0.02020202, 0.04040404, 0.06060606, 0.08080808,\n",
       "       0.1010101 , 0.12121212, 0.14141414, 0.16161616, 0.18181818,\n",
       "       0.2020202 , 0.22222222, 0.24242424, 0.26262626, 0.28282828,\n",
       "       0.3030303 , 0.32323232, 0.34343434, 0.36363636, 0.38383838,\n",
       "       0.4040404 , 0.42424242, 0.44444444, 0.46464646, 0.48484848,\n",
       "       0.50505051, 0.52525253, 0.54545455, 0.56565657, 0.58585859,\n",
       "       0.60606061, 0.62626263, 0.64646465, 0.66666667, 0.68686869,\n",
       "       0.70707071, 0.72727273, 0.74747475, 0.76767677, 0.78787879,\n",
       "       0.80808081, 0.82828283, 0.84848485, 0.86868687, 0.88888889,\n",
       "       0.90909091, 0.92929293, 0.94949495, 0.96969697, 0.98989899,\n",
       "       1.01010101, 1.03030303, 1.05050505, 1.07070707, 1.09090909,\n",
       "       1.11111111, 1.13131313, 1.15151515, 1.17171717, 1.19191919,\n",
       "       1.21212121, 1.23232323, 1.25252525, 1.27272727, 1.29292929,\n",
       "       1.31313131, 1.33333333, 1.35353535, 1.37373737, 1.39393939,\n",
       "       1.41414141, 1.43434343, 1.45454545, 1.47474747, 1.49494949,\n",
       "       1.51515152, 1.53535354, 1.55555556, 1.57575758, 1.5959596 ,\n",
       "       1.61616162, 1.63636364, 1.65656566, 1.67676768, 1.6969697 ,\n",
       "       1.71717172, 1.73737374, 1.75757576, 1.77777778, 1.7979798 ,\n",
       "       1.81818182, 1.83838384, 1.85858586, 1.87878788, 1.8989899 ,\n",
       "       1.91919192, 1.93939394, 1.95959596, 1.97979798, 2.        ])"
      ]
     },
     "execution_count": 37,
     "metadata": {},
     "output_type": "execute_result"
    }
   ],
   "source": [
    "X"
   ]
  },
  {
   "cell_type": "code",
   "execution_count": 38,
   "metadata": {},
   "outputs": [
    {
     "data": {
      "text/plain": [
       "[<matplotlib.lines.Line2D at 0x2893410dc08>]"
      ]
     },
     "execution_count": 38,
     "metadata": {},
     "output_type": "execute_result"
    },
    {
     "data": {
      "image/png": "[encoded data removed]",
      "text/plain": [
       "<Figure size 432x288 with 1 Axes>"
      ]
     },
     "metadata": {
      "needs_background": "light"
     },
     "output_type": "display_data"
    }
   ],
   "source": [
    "# we need an initial guess\n",
    "init = alpha + (beta - alpha) / (x2 - x1) * X\n",
    "plt.plot(X, init)"
   ]
  },
  {
   "cell_type": "markdown",
   "metadata": {},
   "source": [
    "We should check our residuals function. We mostly want to see that it runs, and produces the right shaped output.\n",
    "\n"
   ]
  },
  {
   "cell_type": "code",
   "execution_count": 39,
   "metadata": {},
   "outputs": [
    {
     "data": {
      "text/plain": [
       "100"
      ]
     },
     "execution_count": 39,
     "metadata": {},
     "output_type": "execute_result"
    }
   ],
   "source": [
    "len(residuals(init))"
   ]
  },
  {
   "cell_type": "markdown",
   "metadata": {},
   "source": [
    "Now, we solve the BVP.\n",
    "\n"
   ]
  },
  {
   "cell_type": "code",
   "execution_count": 28,
   "metadata": {},
   "outputs": [],
   "source": [
    "?fsolve\n"
   ]
  },
  {
   "cell_type": "code",
   "execution_count": 40,
   "metadata": {},
   "outputs": [
    {
     "name": "stdout",
     "output_type": "stream",
     "text": [
      "The solution converged.\n"
     ]
    },
    {
     "data": {
      "text/plain": [
       "Text(0, 0.5, 'y')"
      ]
     },
     "execution_count": 40,
     "metadata": {},
     "output_type": "execute_result"
    },
    {
     "data": {
      "image/png": "[encoded data removed]",
      "text/plain": [
       "<Figure size 432x288 with 1 Axes>"
      ]
     },
     "metadata": {
      "needs_background": "light"
     },
     "output_type": "display_data"
    }
   ],
   "source": [
    "Y, info, status, msg = fsolve(residuals, init, full_output=1)\n",
    "print(msg)\n",
    "\n",
    "plt.plot(X, Y)\n",
    "plt.xlabel('x')\n",
    "plt.ylabel('y')"
   ]
  },
  {
   "cell_type": "code",
   "execution_count": 41,
   "metadata": {},
   "outputs": [
    {
     "data": {
      "text/plain": [
       "(True, 1.5879661186615786e-08)"
      ]
     },
     "execution_count": 41,
     "metadata": {},
     "output_type": "execute_result"
    }
   ],
   "source": [
    "np.allclose(residuals(Y), 0.0, atol=1e-7), np.mean(np.abs(residuals(Y)))"
   ]
  },
  {
   "cell_type": "code",
   "execution_count": 31,
   "metadata": {},
   "outputs": [],
   "source": [
    "?np.allclose"
   ]
  },
  {
   "cell_type": "code",
   "execution_count": 32,
   "metadata": {},
   "outputs": [
    {
     "data": {
      "text/plain": [
       "(-2.0002813849728796e-09, 1.854956632740823e-09)"
      ]
     },
     "execution_count": 32,
     "metadata": {},
     "output_type": "execute_result"
    }
   ],
   "source": [
    "np.min(residuals(Y)), np.max(residuals(Y))"
   ]
  },
  {
   "cell_type": "markdown",
   "metadata": {},
   "source": [
    "The solution is has some apparent discontinuities because we only used about 10 points. How can you tell if the solution is correct? We can estimate the derivatives, and see how well they fit the equation. We look for:\n",
    "\n",
    "$y'' + 3 y y' = 0$ for all $x$.\n",
    "\n"
   ]
  },
  {
   "cell_type": "code",
   "execution_count": 25,
   "metadata": {},
   "outputs": [],
   "source": [
    "?np.gradient"
   ]
  },
  {
   "cell_type": "code",
   "execution_count": 42,
   "metadata": {},
   "outputs": [
    {
     "data": {
      "text/plain": [
       "Text(0, 0.5, 'residuals')"
      ]
     },
     "execution_count": 42,
     "metadata": {},
     "output_type": "execute_result"
    },
    {
     "data": {
      "image/png": "[encoded data removed]",
      "text/plain": [
       "<Figure size 432x288 with 1 Axes>"
      ]
     },
     "metadata": {
      "needs_background": "light"
     },
     "output_type": "display_data"
    }
   ],
   "source": [
    "yp = np.gradient(Y, X, edge_order=2)\n",
    "ypp = np.gradient(yp, X, edge_order=2)\n",
    "\n",
    "plt.plot(X, ypp + 3 * Y * yp)\n",
    "plt.xlabel('x')\n",
    "plt.ylabel('residuals')"
   ]
  },
  {
   "cell_type": "markdown",
   "metadata": {},
   "source": [
    "This result doesn't look great at the origin, but remember:\n",
    "\n",
    "1.  we used a coarse grid, so the derivative *approximations* are probably not that accurate\n",
    "2.  Numerical derivatives at the end-points are less accurate than in the middle.\n",
    "\n",
    "**exercise** Go back and repeat this for a finer grid, e.g. with 50, 100 points.\n",
    "\n",
    "The approach described here is pretty general. Here, we were able to solve a second-order BVP by discretizing it, approximating the derivatives at the points, and solving the corresponding nonlinear algebra equations. This approach can be extended in a variety of ways, including to systems of equations, and to 2D or 3D systems (where this approach is called finite-element). You will see these kinds of problems extensively in the spring semster in the Transport class.\n",
    "\n",
    "As we have seen before, however, there are functions in `scipy` that can help solve these problems.\n",
    "\n"
   ]
  },
  {
   "cell_type": "markdown",
   "metadata": {},
   "source": [
    "## Introduction to solve_bvp\n",
    "\n"
   ]
  },
  {
   "cell_type": "code",
   "execution_count": 47,
   "metadata": {},
   "outputs": [],
   "source": [
    "from scipy.integrate import solve_bvp\n",
    "\n",
    "solve_bvp?"
   ]
  },
  {
   "cell_type": "markdown",
   "metadata": {},
   "source": [
    "### A worked bvp problem\n",
    "\n"
   ]
  },
  {
   "cell_type": "markdown",
   "metadata": {},
   "source": [
    "In the pressure driven flow of a fluid with viscosity $\\mu$ between two stationary plates separated by distance $d$ and driven by a pressure drop $\\Delta P/\\Delta x$, the governing equations on the velocity $u$ of the fluid are (assuming flow in the x-direction with the velocity varying only in the y-direction):\n",
    "\n",
    "$$\\frac{\\Delta P}{\\Delta x} = \\mu \\frac{d^2u}{dy^2}$$\n",
    "\n",
    "with boundary conditions $u(y=0) = 0$ and $u(y=d) = 0$, i.e. the no-slip condition at the edges of the plate.\n",
    "\n",
    "we convert this second order BVP to a system of ODEs by letting $u_1 = u$, $u_2 = u_1'$ and then $u_2' = u_1''$. This leads to:\n",
    "\n",
    "$\\frac{d u_1}{dy} = u_2$\n",
    "\n",
    "$\\frac{d u_2}{dy} = \\frac{1}{\\mu}\\frac{\\Delta P}{\\Delta x}$\n",
    "\n",
    "with boundary conditions $u_1(y=0) = 0$ and $u_1(y=d) = 0$.\n",
    "\n",
    "for this problem we let the plate separation be d=0.1, the viscosity $\\mu = 1$, and $\\frac{\\Delta P}{\\Delta x} = -100$.\n",
    "\n"
   ]
  },
  {
   "cell_type": "code",
   "execution_count": 44,
   "metadata": {},
   "outputs": [],
   "source": [
    "import numpy as np\n",
    "\n",
    "d = 0.1\n",
    "mu = 1\n",
    "deltaPdeltax = -100"
   ]
  },
  {
   "cell_type": "markdown",
   "metadata": {},
   "source": [
    "The function defining the BVP has to return an array that has a row for each equation, and a column for each value in the grid.\n",
    "\n"
   ]
  },
  {
   "cell_type": "code",
   "execution_count": 62,
   "metadata": {},
   "outputs": [],
   "source": [
    "def bvp(y, U):\n",
    "    u1, u2 = U\n",
    "    du1dy = u2  # this will be an array of values of u2(y)\n",
    "    du2dy = np.ones(y.shape) / mu * deltaPdeltax\n",
    "    # Both rows must be arrays.\n",
    "    return [du1dy, du2dy]"
   ]
  },
  {
   "cell_type": "markdown",
   "metadata": {},
   "source": [
    "The boundary condition function will get the whole numeric solution at each boundary. We want $u1(a) = 0$ and $u1(b)=0$.\n",
    "\n"
   ]
  },
  {
   "cell_type": "code",
   "execution_count": 79,
   "metadata": {},
   "outputs": [],
   "source": [
    "def bc(Ua, Ub):\n",
    "    u1a, u2a = Ua\n",
    "    u1b, u2b = Ub\n",
    "    print([u1a, u1b])\n",
    "    return [u1a, u1b]  # These will be zero at the solution"
   ]
  },
  {
   "cell_type": "markdown",
   "metadata": {},
   "source": [
    "Next, we need an initial guess for u1 and u2 on a grid of points. You have to make some decisions here. You need a guess that is reasonably close, but not hard to construct. Here, we anticipate a solution that looks parabolic, and that goes through the points: (0, 0), (d, 0), and some point at (d / 2, ?), where ? represents the point of maximum velocity in middle. We can easily get this polynomial with np.polyfit.\n",
    "\n"
   ]
  },
  {
   "cell_type": "code",
   "execution_count": 64,
   "metadata": {},
   "outputs": [],
   "source": [
    "?np.polyfit"
   ]
  },
  {
   "cell_type": "markdown",
   "metadata": {},
   "source": [
    "We don't know what the maximum velocity is, so we make a guess, say 0.5. Then, we get the parameters, and apply them to an array of y values.\n",
    "\n"
   ]
  },
  {
   "cell_type": "code",
   "execution_count": 80,
   "metadata": {},
   "outputs": [
    {
     "data": {
      "text/plain": [
       "array([-2.00000000e+02,  2.00000000e+01, -4.48803257e-16])"
      ]
     },
     "execution_count": 80,
     "metadata": {},
     "output_type": "execute_result"
    }
   ],
   "source": [
    "pars = np.polyfit([0, d / 2, d],  # x-points\n",
    "                  [0, 0.5, 0],    # y-points\n",
    "                  2)              # polynomial order\n",
    "pars  # parabola coefficients for U1"
   ]
  },
  {
   "cell_type": "markdown",
   "metadata": {},
   "source": [
    "Now, we can define a Y grid and define the guess for the first U1.\n",
    "\n"
   ]
  },
  {
   "cell_type": "code",
   "execution_count": 81,
   "metadata": {},
   "outputs": [
    {
     "data": {
      "text/plain": [
       "((50,), (50,))"
      ]
     },
     "execution_count": 81,
     "metadata": {},
     "output_type": "execute_result"
    },
    {
     "data": {
      "image/png": "[encoded data removed]",
      "text/plain": [
       "<Figure size 432x288 with 1 Axes>"
      ]
     },
     "metadata": {
      "needs_background": "light"
     },
     "output_type": "display_data"
    }
   ],
   "source": [
    "Y = np.linspace(0, d)\n",
    "\n",
    "U1 = np.polyval(pars, Y)\n",
    "plt.plot(Y, U1)\n",
    "plt.xlabel('Y')\n",
    "plt.ylabel('U1')\n",
    "Y.shape, U1.shape"
   ]
  },
  {
   "cell_type": "markdown",
   "metadata": {},
   "source": [
    "We also need a guess for U2, and in this case we know that $u2 = u1'$, so we just use that.\n",
    "\n"
   ]
  },
  {
   "cell_type": "code",
   "execution_count": 82,
   "metadata": {},
   "outputs": [
    {
     "name": "stdout",
     "output_type": "stream",
     "text": [
      "(2, 50)\n"
     ]
    },
    {
     "data": {
      "image/png": "[encoded data removed]",
      "text/plain": [
       "<Figure size 432x288 with 1 Axes>"
      ]
     },
     "metadata": {
      "needs_background": "light"
     },
     "output_type": "display_data"
    }
   ],
   "source": [
    "du1 = np.polyder(pars)\n",
    "U2 = np.polyval(du1, Y)\n",
    "plt.plot(Y, U2)\n",
    "#U2 = np.gradient(U1, Y, edge_order=2)\n",
    "\n",
    "# Combine the two rows into one initial guess for U\n",
    "U = np.array([U1, U2])\n",
    "print(U.shape)"
   ]
  },
  {
   "cell_type": "markdown",
   "metadata": {},
   "source": [
    "You should *always* visualize the guess to make sure it does what you want. It is **hard** to make these!\n",
    "\n"
   ]
  },
  {
   "cell_type": "code",
   "execution_count": 83,
   "metadata": {},
   "outputs": [
    {
     "data": {
      "image/png": "[encoded data removed]",
      "text/plain": [
       "<Figure size 432x288 with 2 Axes>"
      ]
     },
     "metadata": {
      "needs_background": "light"
     },
     "output_type": "display_data"
    }
   ],
   "source": [
    "%matplotlib inline\n",
    "import matplotlib.pyplot as plt\n",
    "plt.plot(Y, U[0], label='u1')\n",
    "plt.gca().tick_params('y', colors='b')\n",
    "plt.ylabel('u1')\n",
    "\n",
    "plt.twinx()  # makes graphs share the x-axis, and adds a second y-axis\n",
    "plt.plot(Y, U[1], 'r', label='u2')\n",
    "plt.gca().tick_params('y', colors='r')\n",
    "plt.ylabel('u2');"
   ]
  },
  {
   "cell_type": "markdown",
   "metadata": {},
   "source": [
    "Now, we are ready to solve the BVP.\n",
    "\n"
   ]
  },
  {
   "cell_type": "code",
   "execution_count": 84,
   "metadata": {},
   "outputs": [
    {
     "name": "stdout",
     "output_type": "stream",
     "text": [
      "[-4.488032567806112e-16, -9.353188890056112e-17]\n",
      "[-4.488032567806112e-16, -9.353188890056112e-17]\n",
      "[1.4901160745044405e-08, -9.353188890056112e-17]\n",
      "[-4.488032567806112e-16, -9.353188890056112e-17]\n",
      "[-4.488032567806112e-16, 1.4901161100315767e-08]\n",
      "[-4.488032567806112e-16, -9.353188890056112e-17]\n",
      "[-2.1035102396483137e-15, -5.103593848676018e-16]\n",
      "[-1.0497470489327318e-16, 1.846104008980357e-16]\n",
      "[-5.166765702489563e-17, 6.467181855799593e-17]\n",
      "[6.979867920921217e-17, -1.2920157988756454e-16]\n",
      "[6.1441050189682e-17, -4.624571239614166e-17]\n",
      "[-4.352618144573425e-17, 4.758203302341274e-18]\n",
      "[-3.224478136960933e-17, -3.13939908646074e-18]\n",
      "[-3.788548140767179e-17, 8.09402107940267e-19]\n",
      "[1.4901161155962175e-08, 8.09402107940267e-19]\n",
      "[-3.788548140767179e-17, 8.09402107940267e-19]\n",
      "[-3.788548140767179e-17, 1.490116119465706e-08]\n",
      "[-3.788548140767179e-17, 8.09402107940267e-19]\n",
      "[6.211494295706373e-19, -9.146346824671977e-20]\n",
      "[6.211494295706373e-19, -9.146346824671977e-20]\n",
      "[6.211494295706373e-19, -8.263865191649768e-20]\n",
      "[1.4901161194468806e-08, -8.263865191649768e-20]\n",
      "[6.211494295706373e-19, -8.263865191649768e-20]\n",
      "[6.211494295706373e-19, 1.4901161193765018e-08]\n",
      "[6.211494295706373e-19, -8.263865191649768e-20]\n",
      "[-1.0453540970145867e-20, 8.210022138591578e-20]\n",
      "[-5.683084902963967e-21, -2.736213767333781e-21]\n",
      "[-2.7809989960801794e-22, -5.651998411191074e-22]\n",
      "[9.837226454329891e-23, -3.0478637228385213e-23]\n",
      "[4.541195366510869e-23, 2.519151620235625e-23]\n",
      "[-8.036412817462279e-24, -3.315733376854402e-24]\n",
      "[9.153132984725493e-25, -7.378219492391137e-25]\n",
      "[1.3158698831444235e-25, 7.176911065407938e-26]\n",
      "[1.3158698831444235e-25, 7.176911065407938e-26]\n",
      "The algorithm converged to the desired accuracy.\n"
     ]
    },
    {
     "data": {
      "image/png": "[encoded data removed]",
      "text/plain": [
       "<Figure size 432x288 with 1 Axes>"
      ]
     },
     "metadata": {
      "needs_background": "light"
     },
     "output_type": "display_data"
    }
   ],
   "source": [
    "from scipy.integrate import solve_bvp\n",
    "\n",
    "sol = solve_bvp(bvp, bc, Y, U)\n",
    "print(sol.message)\n",
    "plt.plot(sol.x, sol.y[0])\n",
    "plt.xlabel('y')\n",
    "plt.ylabel('U');"
   ]
  },
  {
   "cell_type": "markdown",
   "metadata": {},
   "source": [
    "**exercise** Try using different guesses, e.g. lines, or triangle shapes, etc. What else looks like this shape? Half a cycle of a sin wave? A semi-circle?\n",
    "\n",
    "**exercise** How can you show this is a solution to the BVP?\n",
    "\n"
   ]
  },
  {
   "cell_type": "markdown",
   "metadata": {},
   "source": [
    "### Concentration profile in a particle\n",
    "\n"
   ]
  },
  {
   "cell_type": "markdown",
   "metadata": {},
   "source": [
    "Another typical boundary value problem in chemical engineering is the concentration profile inside a catalyst particle. Here is the dimensionless equation for a second order reaction in a slab. Note here we have a boundary condition on the derivative at the origin. This kind of condition means either there is no flux at this position, or that the slab is symmetric about this position.\n",
    "\n",
    "$\\frac{d^2c}{dx^2} = \\Phi^2 c^2$\n",
    "\n",
    "with $c'(0)$ = 0 and $c(1) = 1$\n",
    "\n",
    "We again convert this to a system of first order differential equations like this:\n",
    "\n",
    "Let c1 = c, c1' = c', and c2 = c1', so c2' = c1'' = c''\n",
    "\n",
    "Then we have:\n",
    "\n",
    "$c1' = c2$\n",
    "\n",
    "$c2' = \\Phi^2 c1^2$\n",
    "\n",
    "with boundary conditions $c1'(0) = 0$ and $c1(1) = 1$.\n",
    "\n",
    "We begin with the required functions:\n",
    "\n"
   ]
  },
  {
   "cell_type": "code",
   "execution_count": 72,
   "metadata": {},
   "outputs": [],
   "source": [
    "Phi = 100  # Constant given for the problem\n",
    "\n",
    "def bvp(x, C):\n",
    "    c1, c2 = C  # these are two rows for all the values of x\n",
    "    dc1dx = c2\n",
    "    dc2dx = Phi**2 * c1**2\n",
    "    return [dc1dx, dc2dx]\n",
    "\n",
    "def bc(Ca, Cb):\n",
    "    c1a, c2a = Ca\n",
    "    c1b, c2b = Cb\n",
    "\n",
    "    # Now, evaluate the derivatives at the first boundary condition\n",
    "    c1prime, c2prime = bvp(0, [c1a, c2a])\n",
    "    return [c1prime,  # will all equal zero. Alternatively use c2a\n",
    "            c1b - 1]  # c1(b) = 1"
   ]
  },
  {
   "cell_type": "markdown",
   "metadata": {},
   "source": [
    "We need an initial guess. We make a naive one, that $c(x) = 1$ in the slab, i.e. there is no reaction. As usual, we visualize the guess to be sure it does what we intended.\n",
    "\n"
   ]
  },
  {
   "cell_type": "code",
   "execution_count": 73,
   "metadata": {},
   "outputs": [
    {
     "data": {
      "text/plain": [
       "[<matplotlib.lines.Line2D at 0x28935857848>]"
      ]
     },
     "execution_count": 73,
     "metadata": {},
     "output_type": "execute_result"
    },
    {
     "data": {
      "image/png": "[encoded data removed]",
      "text/plain": [
       "<Figure size 432x288 with 1 Axes>"
      ]
     },
     "metadata": {
      "needs_background": "light"
     },
     "output_type": "display_data"
    }
   ],
   "source": [
    "X = np.linspace(0, 1)\n",
    "\n",
    "C1 = X**1200#np.ones(X.shape)\n",
    "C2 = np.gradient(C1, X)\n",
    "\n",
    "plt.plot(X, C1)"
   ]
  },
  {
   "cell_type": "markdown",
   "metadata": {},
   "source": [
    "Now we solve the system.\n",
    "\n"
   ]
  },
  {
   "cell_type": "code",
   "execution_count": 74,
   "metadata": {},
   "outputs": [
    {
     "name": "stdout",
     "output_type": "stream",
     "text": [
      "The algorithm converged to the desired accuracy.\n"
     ]
    },
    {
     "data": {
      "text/plain": [
       "227"
      ]
     },
     "execution_count": 74,
     "metadata": {},
     "output_type": "execute_result"
    }
   ],
   "source": [
    "C = [C1, C2]\n",
    "sol = solve_bvp(bvp, bc, X, C)\n",
    "print(sol.message)\n",
    "len(sol.x)"
   ]
  },
  {
   "cell_type": "code",
   "execution_count": 75,
   "metadata": {},
   "outputs": [
    {
     "data": {
      "text/plain": [
       "(0.0, 1.0)"
      ]
     },
     "execution_count": 75,
     "metadata": {},
     "output_type": "execute_result"
    },
    {
     "data": {
      "image/png": "[encoded data removed]",
      "text/plain": [
       "<Figure size 432x288 with 1 Axes>"
      ]
     },
     "metadata": {
      "needs_background": "light"
     },
     "output_type": "display_data"
    }
   ],
   "source": [
    "plt.plot(sol.x, sol.y[0])\n",
    "plt.xlabel('x')\n",
    "plt.ylabel('C')\n",
    "plt.xlim([0, 1])\n",
    "plt.ylim([0, 1])"
   ]
  },
  {
   "cell_type": "code",
   "execution_count": 76,
   "metadata": {},
   "outputs": [
    {
     "data": {
      "text/plain": [
       "50"
      ]
     },
     "execution_count": 76,
     "metadata": {},
     "output_type": "execute_result"
    },
    {
     "data": {
      "image/png": "[encoded data removed]",
      "text/plain": [
       "<Figure size 432x288 with 1 Axes>"
      ]
     },
     "metadata": {
      "needs_background": "light"
     },
     "output_type": "display_data"
    }
   ],
   "source": [
    "plt.plot(X, X**8)  # Alternative initial guess\n",
    "len(X)"
   ]
  },
  {
   "cell_type": "code",
   "execution_count": 77,
   "metadata": {},
   "outputs": [
    {
     "data": {
      "text/plain": [
       "227"
      ]
     },
     "execution_count": 77,
     "metadata": {},
     "output_type": "execute_result"
    }
   ],
   "source": [
    "c = sol.y[0]\n",
    "len(c)"
   ]
  },
  {
   "cell_type": "markdown",
   "metadata": {},
   "source": [
    "You can see the solution looks nothing like our initial guess. In this case, a high thiele modulus means most of the reaction happens near the catalyst surface, and the interior of the slab has hardly any reactant in it. This solution is consistent with that.\n",
    "\n",
    "The effectiveness factor for this system is defined by:\n",
    "\n",
    "$E = \\int_0^1 c^2 dx$\n",
    "\n",
    "We can estimate this with the trapezoid or Simpson's method (remember that the solution is a vector of numbers).\n",
    "\n"
   ]
  },
  {
   "cell_type": "code",
   "execution_count": 78,
   "metadata": {},
   "outputs": [
    {
     "name": "stdout",
     "output_type": "stream",
     "text": [
      "0.008249311811255725\n",
      "0.008166736221839032\n"
     ]
    }
   ],
   "source": [
    "c = sol.y[0]\n",
    "print(np.trapz(c**2, sol.x))\n",
    "\n",
    "from scipy.integrate import simps\n",
    "print(simps(c**2, sol.x))"
   ]
  },
  {
   "cell_type": "markdown",
   "metadata": {},
   "source": [
    "Or, we can use the dense\\_output of the solution with quad.\n",
    "\n"
   ]
  },
  {
   "cell_type": "code",
   "execution_count": 102,
   "metadata": {},
   "outputs": [
    {
     "data": {
      "text/plain": [
       "(0.008164991938713666, 1.1791754249971266e-08)"
      ]
     },
     "execution_count": 102,
     "metadata": {},
     "output_type": "execute_result"
    }
   ],
   "source": [
    "from scipy.integrate import quad\n",
    "\n",
    "def integrand(x):\n",
    "    c1, c2 = sol.sol(x)\n",
    "    return c1**2\n",
    "\n",
    "quad(integrand, 0, 1)"
   ]
  },
  {
   "cell_type": "code",
   "execution_count": 105,
   "metadata": {},
   "outputs": [],
   "source": [
    "?solve_bvp"
   ]
  },
  {
   "cell_type": "markdown",
   "metadata": {},
   "source": [
    "**excercise** Repeat this example for different values of &Phi;.\n",
    "\n",
    "**exercise** Try different kinds of guesses. Think of a guess that has the properties of the boundary conditions, e.g. c'(0) = 0, and c(1) = 1.\n",
    "\n",
    "**exercise** Evaluate the quality of the solution based on the equations.\n",
    "\n"
   ]
  },
  {
   "cell_type": "markdown",
   "metadata": {},
   "source": [
    "## Summary\n",
    "\n"
   ]
  },
  {
   "cell_type": "markdown",
   "metadata": {},
   "source": [
    "Today, we leveraged the ability to solve systems of nonlinear algebraic equations to solve boundary value problems by discretizing them on a grid, approximating them at the grid points, and then solving the resulting nonlinear equations.\n",
    "\n",
    "We also learned about the solve\\_bvp function, which is in scipy.integrate to solve systems of first-order boundary value problems.\n",
    "\n",
    "Next time, we will return to nonlinear algebra to see how the algorithms can be used to find minima and maxima.\n",
    "\n"
   ]
  }
 ],
 "metadata": {
  "kernelspec": {
   "display_name": "Python 3",
   "language": "python",
   "name": "python3"
  },
  "language_info": {
   "codemirror_mode": {
    "name": "ipython",
    "version": 3
   },
   "file_extension": ".py",
   "mimetype": "text/x-python",
   "name": "python",
   "nbconvert_exporter": "python",
   "pygments_lexer": "ipython3",
   "version": "3.7.6"
  },
  "org": {
   "KEYWORDS": "scipy.integrate.solve_bvp, numpy.polyfit"
  }
 },
 "nbformat": 4,
 "nbformat_minor": 1
}
