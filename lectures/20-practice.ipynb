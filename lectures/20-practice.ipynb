{
 "cells": [
  {
   "cell_type": "markdown",
   "metadata": {},
   "source": [
    "## exam3-3 nla - continuation\n",
    "\n"
   ]
  },
  {
   "cell_type": "markdown",
   "metadata": {},
   "source": [
    "**This is an exam. You must be present in the exam room to get credit for this problem unless you have prior permission from the instructor. You may not talk during the exam except to ask an instructor a question. By turning this in, you agree that this work is your own, and you did not get unauthorized help to complete it or provide unauthorized help to anyone else. You may not modify your exam answer after the due time without permission.**\n",
    "\n",
    "A common problem in solving nonlinear problems is *how to make the initial guess*?\n",
    "\n",
    "Let's consider finding the solution to the following nonlinear equations:\n",
    "\n",
    "$2 + x + y - x^2 + 8 x y + y^3 = 0$\n",
    "\n",
    "$1 + 2x - 3y + x^2 + xy - y e^x = 0$\n",
    "\n",
    "The strategy we work on here is to reformulate these equations with a new variable $\\lambda$\n",
    "\n",
    "$2 + x + y + \\lambda(- x^2 + 8 x y + y^3) = 0$\n",
    "\n",
    "$1 + 2x - 3y + \\lambda(x^2 + xy - y e^x) = 0$\n",
    "\n"
   ]
  },
  {
   "cell_type": "markdown",
   "metadata": {},
   "source": [
    "#### Part 1 solve the linear problem\n",
    "\n"
   ]
  },
  {
   "cell_type": "markdown",
   "metadata": {},
   "source": [
    "If $\\lambda=1$ then we have the original nonlinear equations. If you set $\\lambda=0$ though, you have a simple linear set of equations to solve. Find a solution to those equations for $\\lambda=0$:\n",
    "\n"
   ]
  },
  {
   "cell_type": "code",
   "execution_count": 51,
   "metadata": {},
   "outputs": [],
   "source": [
    "import autograd.numpy as np\n",
    "from autograd import jacobian, hessian, grad, elementwise_grad\n",
    "from scipy.integrate import solve_ivp, quad, simps\n",
    "import matplotlib.pyplot as plt"
   ]
  },
  {
   "cell_type": "code",
   "execution_count": 2,
   "metadata": {},
   "outputs": [],
   "source": [
    "A = np.array([[1,1],[2,-3]])\n",
    "b = np.array([-2,-1])\n",
    "x0, y0 = np.linalg.solve(A,b)"
   ]
  },
  {
   "cell_type": "markdown",
   "metadata": {},
   "source": [
    "This solution represents the solution to the equations when $\\lambda=0$. If we could derive a set of equations for $\\frac{dx}{d\\lambda}$ and $\\frac{dy}{d\\lambda}$, then we can treat this linear solution as an initial value, and integrate the ODEs from $\\lambda=0$ to $\\lambda=1$ to find the solution to the nonlinear equations. In what follows, we motivate how to derive those equations.\n",
    "\n"
   ]
  },
  {
   "cell_type": "markdown",
   "metadata": {},
   "source": [
    "#### Part 2 formulate a system of ODEs to solve the nonlinear problem\n",
    "\n"
   ]
  },
  {
   "cell_type": "markdown",
   "metadata": {},
   "source": [
    "Next, we consider the equations as\n",
    "\n",
    "$f(x, y) = 2 + x + y + \\lambda(- x^2 + 8 x y + y^3) = 0$\n",
    "\n",
    "$g(x, y) = 1 + 2x - 3y + \\lambda(x^2 + xy - y e^x) = 0$\n",
    "\n",
    "from calculus, you can show that:\n",
    "\n",
    "$\\frac{\\partial f}{\\partial x}\\frac{\\partial x}{\\partial \\lambda}+\\frac{\\partial f}{\\partial y}\\frac{\\partial y}{\\partial \\lambda}=-\\frac{\\partial f}{\\partial \\lambda}$\n",
    "\n",
    "$\\frac{\\partial g}{\\partial x}\\frac{\\partial x}{\\partial \\lambda}+\\frac{\\partial g}{\\partial y}\\frac{\\partial y}{\\partial \\lambda}=-\\frac{\\partial g}{\\partial \\lambda}$\n",
    "\n",
    "You can rewrite this in a linear algebra form as:\n",
    "\n",
    "\\begin{equation}\n",
    "\\left[\\begin{array}{cc}\n",
    "\\frac{\\partial f}{\\partial x} \\frac{\\partial f}{\\partial y} \\\\\n",
    "\\frac{\\partial g}{\\partial x} \\frac{\\partial g}{\\partial y}\n",
    "\\end{array}\\right]\n",
    "\\left[\\begin{array}{c}\n",
    "\\frac{\\partial x}{\\partial \\lambda}\\\\\n",
    "\\frac{\\partial y}{\\partial \\lambda}\n",
    "\\end{array}\\right]\n",
    "=\n",
    "\\left[\\begin{array}{c}\n",
    "-\\frac{\\partial f}{\\partial \\lambda}\\\\\n",
    "-\\frac{\\partial g}{\\partial \\lambda}\n",
    "\\end{array}\\right]\n",
    "\\end{equation}\n",
    "\n",
    "The matrix on the left is the Jacobian of $F = [f(x,y), g(x, y)]$. This means you can solve for:\n",
    "\n",
    "$$\\left[\\begin{array}{c}\n",
    "\\frac{\\partial x}{\\partial \\lambda}\\\\\n",
    "\\frac{\\partial y}{\\partial \\lambda}\n",
    "\\end{array}\\right]\n",
    "=\n",
    "\\mathbf{J}^{-1}\n",
    "\\left[\\begin{array}{c}\n",
    "-\\frac{\\partial f}{\\partial \\lambda}\\\\\n",
    "-\\frac{\\partial g}{\\partial \\lambda}\n",
    "\\end{array}\\right]$$\n",
    "\n",
    "This last equation defines a set of differential equations that can be integrated from $\\lambda=0$ where we know what (x, y) are, to $\\lambda=1$ which leads to a solution to the original set of nonlinear equations!\n",
    "\n",
    "Use the last equation to define a function for a system of ODEs, and then integrate the system of ODES from $\\lambda=0$ to $\\lambda=1$ to find the solution to the nonlinear set of equations. The solution is the value of $x, y$ at $\\lambda=1$.\n",
    "\n"
   ]
  },
  {
   "cell_type": "code",
   "execution_count": 11,
   "metadata": {},
   "outputs": [
    {
     "name": "stdout",
     "output_type": "stream",
     "text": [
      "[ 3. -3.]\n",
      "  message: 'The solver successfully reached the end of the integration interval.'\n",
      "     nfev: 116\n",
      "     njev: 0\n",
      "      nlu: 0\n",
      "      sol: None\n",
      "   status: 0\n",
      "  success: True\n",
      "        t: array([0.        , 0.05551717, 0.11056878, 0.12449192, 0.12750154,\n",
      "       0.13051115, 0.13266085, 0.13481056, 0.14344547, 0.16794082,\n",
      "       0.22480767, 0.37255244, 0.67873396, 1.        ])\n",
      " t_events: None\n",
      "        y: array([[-1.40000000e+00, -1.64566887e+00, -2.25520007e+00,\n",
      "        -2.78976222e+00, -3.07473333e+00, -3.69211907e+00,\n",
      "        -4.12179261e+00, -4.33121178e+00, -4.58879340e+00,\n",
      "        -4.43244367e+00, -3.66389223e+00, -2.40849542e+00,\n",
      "        -1.40269481e+00, -9.94678285e-01],\n",
      "       [-6.00000000e-01, -6.90179319e-01, -9.04111215e-01,\n",
      "        -1.07629109e+00, -1.16080936e+00, -1.32151457e+00,\n",
      "        -1.40599541e+00, -1.43166683e+00, -1.40880158e+00,\n",
      "        -1.21777075e+00, -8.63332882e-01, -4.20271562e-01,\n",
      "        -1.11701283e-01,  2.28819482e-03]])\n",
      " y_events: None\n"
     ]
    },
    {
     "data": {
      "text/plain": [
       "[<matplotlib.lines.Line2D at 0x1f03546ec88>,\n",
       " <matplotlib.lines.Line2D at 0x1f03546edc8>]"
      ]
     },
     "execution_count": 11,
     "metadata": {},
     "output_type": "execute_result"
    },
    {
     "data": {
      "image/png": "[encoded data removed]",
      "text/plain": [
       "<Figure size 432x288 with 1 Axes>"
      ]
     },
     "metadata": {
      "needs_background": "light"
     },
     "output_type": "display_data"
    }
   ],
   "source": [
    "def F1(var):\n",
    "    x, y = var\n",
    "    f1 = 2 + x + y + -1*x**2 + 8*x*y + y**3\n",
    "    g1 = 1 + 2*x - 3*y + x**2 + x*y - y*np.exp(x)\n",
    "    return np.array([f1, g1]) \n",
    "\n",
    "def F2(lam, var):\n",
    "    x, y = var\n",
    "    f2 = 2 + x + y + lam*(-1*x**2 + 8*x*y + y**3)\n",
    "    g2 = 1 + 2*x - 3*y + lam*(x**2 + x*y - y*np.exp(x))\n",
    "    return np.array([f2, g2])\n",
    "\n",
    "def odesys(lam, var):\n",
    "    J = jacobian(F2, argnum = 1)\n",
    "    Jval = J(lam, var) \n",
    "    RHS = jacobian(F2, argnum = 0)\n",
    "    RHSval = -1*RHS(lam, var)\n",
    "    return np.linalg.inv(Jval) @ RHSval\n",
    "\n",
    "print(df1(np.array([0.,0.])))\n",
    "\n",
    "lspan = (0,1)\n",
    "var0  = np.array([x0, y0])\n",
    "sol   = solve_ivp(odesys, lspan, var0)\n",
    "print(sol)\n",
    "plt.plot(sol.t, sol.y.T)"
   ]
  },
  {
   "cell_type": "markdown",
   "metadata": {},
   "source": [
    "#### Part 3 Verify the solution you found\n",
    "\n"
   ]
  },
  {
   "cell_type": "markdown",
   "metadata": {},
   "source": [
    "Use a method of your choice to verify your solution from Part 2.\n",
    "\n"
   ]
  },
  {
   "cell_type": "code",
   "execution_count": 4,
   "metadata": {},
   "outputs": [],
   "source": [
    "import scipy.optimize as opt"
   ]
  },
  {
   "cell_type": "code",
   "execution_count": 5,
   "metadata": {},
   "outputs": [
    {
     "data": {
      "text/plain": [
       "    fjac: array([[-0.99999892, -0.00147201],\n",
       "       [ 0.00147201, -0.99999892]])\n",
       "     fun: array([ 6.01546328e-13, -4.01854965e-13])\n",
       " message: 'The solution converged.'\n",
       "    nfev: 18\n",
       "     qtf: array([-7.69807424e-09,  5.15372442e-09])\n",
       "       r: array([-2.99331549,  6.9757453 ,  4.37785119])\n",
       "  status: 1\n",
       " success: True\n",
       "       x: array([-1.00000000e+00,  9.20062966e-14])"
      ]
     },
     "execution_count": 5,
     "metadata": {},
     "output_type": "execute_result"
    }
   ],
   "source": [
    "opt.root(F1, np.array([1, 1]))"
   ]
  },
  {
   "cell_type": "markdown",
   "metadata": {},
   "source": [
    "## exam3-1 uncertainty\n",
    "\n"
   ]
  },
  {
   "cell_type": "markdown",
   "metadata": {},
   "source": [
    "**This is an exam. You must be present in the exam room to get credit for this problem unless you have prior permission from the instructor. You may not talk during the exam except to ask an instructor a question. By turning this in, you agree that this work is your own, and you did not get unauthorized help to complete it or provide unauthorized help to anyone else. You may not modify your exam answer after the due time without permission.**\n",
    "\n",
    "The time required to reach a particular conversion $X$ in a reactor is given by this integral equation:\n",
    "\n",
    "$t = \\int_0^X \\frac{1}{k C_{A0} (1 - X)^2} dX$\n",
    "\n",
    "In this problem, $k = 1e-3$ L/mol/min, and $C_{A0} = 1$ mol/L.\n",
    "\n",
    "We aim to find the uncertainty in the amount of time required to reach a conversion of 0.9. The uncertainty is estimated by:\n",
    "\n",
    "$\\sigma_t = \\sqrt{\\frac{\\partial t}{\\partial k}^2 \\sigma_k^2 + \\frac{\\partial t}{\\partial C_{A0}}^2 \\sigma_{C_{A0}}^2 }$\n",
    "\n",
    "with $\\sigma_k = 1e-4$ and $\\sigma_{C_{A0}} = 0.01$.\n",
    "\n",
    "To evaluate those derivatives, we need a differentiable integrator. You can use this implementation of the trapezoid rule for that. You cannot use the quad function.\n",
    "\n"
   ]
  },
  {
   "cell_type": "code",
   "execution_count": 52,
   "metadata": {},
   "outputs": [],
   "source": [
    "#import autograd.numpy as np\n",
    "\n",
    "#def trapz(y, x):\n",
    "#    d = np.diff(x)\n",
    "#    return np.sum((y[0:-1] + y[1:]) * d / 2)"
   ]
  },
  {
   "cell_type": "markdown",
   "metadata": {},
   "source": [
    "First, use the equation above and the provided trapz function to find the time required to reach 90% conversion for this reactor.\n",
    "\n"
   ]
  },
  {
   "cell_type": "code",
   "execution_count": 82,
   "metadata": {},
   "outputs": [
    {
     "name": "stdout",
     "output_type": "stream",
     "text": [
      "9000.135132939517\n",
      "904.5023865932247\n"
     ]
    }
   ],
   "source": [
    "from scipy.integrate import trapz\n",
    "def integrand(X, k, CA0):\n",
    "    return 1/k/CA0/(1-X)**2\n",
    "\n",
    "k   = 1.0e-3 #L/mol/min\n",
    "CA0 = 1.0  #mol/L\n",
    "X0 = 0.0\n",
    "Xf = 0.9\n",
    "time, err = quad(integrand, X0, Xf, args = (k, CA0))\n",
    "\n",
    "time2 = trapz(Ilist,Xlist)\n",
    "print(time2)\n",
    "\n",
    "def time(k, CA0):\n",
    "    Xlist = np.linspace(0,0.9,1000)\n",
    "    Ilist = integrand(Xlist, k, CA0)\n",
    "    t = trapz(Ilist, Xlist)\n",
    "    return t\n",
    "dtdk = grad(time, argnum = 0)\n",
    "dtdC = grad(time, argnum = 1)\n",
    "sigmak = 1e-4\n",
    "sigmaC = 0.01\n",
    "sigmat = np.sqrt(dtdk(k, CA0)**2 * sigmak**2 + dtdC(k, CA0)**2 * sigmaC**2)\n",
    "print(sigmat)"
   ]
  },
  {
   "cell_type": "markdown",
   "metadata": {},
   "source": [
    "Next, use the formula for $\\sigma_t$ to estimate the uncertainty in this time.\n",
    "\n"
   ]
  },
  {
   "cell_type": "code",
   "execution_count": 83,
   "metadata": {},
   "outputs": [
    {
     "name": "stdout",
     "output_type": "stream",
     "text": [
      "904.5023865932247\n"
     ]
    }
   ],
   "source": [
    "sigmat = np.sqrt(dtdk(k, CA0)**2 * sigmak**2 + dtdC(k, CA0)**2 * sigmaC**2)\n",
    "print(sigmat)"
   ]
  },
  {
   "cell_type": "markdown",
   "metadata": {},
   "source": [
    "## Quiz 6 - uncertainty propagation in implicit functions\n",
    "\n"
   ]
  },
  {
   "cell_type": "markdown",
   "metadata": {},
   "source": [
    "The equation $y = e^{a y}$ is implicit in $y$. Suppose we know that $a = 0.2 \\pm 0.02$ ($\\sigma_a = 0.02$). First, solve for the value of $y$  with a method of your choice.\n",
    "\n"
   ]
  },
  {
   "cell_type": "code",
   "execution_count": 100,
   "metadata": {},
   "outputs": [
    {
     "name": "stdout",
     "output_type": "stream",
     "text": [
      "      converged: True\n",
      "           flag: 'converged'\n",
      " function_calls: 8\n",
      "     iterations: 4\n",
      "           root: 1.295855509095369\n"
     ]
    }
   ],
   "source": [
    "import scipy.optimize as opt\n",
    "def func(y, a):\n",
    "    return y - np.exp(a*y)\n",
    "yguess = 1\n",
    "a      = 0.2\n",
    "#sol    = opt.newton(func, yguess, args = (a,), full_output = True)\n",
    "#print(sol)\n",
    "sol2   = opt.root_scalar(func, args = (a,), fprime = grad(func, argnum = 0), x0 = yguess)\n",
    "print(sol2)\n",
    "ysol = sol2.root"
   ]
  },
  {
   "cell_type": "markdown",
   "metadata": {},
   "source": [
    "Now the question is what is the uncertainty in $y$ since we know there is some uncertainty in $a$? A good approximation for the uncertainty in $y$ is $\\sigma_y \\approx \\frac{dy}{da} * \\sigma_a$.  Use this information to estimate the uncertainty ($\\sigma_y$) in the solution you obtained.\n",
    "\n"
   ]
  },
  {
   "cell_type": "code",
   "execution_count": 103,
   "metadata": {},
   "outputs": [
    {
     "name": "stdout",
     "output_type": "stream",
     "text": [
      "-0.033584830009056356\n"
     ]
    }
   ],
   "source": [
    "dyda = grad(func, argnum = 1)\n",
    "sigmaa = 0.02\n",
    "sigmay = dyda(ysol, a)*sigmaa\n",
    "print(sigmay)"
   ]
  },
  {
   "cell_type": "markdown",
   "metadata": {},
   "source": [
    "Describe an engineering application where this could be useful.\n",
    "\n"
   ]
  },
  {
   "cell_type": "code",
   "execution_count": 1,
   "metadata": {},
   "outputs": [],
   "source": []
  },
  {
   "cell_type": "markdown",
   "metadata": {},
   "source": [
    "## van Laar equation\n",
    "\n"
   ]
  },
  {
   "cell_type": "markdown",
   "metadata": {},
   "source": [
    "Review the expression for $\\frac{G_{ex}}{RT}$ in the Van Laar equation at\n",
    "[https://en.wikipedia.org/wiki/Van_Laar_equation](https://en.wikipedia.org/wiki/Van_Laar_equation).\n",
    "\n",
    "There are also equations for the two activity coefficients that are derived from that expression. According to the Gibbs-Duhem equation:\n",
    "\n",
    "$0 = x_1 \\frac{d \\ln \\gamma_1}{d n_1} + x_2 \\frac{d \\ln \\gamma_2}{d n_1}$\n",
    "\n",
    "Assuming we have a mixture of Acetone and water, use autograd to demonstrate that the Gibbs-Duhem equation is satisfied over the range of composition for $0 \\le x_1 \\le 1$.\n",
    "\n",
    "You may find it helpful to note that $x_1 = \\frac{n_1}{n_1 + n_2}$.\n",
    "\n"
   ]
  },
  {
   "cell_type": "code",
   "execution_count": 115,
   "metadata": {},
   "outputs": [
    {
     "data": {
      "text/plain": [
       "[<matplotlib.lines.Line2D at 0x1f035adcf08>]"
      ]
     },
     "execution_count": 115,
     "metadata": {},
     "output_type": "execute_result"
    },
    {
     "data": {
      "image/png": "[encoded data removed]",
      "text/plain": [
       "<Figure size 432x288 with 1 Axes>"
      ]
     },
     "metadata": {
      "needs_background": "light"
     },
     "output_type": "display_data"
    }
   ],
   "source": [
    "def loggamma1(X1, A):\n",
    "    A12, A21 = A\n",
    "    X2 = 1 - X1\n",
    "    return A12*(A21*X2/(A12*X1 + A21*X2))**2\n",
    "\n",
    "def loggamma2(X1, A):\n",
    "    A12, A21 = A\n",
    "    X2 = 1 - X1\n",
    "    return A21*(A12*X1/(A12*X1 + A21*X2))**2\n",
    "\n",
    "def obj(X1, A):\n",
    "    X2 = 1 - X1\n",
    "    dlg1dx1 = grad(loggamma1, argnum = 0)\n",
    "    dlg2dx1 = grad(loggamma2, argnum = 0)\n",
    "    return X1*dlg1dx1(X1, A) + X2*dlg2dx1(X1, A)\n",
    "\n",
    "A = np.array([2.1041, 1.5555])\n",
    "X1 = np.linspace(0,1,100)\n",
    "GD = [obj(val, A) for val in X1]\n",
    "plt.plot(X1,GD)\n"
   ]
  },
  {
   "cell_type": "markdown",
   "metadata": {},
   "source": [
    "## Using the Hessian in optimization\n",
    "\n"
   ]
  },
  {
   "cell_type": "markdown",
   "metadata": {},
   "source": [
    "**This is a quiz. You must be present in class to get credit for it. All your work must be your own, and turning this in means you agree that you worked alone on this assignment.**\n",
    "\n",
    "Newton's method is an iterative method based on finding roots using information about the derivative. There is an improvement if we use the Hessian shown below:\n",
    "\n",
    "$x_{n+1} = x_n - \\mathbf{H(x_n)}^{-1} \\mathbf{\\nabla f(x_n)}$\n",
    "\n",
    "where $\\mathbf{H(x_n)}$ is the Hessian matrix, and $\\nabla f(x_n)$ is the gradient of $f$ evaluated at $x_n$, which may be a vector. $f$ is a scalar function. This algorithm is still iterative, and starts from an initial guess.\n",
    "\n",
    "Use this information with autograd to find a minimum of the rosenbrock function starting at the point (5.0, 5.0). Verify you have found a minimum.\n",
    "\n"
   ]
  },
  {
   "cell_type": "code",
   "execution_count": 128,
   "metadata": {},
   "outputs": [
    {
     "name": "stdout",
     "output_type": "stream",
     "text": [
      "[ 4.99900025 24.9900025 ]\n",
      "[  1.00079924 -14.98401219]\n",
      "[1.00079899 1.00159862]\n",
      "[1.         0.99999936]\n"
     ]
    }
   ],
   "source": [
    "from autograd import hessian\n",
    "def rosenbrock(X):\n",
    "    x, y = X\n",
    "    return (1 - x)**2 + 100 * (y - x**2)**2\n",
    "\n",
    "hess = hessian(rosenbrock)\n",
    "delf = grad(rosenbrock)\n",
    "\n",
    "tolerance = 1e-10\n",
    "threshold = 10\n",
    "X = np.array([5.0, 5.0])\n",
    "\n",
    "while threshold >= tolerance:\n",
    "    X = X - np.linalg.inv(hess(X)) @ delf(X)\n",
    "    print(X)\n",
    "    threshold = rosenbrock(X)\n",
    "    "
   ]
  }
 ],
 "metadata": {
  "kernelspec": {
   "display_name": "Python 3",
   "language": "python",
   "name": "python3"
  },
  "language_info": {
   "codemirror_mode": {
    "name": "ipython",
    "version": 3
   },
   "file_extension": ".py",
   "mimetype": "text/x-python",
   "name": "python",
   "nbconvert_exporter": "python",
   "pygments_lexer": "ipython3",
   "version": "3.7.6"
  },
  "org": null
 },
 "nbformat": 4,
 "nbformat_minor": 1
}
