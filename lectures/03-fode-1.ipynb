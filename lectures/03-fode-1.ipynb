{
 "cells": [
  {
   "cell_type": "markdown",
   "metadata": {},
   "source": [
    "- KEYWORDS: integration, quad, zeros, shape, enumerate, solve_ivp\n"
   ]
  },
  {
   "cell_type": "markdown",
   "metadata": {},
   "source": [
    "## Solutions to first-order differential equations by integration\n",
    "\n"
   ]
  },
  {
   "cell_type": "markdown",
   "metadata": {},
   "source": [
    "Adapted from Ch. 2 in Advanced Engineering Mathematics, 2<sup>nd</sup> Ed. by Michael Greenberg.\n",
    "\n"
   ]
  },
  {
   "cell_type": "markdown",
   "metadata": {},
   "source": [
    "### Homogeneous, first-order linear differential equations\n",
    "\n"
   ]
  },
  {
   "cell_type": "markdown",
   "metadata": {},
   "source": [
    "We first consider a homogeneous, first-order, linear differential equation of the form:\n",
    "\n",
    "$y' + p(x) y = 0$, with $y(a) = b$ as an initial value.\n",
    "\n",
    "You can derive a solution to this ODE as:\n",
    "\n",
    "$y(x) = b e^{-\\int_a^x p(\\xi) d\\xi}$\n",
    "\n",
    "For concreteness, consider $(x+2) y' - xy = 0, y(0) = 3$\n",
    "\n",
    "what is the value of $y(1)$?\n",
    "\n",
    "We need to cast this in the form required to identify $p(x)$. That form is:\n",
    "\n",
    "$y' + \\frac{-x}{x+2}y = 0$.\n",
    "\n",
    "Now, we simply evaluate the required integral and use it to compute the value of the solution at the desired new $x$ value.\n",
    "\n"
   ]
  },
  {
   "cell_type": "code",
   "execution_count": 8,
   "metadata": {},
   "outputs": [
    {
     "name": "stdout",
     "output_type": "stream",
     "text": [
      "y(1) = 3.624\n"
     ]
    }
   ],
   "source": [
    "import numpy as np\n",
    "a = 0  # y(a)=b\n",
    "b = 3\n",
    "x1 = 1 # where we want y(1)\n",
    "\n",
    "def p(x):\n",
    "    return -x / (x + 2)\n",
    "\n",
    "import numpy as np\n",
    "from scipy.integrate import quad\n",
    "\n",
    "I, err = quad(p, a, x1)\n",
    "\n",
    "y_x1 = b * np.exp(-I)\n",
    "\n",
    "print(f'y(1) = {y_x1:1.3f}')"
   ]
  },
  {
   "cell_type": "markdown",
   "metadata": {},
   "source": [
    "It is a little trickier to evaluate the solution at several x-values, e.g. to make a plot. The `quad` function is not \"vectorized\", meaning it only performs one integral for one range at a time. You cannot pass it a list of ranges to evaluate it several times. Instead, we have to use a loop for this. In the loop, we will solve the integral, and accumulate the result in a solution array. Before we do that, here are a few useful commands we will need to use.\n",
    "\n",
    "First, it is useful to make an array to store the results in. There are a few ways to do this, the one we use today is the `np.zeros` function. You specify the size of the array as an argument. For example, to make an array with three zeros, do this:\n",
    "\n"
   ]
  },
  {
   "cell_type": "code",
   "execution_count": 3,
   "metadata": {},
   "outputs": [
    {
     "data": {
      "text/plain": [
       "(array([0., 0., 0., 0.]),\n",
       " array([1., 1., 1., 1.]),\n",
       " array([6.01334434e-154, 2.11329288e+214, 1.62347640e+219, 1.81596891e-152]))"
      ]
     },
     "execution_count": 3,
     "metadata": {},
     "output_type": "execute_result"
    }
   ],
   "source": [
    "np.zeros((4)), np.ones(4), np.empty(4)"
   ]
  },
  {
   "cell_type": "markdown",
   "metadata": {},
   "source": [
    "Second, it is helpful to get the shape of an array. You use dot notation and the shape attribute of an array for this. This allows you to create an array, and later make an array of zeros with the same shape and size.\n",
    "\n"
   ]
  },
  {
   "cell_type": "code",
   "execution_count": 4,
   "metadata": {},
   "outputs": [
    {
     "data": {
      "text/plain": [
       "array([0., 0., 0., 0., 0., 0., 0., 0., 0., 0., 0., 0., 0., 0., 0., 0., 0.,\n",
       "       0., 0., 0., 0., 0., 0., 0., 0., 0., 0., 0., 0., 0., 0., 0., 0., 0.,\n",
       "       0., 0., 0., 0., 0., 0., 0., 0., 0., 0., 0., 0., 0., 0., 0., 0.])"
      ]
     },
     "execution_count": 4,
     "metadata": {},
     "output_type": "execute_result"
    }
   ],
   "source": [
    "x = np.linspace(0, 3.5)\n",
    "np.zeros(x.shape)\n"
   ]
  },
  {
   "cell_type": "code",
   "execution_count": 22,
   "metadata": {},
   "outputs": [
    {
     "name": "stdout",
     "output_type": "stream",
     "text": [
      "0 a\n",
      "1 b\n",
      "2 c\n"
     ]
    }
   ],
   "source": [
    "for i, value in enumerate(['a','b','c']):\n",
    "    print(i, value)"
   ]
  },
  {
   "cell_type": "code",
   "execution_count": 21,
   "metadata": {},
   "outputs": [
    {
     "name": "stdout",
     "output_type": "stream",
     "text": [
      "0 a\n",
      "1 b\n",
      "2 c\n"
     ]
    }
   ],
   "source": [
    "# old-fashioned way to do this\n",
    "L = ['a','b','c']\n",
    "for i in range(len(L)):\n",
    "    print(i, L[i])"
   ]
  },
  {
   "cell_type": "markdown",
   "metadata": {},
   "source": [
    "Finally we will iterate over the elements of the x array, and in each step we need to know the index of the element *and* the value of the element. `enumerate` provides this in a pretty straightforward syntax. This function iterates over an array and returns at each step the index and element, which you can assign to variables that you use inside the loop. There are other ways to achieve this, but we only consider this method today. Here, we create an array, and an array of zeros that is the same shape. Then, we iterate over the first array, and set the corresponding index in the second array equal to a computation using the index and element value.\n",
    "\n"
   ]
  },
  {
   "cell_type": "code",
   "execution_count": 5,
   "metadata": {},
   "outputs": [
    {
     "data": {
      "text/plain": [
       "array([0., 0., 0., 0., 0., 0., 0., 0., 0., 0., 0., 0., 0., 0., 0., 0., 0.,\n",
       "       0., 0., 0., 0., 0., 0., 0., 0., 0., 0., 0., 0., 0., 0., 0., 0., 0.,\n",
       "       0., 0., 0., 0., 0., 0., 0., 0., 0., 0., 0., 0., 0., 0., 0., 0.])"
      ]
     },
     "execution_count": 5,
     "metadata": {},
     "output_type": "execute_result"
    }
   ],
   "source": [
    "np.zeros_like(np.linspace(0, 1))"
   ]
  },
  {
   "cell_type": "code",
   "execution_count": 6,
   "metadata": {},
   "outputs": [
    {
     "name": "stdout",
     "output_type": "stream",
     "text": [
      "Before the loop new_arr = [0. 0. 0. 0. 0.]\n",
      "The element at index 0 is 0.0\n",
      "The element at index 1 is 0.25\n",
      "The element at index 2 is 0.5\n",
      "The element at index 3 is 0.75\n",
      "The element at index 4 is 1.0\n",
      "After the loop new_arr = [0.   0.25 1.   2.25 4.  ]\n"
     ]
    }
   ],
   "source": [
    "arr = np.linspace(0, 1, 5)\n",
    "new_arr = np.zeros(arr.shape)\n",
    "print(f'Before the loop new_arr = {new_arr}')\n",
    "\n",
    "for i, val in enumerate(arr):\n",
    "    new_arr[i] = i * val\n",
    "    print(f'The element at index {i} is {val}')\n",
    "\n",
    "print(f'After the loop new_arr = {new_arr}')"
   ]
  },
  {
   "cell_type": "markdown",
   "metadata": {},
   "source": [
    "Back to the solution to our integration problem. Our goal is to compute the value of the solution for an array of x-values. We will iterate over an array of x-values, and for each one compute the value of the solution at that x, and save the solution in a new array.\n",
    "\n"
   ]
  },
  {
   "cell_type": "code",
   "execution_count": 20,
   "metadata": {},
   "outputs": [
    {
     "name": "stdout",
     "output_type": "stream",
     "text": [
      "[[ 3.          0.        ]\n",
      " [ 3.00374012  0.07142857]\n",
      " [ 3.01464985  0.14285714]\n",
      " [ 3.03233398  0.21428571]\n",
      " [ 3.05647958  0.28571429]\n",
      " [ 3.08684349  0.35714286]\n",
      " [ 3.12324239  0.42857143]\n",
      " [ 3.16554484  0.5       ]\n",
      " [ 3.21366491  0.57142857]\n",
      " [ 3.26755705  0.64285714]\n",
      " [ 3.32721196  0.71428571]\n",
      " [ 3.39265331  0.78571429]\n",
      " [ 3.46393511  0.85714286]\n",
      " [ 3.54113963  0.92857143]\n",
      " [ 3.62437577  1.        ]\n",
      " [ 3.71377786  1.07142857]\n",
      " [ 3.80950471  1.14285714]\n",
      " [ 3.91173905  1.21428571]\n",
      " [ 4.02068707  1.28571429]\n",
      " [ 4.13657836  1.35714286]\n",
      " [ 4.25966584  1.42857143]\n",
      " [ 4.39022603  1.5       ]\n",
      " [ 4.52855937  1.57142857]\n",
      " [ 4.67499076  1.64285714]\n",
      " [ 4.82987016  1.71428571]\n",
      " [ 4.99357341  1.78571429]\n",
      " [ 5.16650308  1.85714286]\n",
      " [ 5.34908954  1.92857143]\n",
      " [ 5.54179207  2.        ]\n",
      " [ 5.74510016  2.07142857]\n",
      " [ 5.95953484  2.14285714]\n",
      " [ 6.18565026  2.21428571]\n",
      " [ 6.42403529  2.28571429]\n",
      " [ 6.67531529  2.35714286]\n",
      " [ 6.94015402  2.42857143]\n",
      " [ 7.21925568  2.5       ]\n",
      " [ 7.5133671   2.57142857]\n",
      " [ 7.82328006  2.64285714]\n",
      " [ 8.14983384  2.71428571]\n",
      " [ 8.49391781  2.78571429]\n",
      " [ 8.85647434  2.85714286]\n",
      " [ 9.23850179  2.92857143]\n",
      " [ 9.64105772  3.        ]\n",
      " [10.06526237  3.07142857]\n",
      " [10.51230225  3.14285714]\n",
      " [10.98343404  3.21428571]\n",
      " [11.47998872  3.28571429]\n",
      " [12.00337595  3.35714286]\n",
      " [12.55508869  3.42857143]\n",
      " [13.13670822  3.5       ]]\n"
     ]
    },
    {
     "data": {
      "text/plain": [
       "(0.0, 3.5)"
      ]
     },
     "execution_count": 20,
     "metadata": {},
     "output_type": "execute_result"
    },
    {
     "data": {
      "image/png": "[encoded data removed]",
      "text/plain": [
       "<Figure size 432x288 with 1 Axes>"
      ]
     },
     "metadata": {
      "needs_background": "light"
     },
     "output_type": "display_data"
    }
   ],
   "source": [
    "x = np.linspace(0, 3.5)  # xs we want y(x) for\n",
    "yval = np.zeros(x.shape)\n",
    "\n",
    "for i, xval in enumerate(x):\n",
    "    I, err  = quad(p,a, xval)\n",
    "    yval[i] = b*np.exp(-I) \n",
    "\n",
    "print(np.column_stack((yval,x)))\n",
    "plt.plot(x,yval)\n",
    "plt.xlabel('x')\n",
    "plt.ylabel('y')\n",
    "plt.xlim([x.min(), x.max()])\n",
    "\n",
    "#for i, x1 in enumerate(x):\n",
    "#    I, err = quad(p, a, x1)\n",
    "#    y[i] = b * np.exp(-I)\n",
    "\n",
    "#%matplotlib inline\n",
    "#import matplotlib.pyplot as plt\n",
    "#plt.plot(x, y)\n",
    "#plt.xlabel('x')\n",
    "#plt.ylabel('y')\n",
    "#plt.xlim([x.min(), x.max()])"
   ]
  },
  {
   "cell_type": "markdown",
   "metadata": {},
   "source": [
    "We should ask, how can we tell this is correct? We can confirm the initial values, which we know are correct.\n",
    "\n"
   ]
  },
  {
   "cell_type": "code",
   "execution_count": 17,
   "metadata": {},
   "outputs": [
    {
     "data": {
      "text/plain": [
       "(0.0, 3.0)"
      ]
     },
     "execution_count": 17,
     "metadata": {},
     "output_type": "execute_result"
    }
   ],
   "source": [
    "x[0], yval[0]"
   ]
  },
  {
   "cell_type": "markdown",
   "metadata": {},
   "source": [
    "We can express the ODE as: $y' = \\frac{x}{x+2}y$. By inspection, we can see that the derivative will always be positive, so the solution should increase from the initial value, which it does.\n",
    "\n",
    "We can also examine the derivatives of our solution. We have to rely on numerical derivatives of our solution because x and y are arrays. `np.gradient` will compute the derivative using a reasonable approximation. We know the derivative analytically from the ODE.\n",
    "\n"
   ]
  },
  {
   "cell_type": "code",
   "execution_count": 21,
   "metadata": {},
   "outputs": [],
   "source": [
    "?np.gradient"
   ]
  },
  {
   "cell_type": "code",
   "execution_count": 25,
   "metadata": {},
   "outputs": [
    {
     "data": {
      "text/plain": [
       "array([2.17452405e-03, 1.02548973e-01, 2.00157005e-01, 2.92808076e-01,\n",
       "       3.81566523e-01, 4.67339650e-01, 5.50909476e-01, 6.32957696e-01,\n",
       "       7.14085481e-01, 7.94829320e-01, 8.75673809e-01, 9.57062057e-01,\n",
       "       1.03940423e+00, 1.12308463e+00, 1.20846761e+00, 1.29590259e+00,\n",
       "       1.38572831e+00, 1.47827652e+00, 1.57387519e+00, 1.67285136e+00,\n",
       "       1.77553368e+00, 1.88225473e+00, 1.99335313e+00, 2.10917554e+00,\n",
       "       2.23007854e+00, 2.35643042e+00, 2.48861292e+00, 2.62702295e+00,\n",
       "       2.77207431e+00, 2.92419935e+00, 3.08385073e+00, 3.25150317e+00,\n",
       "       3.42765521e+00, 3.61283111e+00, 3.80758272e+00, 4.01249153e+00,\n",
       "       4.22817068e+00, 4.45526720e+00, 4.69446425e+00, 4.94648353e+00,\n",
       "       5.21208783e+00, 5.49208366e+00, 5.78732407e+00, 6.09871166e+00,\n",
       "       6.42720167e+00, 6.77380532e+00, 7.13959337e+00, 7.52569982e+00,\n",
       "       7.93332588e+00, 8.35202071e+00])"
      ]
     },
     "execution_count": 25,
     "metadata": {},
     "output_type": "execute_result"
    }
   ],
   "source": [
    "np.gradient(yval, x, edge_order=2) # edge_order=2 is a more accurate estimate\n",
    "#plt.plot(x, dydx, label='numerical')\n",
    "#plt.plot(x, x / (x + 2) * yval, 'r--', label='analytical')\n",
    "#plt.xlabel('x')\n",
    "#plt.ylabel('dy/dx')\n",
    "#plt.legend()"
   ]
  },
  {
   "cell_type": "markdown",
   "metadata": {},
   "source": [
    "Here you see good agreement over most of the range. The end-points are always less accurate because the derivatives there are approximated by a less accurate formula. We interpret the sum of this evidence to mean our solution to the ODE is good over this range of x values.\n",
    "\n"
   ]
  },
  {
   "cell_type": "markdown",
   "metadata": {},
   "source": [
    "### Non-homogeneous linear first-order ODEs\n",
    "\n"
   ]
  },
  {
   "cell_type": "markdown",
   "metadata": {},
   "source": [
    "A non-homogenous first order, linear differential equation has this form:\n",
    "\n",
    "$y' + p(x) y = q(x), y(a)=b$\n",
    "\n",
    "Equations of this form are typically solved with a method called variation of parameters. In the most general form, this leads to solutions of the form:\n",
    "\n",
    "$y(x) = e^{-\\int_a^x p(\\xi)d\\xi}\\left(\\int_a^x e^{\\int_a^{\\xi} p(\\zeta)d\\zeta} q(\\xi)d\\xi + b\\right)$\n",
    "\n",
    "It is a little tricky to implement this. It is helpful to break this down into several pieces. Note that it is not necessary to do this, it just makes it easier to read, debug, and see that you have done it correctly. Here are the easiest parts.\n",
    "\n"
   ]
  },
  {
   "cell_type": "code",
   "execution_count": 37,
   "metadata": {},
   "outputs": [],
   "source": [
    "def p(xi):\n",
    "    return -2 * xi\n",
    "\n",
    "def q(xi):\n",
    "    return np.sin(xi)\n",
    "\n",
    "a = 0\n",
    "b = 3"
   ]
  },
  {
   "cell_type": "markdown",
   "metadata": {},
   "source": [
    "Next, we will break the equation into two parts:\n",
    "\n",
    "$y(x) = term1 * term2$ where\n",
    "\n",
    "$term1 = e^{-\\int_a^x p(\\xi)d\\xi}$\n",
    "\n",
    "and\n",
    "\n",
    "$term2 = \\left(\\int_a^x e^{\\int_a^{\\xi} p(\\zeta)d\\zeta} q(\\xi)d\\xi + b\\right)$\n",
    "\n",
    "We can immediately define a function for term1 as:\n",
    "\n"
   ]
  },
  {
   "cell_type": "code",
   "execution_count": 38,
   "metadata": {},
   "outputs": [],
   "source": [
    "def term1(x):\n",
    "    I1, _ = quad(p, a, x)\n",
    "    return np.exp(-I1)"
   ]
  },
  {
   "cell_type": "markdown",
   "metadata": {},
   "source": [
    "term2 is a little trickier, as it has a partial integral inside an integral. We can define a function for this term also, but we have to define an internal function to use for the integral. The internal function will have an integral inside of it.\n",
    "\n"
   ]
  },
  {
   "cell_type": "code",
   "execution_count": 47,
   "metadata": {},
   "outputs": [],
   "source": [
    "def integrand(xi):\n",
    "        internal_term1, _ = quad(p, a, xi)\n",
    "        return np.exp(internal_term1) * q(xi)\n",
    "    \n",
    "def term2(x):\n",
    "    I2, _ = quad(integrand, a, x)\n",
    "    return I2 + b"
   ]
  },
  {
   "cell_type": "markdown",
   "metadata": {},
   "source": [
    "Now, to use it, we form the product of the two terms:\n",
    "\n"
   ]
  },
  {
   "cell_type": "code",
   "execution_count": 48,
   "metadata": {},
   "outputs": [
    {
     "name": "stdout",
     "output_type": "stream",
     "text": [
      "3.991276533834524\n"
     ]
    }
   ],
   "source": [
    "x1 = 0.5\n",
    "print(term1(x1) * term2(x1))"
   ]
  },
  {
   "cell_type": "markdown",
   "metadata": {},
   "source": [
    "With some algebra and calculus on your part, you might arrive at the following non-elementary integral solution:\n",
    "\n",
    "$y(x) = e^{x^2} \\left(\\int_0^x e^{-\\xi^2} \\sin{\\xi} d\\xi + 3\\right)$\n",
    "\n",
    "The solution is called non-elementary because you cannot evaluate the integral in closed form using elementary functions, e.g. powers of x, trigonometric functions, exponentials or logarithms. You can, however, use numerical methods to integrate it.\n",
    "\n"
   ]
  },
  {
   "cell_type": "code",
   "execution_count": 49,
   "metadata": {},
   "outputs": [
    {
     "data": {
      "text/plain": [
       "3.991276533834524"
      ]
     },
     "execution_count": 49,
     "metadata": {},
     "output_type": "execute_result"
    }
   ],
   "source": [
    "def integrand(x):\n",
    "    return np.exp(-x**2) * np.sin(x)\n",
    "\n",
    "I, _ = quad(integrand, 0, x1)\n",
    "\n",
    "sol = np.exp(x1**2) * (I + b)\n",
    "sol"
   ]
  },
  {
   "cell_type": "markdown",
   "metadata": {},
   "source": [
    "Note there is some conservation of effort here. If you can derive the solution above correctly (and you have all learned how to do this if you had a differential equations course), the code below is quite short to get the solution at some value of x. If you are unable to derive that solution, you can use the general solution we gave, but then it is a trickier solution to implement in code.\n",
    "\n"
   ]
  },
  {
   "cell_type": "markdown",
   "metadata": {},
   "source": [
    "### Limitations of solutions by integration\n",
    "\n"
   ]
  },
  {
   "cell_type": "markdown",
   "metadata": {},
   "source": [
    "Solution by integration has some advantages. You get an estimate of the error in the solution from the `quad` function, which is helpful to know how good the solution is. However, the methods described above are limited to *linear* differential equations of the form described. If you have a nonlinear differential equation, or if you are unable to separate the equations into integrable form, the methods simply don't work. Next, we consider how to approach equations where we cannot use integration to solve the problems.\n",
    "\n"
   ]
  },
  {
   "cell_type": "markdown",
   "metadata": {},
   "source": [
    "## Numerical solutions to differential equations\n",
    "\n"
   ]
  },
  {
   "cell_type": "markdown",
   "metadata": {},
   "source": [
    "We begin with a brief review of first order differential equations. The equations we are concerned with here all have the form:\n",
    "\n",
    "$\\frac{dy}{dx} = f(x, y)$\n",
    "\n",
    "And the value of the solution is known at some point, e.g. $y(x0) = y0$. $f(x, y)$ can be linear or nonlinear. Our goal in this section is to motivate how numerical solutions are obtained.\n",
    "\n",
    "These notes were adapted from Chapter 6 in Advanced Engineering Mathematics 2<sup>nd</sup> ed. by Michael D. Greenberg.\n",
    "\n",
    "The basic idea behind these methods is that we know the initial value of the solution *and* the derivative of the solution (it is defined by the ODE definition above), and so we can estimate the solution a small distance away from the initial value. If you repeat this process with the newly estimated point, you can estimate the next point, and so on. There are many algorithms for performing the estimation, and we will consider a two of them. These algorithms differ in efficiency, ease of implementation, and accuracy.\n",
    "\n"
   ]
  },
  {
   "cell_type": "markdown",
   "metadata": {},
   "source": [
    "### Euler's method\n",
    "\n"
   ]
  },
  {
   "cell_type": "markdown",
   "metadata": {},
   "source": [
    "The main idea of Euler's method is that if you know the value of the solution at some point, and you know the derivative at that point, you can estimate the solution nearby at $x0 + h$, where $h$ is a small number:\n",
    "\n",
    "$y_{n+1} = y_n + f(x_n, y_n) h$\n",
    "\n",
    "Now, you just repeat this until you get to the x-value that you want. For concreteness, consider:\n",
    "\n",
    "$y' = y + 2x - x^2; y(0) = 1$.\n",
    "\n",
    "This ODE has a known analytical solution: $y(x) = x^2 + e^x$. We will use this for comparison.\n",
    "\n"
   ]
  },
  {
   "cell_type": "code",
   "execution_count": 50,
   "metadata": {},
   "outputs": [],
   "source": [
    "?range\n"
   ]
  },
  {
   "cell_type": "code",
   "execution_count": 31,
   "metadata": {},
   "outputs": [
    {
     "name": "stdout",
     "output_type": "stream",
     "text": [
      "h = 0.0010006671114076052\n"
     ]
    }
   ],
   "source": [
    "import numpy as np\n",
    "\n",
    "def f(x, y):\n",
    "    return y + 2 * x - x**2\n",
    "\n",
    "x0 = 0\n",
    "y0 = 1\n",
    "\n",
    "x, h = np.linspace(x0, 1.5, 1500, retstep=True)  # Note the optional argument to get the stepsize.\n",
    "print(f'h = {h}')\n",
    "\n",
    "y = np.zeros(x.shape)\n",
    "y[0] = y0 # initial condition corresponding to x[0]\n",
    "\n",
    "# Implementation of Euler's method\n",
    "for n in range(0, len(x) - 1):\n",
    "    y[n + 1] = y[n] + f(x[n], y[n]) * h"
   ]
  },
  {
   "cell_type": "markdown",
   "metadata": {},
   "source": [
    "We can check out the solution graphically:\n",
    "\n"
   ]
  },
  {
   "cell_type": "code",
   "execution_count": 34,
   "metadata": {},
   "outputs": [
    {
     "data": {
      "text/plain": [
       "<matplotlib.legend.Legend at 0x1cba0c38448>"
      ]
     },
     "execution_count": 34,
     "metadata": {},
     "output_type": "execute_result"
    },
    {
     "data": {
      "image/png": "[encoded data removed]",
      "text/plain": [
       "<Figure size 432x288 with 1 Axes>"
      ]
     },
     "metadata": {
      "needs_background": "light"
     },
     "output_type": "display_data"
    }
   ],
   "source": [
    "%matplotlib inline\n",
    "import matplotlib.pyplot as plt\n",
    "plt.plot(x, y, label='Euler')\n",
    "plt.plot(x, x**2 + np.exp(x), 'r--', label='Analytical')\n",
    "plt.xlabel('x')\n",
    "plt.ylabel('y')\n",
    "plt.legend()"
   ]
  },
  {
   "cell_type": "markdown",
   "metadata": {},
   "source": [
    "This solution does not look that good until you increase the number of points (i.e. decrease the value of $h$, significantly). It is known the error decreases only linearly with $h$.\n",
    "\n",
    "**Exercise** Increase the number of points in the x array and see how it affects the solution.\n",
    "\n",
    "This method is not used in practice; it is not very accurate, and you need quite small $h$ to get a good solution. It is used here to illustrate the idea of how one integrates a differential equation. We will consider one more advanced method, the fourth-order Runge-Kutta method.\n",
    "\n"
   ]
  },
  {
   "cell_type": "markdown",
   "metadata": {},
   "source": [
    "### Fourth-order Runge-Kutta method\n",
    "\n"
   ]
  },
  {
   "cell_type": "markdown",
   "metadata": {},
   "source": [
    "The general idea of the more advanced methods is to use a weighted average of slopes at various points around a point to best estimate the next function value. Here we consider the fourth-order Runge-Kutta algorithm. The terms are tedious to derive, and we will not do it here as they can be looked up in several places (e.g. [https://en.wikipedia.org/wiki/Runge%E2%80%93Kutta_methods#The_Runge%E2%80%93Kutta_method](https://en.wikipedia.org/wiki/Runge%E2%80%93Kutta_methods#The_Runge%E2%80%93Kutta_method)).\n",
    "\n"
   ]
  },
  {
   "cell_type": "code",
   "execution_count": 35,
   "metadata": {},
   "outputs": [
    {
     "name": "stdout",
     "output_type": "stream",
     "text": [
      "h = 0.375\n"
     ]
    }
   ],
   "source": [
    "x0 = 0\n",
    "y0 = 1\n",
    "\n",
    "x, h = np.linspace(x0, 1.5, 5, retstep=True)\n",
    "print(f'h = {h}')\n",
    "y = np.zeros(x.shape)\n",
    "y[0] = y0\n",
    "\n",
    "# Implementation of fourth order Runge Kutta method\n",
    "for i in range(0, len(x) - 1):\n",
    "    k1 = h * f(x[i], y[i]) # Note this is like Euler's method\n",
    "    k2 = h * f(x[i] + h / 2, y[i] + k1 / 2)  # This is the increment at the midpoint using y, k1\n",
    "    k3 = h * f(x[i] + h / 2, y[i] + k2 / 2)  # This is the increment at the midpoint using y, k2\n",
    "    k4 = h * f(x[i] + h, y[i] + k3) # This is the increment at the end of the interval\n",
    "    # This is a weighted average of the four increments computed above. There is a heavier weight on the midpoints\n",
    "    y[i + 1] = y[i] + (k1 + (2 * k2) + (2 * k3) + k4) / 6"
   ]
  },
  {
   "cell_type": "code",
   "execution_count": 36,
   "metadata": {},
   "outputs": [
    {
     "data": {
      "text/plain": [
       "<matplotlib.legend.Legend at 0x1cba0b92a08>"
      ]
     },
     "execution_count": 36,
     "metadata": {},
     "output_type": "execute_result"
    },
    {
     "data": {
      "image/png": "[encoded data removed]",
      "text/plain": [
       "<Figure size 432x288 with 1 Axes>"
      ]
     },
     "metadata": {
      "needs_background": "light"
     },
     "output_type": "display_data"
    }
   ],
   "source": [
    "plt.plot(x, y, label='RK-4')\n",
    "plt.plot(x, x**2 + np.exp(x), 'r--', label='Analytical')\n",
    "plt.xlabel('x')\n",
    "plt.ylabel('y')\n",
    "plt.legend()"
   ]
  },
  {
   "cell_type": "markdown",
   "metadata": {},
   "source": [
    "Note you can get a much more accurate solution with a larger $h$ with this method.\n",
    "\n",
    "*If* our differential equation is just $\\frac{dy}{dt} = f(x)$, i.e. $f$ is independent of $y$, then this method is equivalent to Simpson't rule of integration.\n",
    "\n",
    "Both of these methods leave some things to be desired:\n",
    "\n",
    "1.  We had to code them, and there are many places to make mistakes.\n",
    "2.  You have to choose $h$, or equivalently the number of points to use, and then make sure the solution has converged (does not depend on your choice).\n",
    "3.  $h$ is fixed in these examples, and you might prefer to use an adaptive value.\n",
    "4.  It is not easy to solve the inverse problem, e.g. for what value of $x$ does $y=4$?\n",
    "\n",
    "In practice, there are well-written ODE integrators to solve this kind of problem that address all the short-comings listed above. To use them, we just need to learn the syntax. We do that next.\n",
    "\n"
   ]
  },
  {
   "cell_type": "markdown",
   "metadata": {},
   "source": [
    "## scipy.integrate.solve_ivp\n",
    "\n"
   ]
  },
  {
   "cell_type": "markdown",
   "metadata": {},
   "source": [
    "The `scipy.integrate` library provides `solve_ivp` to solve first order differential equations. It is not the only one available, but this function is recommended. You import the function like this:\n",
    "\n"
   ]
  },
  {
   "cell_type": "code",
   "execution_count": 27,
   "metadata": {},
   "outputs": [],
   "source": [
    "from scipy.integrate import solve_ivp\n",
    "?solve_ivp"
   ]
  },
  {
   "cell_type": "markdown",
   "metadata": {},
   "source": [
    "Here is a minimal use of the function, with keyword arguments.\n",
    "\n",
    "`y0` is an array containing the initial values.  `fun` is a function with a signature of f(t, y). Here, $t$ is considered the independent variable. You can call it whatever you want, so f(x, y) is also fine. Since `solve_ivp` had $t$ in mind, the second argument is the `t_span`, which is a tuple of two numbers for where the integration starts (t0, or x0) and where it ends.  `solve_ivp` returns an object.\n",
    "\n"
   ]
  },
  {
   "cell_type": "code",
   "execution_count": 38,
   "metadata": {},
   "outputs": [],
   "source": [
    "?f\n"
   ]
  },
  {
   "cell_type": "code",
   "execution_count": 39,
   "metadata": {},
   "outputs": [
    {
     "ename": "AttributeError",
     "evalue": "'int' object has no attribute 'shape'",
     "output_type": "error",
     "traceback": [
      "\u001b[1;31m---------------------------------------------------------------------------\u001b[0m",
      "\u001b[1;31mAttributeError\u001b[0m                            Traceback (most recent call last)",
      "\u001b[1;32m<ipython-input-39-15e9438d101b>\u001b[0m in \u001b[0;36m<module>\u001b[1;34m\u001b[0m\n\u001b[1;32m----> 1\u001b[1;33m \u001b[0my0\u001b[0m\u001b[1;33m,\u001b[0m\u001b[0my0\u001b[0m\u001b[1;33m.\u001b[0m\u001b[0mshape\u001b[0m\u001b[1;33m,\u001b[0m \u001b[0mx0\u001b[0m\u001b[1;33m\u001b[0m\u001b[1;33m\u001b[0m\u001b[0m\n\u001b[0m",
      "\u001b[1;31mAttributeError\u001b[0m: 'int' object has no attribute 'shape'"
     ]
    }
   ],
   "source": [
    "y0,y0.shape, x0"
   ]
  },
  {
   "cell_type": "code",
   "execution_count": 40,
   "metadata": {},
   "outputs": [],
   "source": [
    "y0 = 1\n",
    "y0 = np.array([y0]) # It is a good idea to make y0 an array. It will be important later.\n",
    "sol = solve_ivp(fun=f, t_span=(x0, 1.5), y0=y0)"
   ]
  },
  {
   "cell_type": "markdown",
   "metadata": {},
   "source": [
    "The output of `solve_ip` is an object containing results in attributes on the object.\n",
    "\n"
   ]
  },
  {
   "cell_type": "code",
   "execution_count": 41,
   "metadata": {},
   "outputs": [
    {
     "data": {
      "text/plain": [
       "  message: 'The solver successfully reached the end of the integration interval.'\n",
       "     nfev: 20\n",
       "     njev: 0\n",
       "      nlu: 0\n",
       "      sol: None\n",
       "   status: 0\n",
       "  success: True\n",
       "        t: array([0.        , 0.08034384, 0.86683456, 1.5       ])\n",
       " t_events: None\n",
       "        y: array([[1.        , 1.09011474, 3.13086569, 6.73191444]])\n",
       " y_events: None"
      ]
     },
     "execution_count": 41,
     "metadata": {},
     "output_type": "execute_result"
    }
   ],
   "source": [
    "sol"
   ]
  },
  {
   "cell_type": "markdown",
   "metadata": {},
   "source": [
    "You should look for a few things here. One is that the message indicates success. Second, we access the solution using dot notation. Here are the independent variable values the solution was evaluated at.\n",
    "\n"
   ]
  },
  {
   "cell_type": "code",
   "execution_count": 42,
   "metadata": {},
   "outputs": [
    {
     "data": {
      "text/plain": [
       "(4,)"
      ]
     },
     "execution_count": 42,
     "metadata": {},
     "output_type": "execute_result"
    }
   ],
   "source": [
    "sol.t.shape"
   ]
  },
  {
   "cell_type": "markdown",
   "metadata": {},
   "source": [
    "Third, the solution is in a 2D array. We only have one equation here, so we use indexing to get the first row as an array.\n",
    "\n"
   ]
  },
  {
   "cell_type": "code",
   "execution_count": 43,
   "metadata": {},
   "outputs": [
    {
     "data": {
      "text/plain": [
       "array([[1.        , 1.09011474, 3.13086569, 6.73191444]])"
      ]
     },
     "execution_count": 43,
     "metadata": {},
     "output_type": "execute_result"
    }
   ],
   "source": [
    "sol.y"
   ]
  },
  {
   "cell_type": "markdown",
   "metadata": {},
   "source": [
    "Now, we can plot the solution.\n",
    "\n"
   ]
  },
  {
   "cell_type": "code",
   "execution_count": 44,
   "metadata": {},
   "outputs": [
    {
     "data": {
      "text/plain": [
       "<matplotlib.legend.Legend at 0x1cba0bc3988>"
      ]
     },
     "execution_count": 44,
     "metadata": {},
     "output_type": "execute_result"
    },
    {
     "data": {
      "image/png": "[encoded data removed]",
      "text/plain": [
       "<Figure size 432x288 with 1 Axes>"
      ]
     },
     "metadata": {
      "needs_background": "light"
     },
     "output_type": "display_data"
    }
   ],
   "source": [
    "plt.plot(sol.t, sol.y.T, 'bo', label='solve_ivp')\n",
    "plt.plot(sol.t, sol.t**2 + np.exp(sol.t), 'r--', label='Analytical')\n",
    "plt.xlabel('x')\n",
    "plt.ylabel('y')\n",
    "plt.legend()"
   ]
  },
  {
   "cell_type": "markdown",
   "metadata": {},
   "source": [
    "That doesn't looks so great since there are only four data points. By default, the algorithm only uses as many points as it needs to achieve a specified tolerance. We can specify that we want the solution evaluated at other points using the optional `t_eval` keyword arg.\n",
    "\n"
   ]
  },
  {
   "cell_type": "code",
   "execution_count": 45,
   "metadata": {},
   "outputs": [
    {
     "data": {
      "text/plain": [
       "  message: 'The solver successfully reached the end of the integration interval.'\n",
       "     nfev: 20\n",
       "     njev: 0\n",
       "      nlu: 0\n",
       "      sol: None\n",
       "   status: 0\n",
       "  success: True\n",
       "        t: array([0.        , 0.03061224, 0.06122449, 0.09183673, 0.12244898,\n",
       "       0.15306122, 0.18367347, 0.21428571, 0.24489796, 0.2755102 ,\n",
       "       0.30612245, 0.33673469, 0.36734694, 0.39795918, 0.42857143,\n",
       "       0.45918367, 0.48979592, 0.52040816, 0.55102041, 0.58163265,\n",
       "       0.6122449 , 0.64285714, 0.67346939, 0.70408163, 0.73469388,\n",
       "       0.76530612, 0.79591837, 0.82653061, 0.85714286, 0.8877551 ,\n",
       "       0.91836735, 0.94897959, 0.97959184, 1.01020408, 1.04081633,\n",
       "       1.07142857, 1.10204082, 1.13265306, 1.16326531, 1.19387755,\n",
       "       1.2244898 , 1.25510204, 1.28571429, 1.31632653, 1.34693878,\n",
       "       1.37755102, 1.40816327, 1.43877551, 1.46938776, 1.5       ])\n",
       " t_events: None\n",
       "        y: array([[1.        , 1.03202273, 1.06688599, 1.10462029, 1.14526069,\n",
       "        1.18883821, 1.23538386, 1.28493005, 1.33751066, 1.39316097,\n",
       "        1.45191772, 1.51381907, 1.57890465, 1.64721547, 1.71879402,\n",
       "        1.79368421, 1.87193138, 1.95358232, 2.03868524, 2.12728979,\n",
       "        2.21944707, 2.31520959, 2.41463131, 2.51776762, 2.62467537,\n",
       "        2.7354128 , 2.85003963, 2.96861698, 3.09120744, 3.21787836,\n",
       "        3.34870553, 3.48375748, 3.6231049 , 3.76682143, 3.91498364,\n",
       "        4.06767101, 4.22496595, 4.38695382, 4.55372287, 4.7253643 ,\n",
       "        4.90197223, 5.08364371, 5.2704787 , 5.46258012, 5.66005377,\n",
       "        5.86300842, 6.07155575, 6.28581035, 6.50588976, 6.73191444]])\n",
       " y_events: None"
      ]
     },
     "execution_count": 45,
     "metadata": {},
     "output_type": "execute_result"
    }
   ],
   "source": [
    "X = np.linspace(x0, 1.5)\n",
    "sol = solve_ivp(fun=f, t_span=(x0, 1.5), y0=y0, t_eval=X)\n",
    "sol"
   ]
  },
  {
   "cell_type": "code",
   "execution_count": 46,
   "metadata": {},
   "outputs": [
    {
     "data": {
      "text/plain": [
       "<matplotlib.legend.Legend at 0x1cba0d8e908>"
      ]
     },
     "execution_count": 46,
     "metadata": {},
     "output_type": "execute_result"
    },
    {
     "data": {
      "image/png": "[encoded data removed]",
      "text/plain": [
       "<Figure size 432x288 with 1 Axes>"
      ]
     },
     "metadata": {
      "needs_background": "light"
     },
     "output_type": "display_data"
    }
   ],
   "source": [
    "plt.plot(sol.t, sol.y[0], 'b.', label='solve_ivp')\n",
    "plt.plot(X, X**2 + np.exp(X), 'r--', label='Analytical')\n",
    "plt.xlabel('x')\n",
    "plt.ylabel('y')\n",
    "plt.legend()"
   ]
  },
  {
   "cell_type": "markdown",
   "metadata": {},
   "source": [
    "So far, `solve_ivp` solves the issues with item 1 (we did not have to code the algorithm), and items 2 and 3 (it uses an adaptive step and converges to a tolerance for us). It will also help us solve for the inverse problem, i.e. for what value of $x$ is $y=4$?\n",
    "\n",
    "To do this, we need a new concept of an \"event function\". During each step of the integration, you can run a function that can detect an \"event\". When an event is detected, the location of the event is stored, and if desired integration can be terminated. `solve_ivp` can take a list of event functions. We consider only one for now.\n",
    "\n",
    "An event occurs when an event function is equal to zero. During integration, if the event function changes sign, then it is clear an event has occurred, and the algorithm determines where it occurred. Since we want to know when $y=4$, we will define a function that returns $y - 4$, because that will equal zero at that condition. We want the integration to terminate when that happens, so we set the \"terminal\" attribute on our function to True.\n",
    "\n",
    "An event function has a signature of f(x, y). Remember that $y$ is going to be an array,\n",
    "\n"
   ]
  },
  {
   "cell_type": "code",
   "execution_count": 47,
   "metadata": {},
   "outputs": [
    {
     "data": {
      "text/plain": [
       "  message: 'A termination event occurred.'\n",
       "     nfev: 20\n",
       "     njev: 0\n",
       "      nlu: 0\n",
       "      sol: None\n",
       "   status: 1\n",
       "  success: True\n",
       "        t: array([0.        , 0.08034384, 0.86683456, 1.05797402])\n",
       " t_events: [array([1.05797402])]\n",
       "        y: array([[1.        , 1.09011474, 3.13086569, 4.        ]])\n",
       " y_events: [array([[4.]])]"
      ]
     },
     "execution_count": 47,
     "metadata": {},
     "output_type": "execute_result"
    }
   ],
   "source": [
    "def event1(x, y):\n",
    "    return y[0] - 4\n",
    "\n",
    "event1.terminal = True\n",
    "\n",
    "sol = solve_ivp(fun=f, t_span=(x0, 1.5), y0=y0, events=event1)\n",
    "sol"
   ]
  },
  {
   "cell_type": "markdown",
   "metadata": {},
   "source": [
    "Now, there are a couple of new things to note. First, we got a message that a termination event occurred. Second, the sol.y array ends at 4.0, because we made the event function *terminal*. Next, sol.t\\_events is not empty, because an event occurred. It now contains the value where the event occurred, which is where $y=4$!\n",
    "\n"
   ]
  },
  {
   "cell_type": "code",
   "execution_count": 48,
   "metadata": {},
   "outputs": [
    {
     "data": {
      "text/plain": [
       "array([1.05797402])"
      ]
     },
     "execution_count": 48,
     "metadata": {},
     "output_type": "execute_result"
    }
   ],
   "source": [
    "sol.t_events[0]"
   ]
  },
  {
   "cell_type": "code",
   "execution_count": 49,
   "metadata": {},
   "outputs": [
    {
     "data": {
      "text/plain": [
       "array([0.        , 0.08034384, 0.86683456, 1.05797402])"
      ]
     },
     "execution_count": 49,
     "metadata": {},
     "output_type": "execute_result"
    }
   ],
   "source": [
    "sol.t"
   ]
  },
  {
   "cell_type": "code",
   "execution_count": 50,
   "metadata": {},
   "outputs": [
    {
     "name": "stdout",
     "output_type": "stream",
     "text": [
      "y=4 at x=1.0579740235381914. Confirming: y = 3.9998382237380805\n"
     ]
    }
   ],
   "source": [
    "print(f'y=4 at x={sol.t[-1]}. Confirming: y = {sol.t[-1]**2 + np.exp(sol.t[-1])}')"
   ]
  },
  {
   "cell_type": "markdown",
   "metadata": {},
   "source": [
    "That is pretty close. You have to decide if it is close enough for the purpose you want. You can control the tolerance with optional `atol` and `rtol` keywords. You should read the documentation before changing this.\n",
    "\n"
   ]
  },
  {
   "cell_type": "code",
   "execution_count": 1,
   "metadata": {},
   "outputs": [
    {
     "name": "stdout",
     "output_type": "stream",
     "text": [
      "# Out [29]:\n",
      "# text/plain\n",
      "3.999999342786803"
     ]
    }
   ],
   "source": [
    "def event1(x, y):\n",
    "    return y[0] - 4\n",
    "\n",
    "event1.terminal = True\n",
    "\n",
    "sol = solve_ivp(fun=f, t_span=(x0, 1.5), y0=y0, events=event1, rtol=1e-9)\n",
    "sol\n",
    "sol.t[-1]**2 + np.exp(sol.t[-1])"
   ]
  },
  {
   "cell_type": "markdown",
   "metadata": {},
   "source": [
    "## Summary\n",
    "\n"
   ]
  },
  {
   "cell_type": "markdown",
   "metadata": {},
   "source": [
    "We learned how to solve different types of first-order differential equations. Linear equations can be solved by integration, which has the benefit of providing an estimate of error if the `scipy.integrate.quad` function is used.\n",
    "\n",
    "Most first-order differential equations can be solved numerically with `scipy.integrate.solve_ivp`. This solver allows you to specify the points the solution is evaluated on, and to define event functions that can terminate the integration, or record where events occur.\n",
    "\n"
   ]
  }
 ],
 "metadata": {
  "kernelspec": {
   "display_name": "Python 3",
   "language": "python",
   "name": "python3"
  },
  "language_info": {
   "codemirror_mode": {
    "name": "ipython",
    "version": 3
   },
   "file_extension": ".py",
   "mimetype": "text/x-python",
   "name": "python",
   "nbconvert_exporter": "python",
   "pygments_lexer": "ipython3",
   "version": "3.7.6"
  },
  "org": {
   "KEYWORDS": "integration, quad, zeros, shape, enumerate, solve_ivp"
  }
 },
 "nbformat": 4,
 "nbformat_minor": 1
}
