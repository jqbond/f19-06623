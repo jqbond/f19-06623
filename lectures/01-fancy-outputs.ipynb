{
 "cells": [
  {
   "cell_type": "markdown",
   "metadata": {},
   "source": [
    "# Fancy outputs in Jupyter notebooks\n",
    "\n",
    "Here we look at limitations of the print statement, and some ways to address those. One limitation is it is not easy to create rich formats that include things like superscript and subscripts with a print statement. The output of a print statement is printed in a raw, verbatim form.\n",
    "\n",
    "This is an optional, advanced topic. "
   ]
  },
  {
   "cell_type": "code",
   "execution_count": 7,
   "metadata": {},
   "outputs": [
    {
     "name": "stdout",
     "output_type": "stream",
     "text": [
      "H_2O\n"
     ]
    }
   ],
   "source": [
    "print('H_2O') # this does not make a subscript"
   ]
  },
  {
   "cell_type": "code",
   "execution_count": 49,
   "metadata": {},
   "outputs": [
    {
     "name": "stdout",
     "output_type": "stream",
     "text": [
      "H<sub>2</sub>O\n"
     ]
    }
   ],
   "source": [
    "print('H<sub>2</sub>O') # neither does this."
   ]
  },
  {
   "cell_type": "markdown",
   "metadata": {},
   "source": [
    "It is possible to print unicode characters, but we will not need to do this and the methods below are easier to use."
   ]
  },
  {
   "cell_type": "markdown",
   "metadata": {},
   "source": [
    "## Rich outputs in code cells\n",
    "The notebook does support rich output though. You can use this to output fancy things like subscripts and superscripts. You can do this by importing things from `IPython.display` and then using them to create the output. The main options are `HTML`, `Latex` and `Markdown`. You can create formatted strings in those formats, and the output will be rendered in a nice way."
   ]
  },
  {
   "cell_type": "code",
   "execution_count": 1,
   "metadata": {},
   "outputs": [],
   "source": [
    "from IPython.display import HTML"
   ]
  },
  {
   "cell_type": "code",
   "execution_count": 2,
   "metadata": {},
   "outputs": [
    {
     "data": {
      "text/html": [
       "10<sup>2</sup> = 100 meter<sup>2</sup>. It looks <b>great</b>!"
      ],
      "text/plain": [
       "<IPython.core.display.HTML object>"
      ]
     },
     "execution_count": 2,
     "metadata": {},
     "output_type": "execute_result"
    }
   ],
   "source": [
    "d = 10  # suppose the units here are meters\n",
    "# We can use f-strings in this so that we can get the values in our output. \n",
    "# <sup> is an HTML tag.\n",
    "HTML(f'{d}<sup>2</sup> = {d**2} meter<sup>2</sup>. It looks <b>great</b>!')"
   ]
  },
  {
   "cell_type": "code",
   "execution_count": 3,
   "metadata": {},
   "outputs": [
    {
     "data": {
      "text/latex": [
       "$10^2$ = 100 meter$^2$."
      ],
      "text/plain": [
       "<IPython.core.display.Latex object>"
      ]
     },
     "execution_count": 3,
     "metadata": {},
     "output_type": "execute_result"
    }
   ],
   "source": [
    "from IPython.display import Latex\n",
    "# Here our string has to be valid Latex.\n",
    "Latex(f'${d}^2$ = {d**2} meter$^2$.')"
   ]
  },
  {
   "cell_type": "code",
   "execution_count": 6,
   "metadata": {},
   "outputs": [
    {
     "data": {
      "text/latex": [
       "\\textbf{great}"
      ],
      "text/plain": [
       "<IPython.core.display.Latex object>"
      ]
     },
     "execution_count": 6,
     "metadata": {},
     "output_type": "execute_result"
    }
   ],
   "source": [
    "# There seem to be some limitations on Latex, e.g. this does not work. \n",
    "# I would have expected great to be bold here.\n",
    "Latex(r'\\textbf{great}')"
   ]
  },
  {
   "cell_type": "code",
   "execution_count": 10,
   "metadata": {},
   "outputs": [
    {
     "data": {
      "text/latex": [
       "$\\int_2^4 f(x) dx = 18.67 \\pm 2.07e-13$"
      ],
      "text/plain": [
       "<IPython.core.display.Latex object>"
      ]
     },
     "execution_count": 10,
     "metadata": {},
     "output_type": "execute_result"
    }
   ],
   "source": [
    "# Here is a moderately fancy example of using Latex that includes an equation.\n",
    "\n",
    "def f(x):\n",
    "    return x**2\n",
    "\n",
    "from scipy.integrate import quad\n",
    "a, b = 2, 4\n",
    "I, err = quad(f, a, b)\n",
    "\n",
    "Latex(f'$\\int_{a}^{b} f(x) dx = {I:1.2f} \\pm {err:1.2e}$')"
   ]
  },
  {
   "cell_type": "markdown",
   "metadata": {},
   "source": [
    "You can also use a `Markdown` output for simple things."
   ]
  },
  {
   "cell_type": "code",
   "execution_count": 11,
   "metadata": {},
   "outputs": [
    {
     "data": {
      "text/markdown": [
       "This is **bold** and *italic* text. Note you need inline html for subscripts like this H<sub>2</sub>O."
      ],
      "text/plain": [
       "<IPython.core.display.Markdown object>"
      ]
     },
     "execution_count": 11,
     "metadata": {},
     "output_type": "execute_result"
    }
   ],
   "source": [
    "from IPython.display import Markdown\n",
    "Markdown(\"This is **bold** and *italic* text.\"\n",
    "         \" Note you need inline html for subscripts like this\"\n",
    "         \" H<sub>2</sub>O.\")"
   ]
  },
  {
   "cell_type": "markdown",
   "metadata": {},
   "source": [
    "# Fancy formatted tables\n",
    "\n",
    "There was a question about printing arrays as a table. Let's start with an array with three rows and 4 columns. The default representation is not that easy to read."
   ]
  },
  {
   "cell_type": "code",
   "execution_count": 12,
   "metadata": {},
   "outputs": [
    {
     "data": {
      "text/plain": [
       "array([[0.78149411, 0.8783626 , 0.76389864, 0.19081925],\n",
       "       [0.91547759, 0.49387145, 0.67132272, 0.64866119],\n",
       "       [0.19833101, 0.78571286, 0.40083693, 0.40681942]])"
      ]
     },
     "execution_count": 12,
     "metadata": {},
     "output_type": "execute_result"
    }
   ],
   "source": [
    "import numpy as np\n",
    "x = np.random.rand(3, 4)\n",
    "x"
   ]
  },
  {
   "cell_type": "markdown",
   "metadata": {},
   "source": [
    "The key here is to transform the array into HTML code that represents the table, and then use the `HTML` code to display it. We use the `tabulate` Python library for that. If this doesn't work for you, you may have to run `pip install tabulate` in your Anaconda prompt or shell."
   ]
  },
  {
   "cell_type": "code",
   "execution_count": 13,
   "metadata": {},
   "outputs": [
    {
     "ename": "ModuleNotFoundError",
     "evalue": "No module named 'tabulate'",
     "output_type": "error",
     "traceback": [
      "\u001b[1;31m---------------------------------------------------------------------------\u001b[0m",
      "\u001b[1;31mModuleNotFoundError\u001b[0m                       Traceback (most recent call last)",
      "\u001b[1;32m<ipython-input-13-8c24234c4866>\u001b[0m in \u001b[0;36m<module>\u001b[1;34m\u001b[0m\n\u001b[1;32m----> 1\u001b[1;33m \u001b[1;32mimport\u001b[0m \u001b[0mtabulate\u001b[0m\u001b[1;33m\u001b[0m\u001b[1;33m\u001b[0m\u001b[0m\n\u001b[0m\u001b[0;32m      2\u001b[0m HTML(tabulate.tabulate(x, \n\u001b[0;32m      3\u001b[0m                        \u001b[0mheaders\u001b[0m\u001b[1;33m=\u001b[0m\u001b[1;33m[\u001b[0m\u001b[1;34m'a'\u001b[0m\u001b[1;33m,\u001b[0m \u001b[1;34m'b'\u001b[0m\u001b[1;33m,\u001b[0m \u001b[1;34m'c'\u001b[0m\u001b[1;33m,\u001b[0m \u001b[1;34m'd'\u001b[0m\u001b[1;33m]\u001b[0m\u001b[1;33m,\u001b[0m \u001b[1;31m# These are the titles of each column\u001b[0m\u001b[1;33m\u001b[0m\u001b[1;33m\u001b[0m\u001b[0m\n\u001b[0;32m      4\u001b[0m                        \u001b[0mfloatfmt\u001b[0m\u001b[1;33m=\u001b[0m\u001b[1;34m'1.2f'\u001b[0m\u001b[1;33m,\u001b[0m  \u001b[1;31m# Specifies the format of each element\u001b[0m\u001b[1;33m\u001b[0m\u001b[1;33m\u001b[0m\u001b[0m\n\u001b[0;32m      5\u001b[0m                        tablefmt='html'))\n",
      "\u001b[1;31mModuleNotFoundError\u001b[0m: No module named 'tabulate'"
     ]
    }
   ],
   "source": [
    "import tabulate\n",
    "HTML(tabulate.tabulate(x, \n",
    "                       headers=['a', 'b', 'c', 'd'], # These are the titles of each column\n",
    "                       floatfmt='1.2f',  # Specifies the format of each element\n",
    "                       tablefmt='html'))"
   ]
  },
  {
   "cell_type": "markdown",
   "metadata": {},
   "source": [
    "The table above is just a *representation* of the array, it does not affect what you can do with the array. For example,"
   ]
  },
  {
   "cell_type": "code",
   "execution_count": 27,
   "metadata": {},
   "outputs": [
    {
     "data": {
      "text/plain": [
       "array([[1.56624781, 0.32952545, 0.98980591, 0.14704239],\n",
       "       [1.54312979, 1.67053367, 0.80750669, 0.74164587],\n",
       "       [0.6083005 , 1.74939206, 0.88060234, 0.91493336]])"
      ]
     },
     "execution_count": 27,
     "metadata": {},
     "output_type": "execute_result"
    }
   ],
   "source": [
    "2 * x"
   ]
  },
  {
   "cell_type": "markdown",
   "metadata": {},
   "source": [
    "An alternative to this is to use Pandas dataframe to show the data as a table. Pandas dataframes already support an HTML output that is automatically rendered in a Jupyter notebook. This might be overkill just to print a table, but dataframes are useful for data science applications. "
   ]
  },
  {
   "cell_type": "code",
   "execution_count": 14,
   "metadata": {},
   "outputs": [
    {
     "data": {
      "text/html": [
       "<div>\n",
       "<style scoped>\n",
       "    .dataframe tbody tr th:only-of-type {\n",
       "        vertical-align: middle;\n",
       "    }\n",
       "\n",
       "    .dataframe tbody tr th {\n",
       "        vertical-align: top;\n",
       "    }\n",
       "\n",
       "    .dataframe thead th {\n",
       "        text-align: right;\n",
       "    }\n",
       "</style>\n",
       "<table border=\"1\" class=\"dataframe\">\n",
       "  <thead>\n",
       "    <tr style=\"text-align: right;\">\n",
       "      <th></th>\n",
       "      <th>a</th>\n",
       "      <th>b</th>\n",
       "      <th>c</th>\n",
       "      <th>d</th>\n",
       "    </tr>\n",
       "  </thead>\n",
       "  <tbody>\n",
       "    <tr>\n",
       "      <th>0</th>\n",
       "      <td>0.781</td>\n",
       "      <td>0.878</td>\n",
       "      <td>0.764</td>\n",
       "      <td>0.191</td>\n",
       "    </tr>\n",
       "    <tr>\n",
       "      <th>1</th>\n",
       "      <td>0.915</td>\n",
       "      <td>0.494</td>\n",
       "      <td>0.671</td>\n",
       "      <td>0.649</td>\n",
       "    </tr>\n",
       "    <tr>\n",
       "      <th>2</th>\n",
       "      <td>0.198</td>\n",
       "      <td>0.786</td>\n",
       "      <td>0.401</td>\n",
       "      <td>0.407</td>\n",
       "    </tr>\n",
       "  </tbody>\n",
       "</table>\n",
       "</div>"
      ],
      "text/plain": [
       "       a      b      c      d\n",
       "0  0.781  0.878  0.764  0.191\n",
       "1  0.915  0.494  0.671  0.649\n",
       "2  0.198  0.786  0.401  0.407"
      ]
     },
     "execution_count": 14,
     "metadata": {},
     "output_type": "execute_result"
    }
   ],
   "source": [
    "import pandas as pd\n",
    "pd.set_option('precision', 3) # Sets the number of decimals printed.\n",
    "pd.DataFrame(x, columns=[\"a\", \"b\", \"c\", \"d\"])"
   ]
  },
  {
   "cell_type": "markdown",
   "metadata": {},
   "source": [
    "See https://nbviewer.jupyter.org/github/ipython/ipython/blob/2.x/examples/Notebook/Display%20System.ipynb for some other examples."
   ]
  }
 ],
 "metadata": {
  "kernelspec": {
   "display_name": "Python 3",
   "language": "python",
   "name": "python3"
  },
  "language_info": {
   "codemirror_mode": {
    "name": "ipython",
    "version": 3
   },
   "file_extension": ".py",
   "mimetype": "text/x-python",
   "name": "python",
   "nbconvert_exporter": "python",
   "pygments_lexer": "ipython3",
   "version": "3.7.6"
  }
 },
 "nbformat": 4,
 "nbformat_minor": 2
}
