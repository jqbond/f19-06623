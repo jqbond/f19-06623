{
 "cells": [
  {
   "cell_type": "markdown",
   "metadata": {},
   "source": [
    "These are two practice problems from past years on BVPs.\n",
    "\n"
   ]
  },
  {
   "cell_type": "markdown",
   "metadata": {},
   "source": [
    "## Flow between stationary and moving plates\n",
    "\n"
   ]
  },
  {
   "cell_type": "markdown",
   "metadata": {},
   "source": [
    "The flow of an incompressible fluid between two solid plates and driven by a pressure drop is given by:\n",
    "\n",
    "$\\frac{d^2 v}{dy^2} = \\frac{\\Delta P}{\\mu L}$\n",
    "\n",
    "where v(y) is the velocity in the flow direction (x) as a function of position between the plates. The fluid is glycerol with a viscosity $\\mu = 0.9$ Pa-s., the gap between the plates is 0.5 mm and the pressure drop $\\frac{\\Delta P}{L}$ is 200 MPa / m.  Calculate the velocity profile using solve\\_bvp for the situation that (a) both plates are stationary and (b) for the situation that the upper plate is stationary and the bottom plate is moving at 10 m/s in the opposite direction as the pressure drop; plot these together on the same plot.\n",
    "\n"
   ]
  },
  {
   "cell_type": "code",
   "execution_count": 48,
   "metadata": {},
   "outputs": [
    {
     "data": {
      "text/plain": [
       "[<matplotlib.lines.Line2D at 0x1e2eb077bc8>]"
      ]
     },
     "execution_count": 48,
     "metadata": {},
     "output_type": "execute_result"
    },
    {
     "data": {
      "image/png": "[encoded data removed]",
      "text/plain": [
       "<Figure size 432x288 with 1 Axes>"
      ]
     },
     "metadata": {
      "needs_background": "light"
     },
     "output_type": "display_data"
    }
   ],
   "source": [
    "from scipy.integrate import solve_bvp as bvp\n",
    "from scipy.integrate import solve_ivp as ivp\n",
    "import numpy as np\n",
    "import matplotlib.pyplot as plt\n",
    "\n",
    "def modelfun(y, var, mu, DPL):\n",
    "    v     = var[0]\n",
    "    vp    = var[1]\n",
    "    dvdy  = vp\n",
    "    dvpdy = 1/mu*DPL\n",
    "    return np.array([dvdy, dvpdy])\n",
    "\n",
    "y0  = 0\n",
    "yf  = 0.5e-3 #m\n",
    "mu  = 0.9    #Pa*s\n",
    "DPL = -200e6  #Pa/m\n",
    "v0  = 0      #m/sec (velocity at top plate)\n",
    "vf  = 10      #m/sec (velocity at bottom plate)\n",
    "\n",
    "yeval = np.linspace(y0, yf, 100)\n",
    "yspan = np.array([y0,yf])\n",
    "var0  = np.array([0, 56000])\n",
    "sol   = ivp(modelfun,yspan,var0, t_eval = yeval, args = (mu, DPL))\n",
    "y     = sol.t\n",
    "v, vp = sol.y\n",
    "plt.plot(y,v)"
   ]
  },
  {
   "cell_type": "code",
   "execution_count": 101,
   "metadata": {},
   "outputs": [
    {
     "name": "stdout",
     "output_type": "stream",
     "text": [
      "(100,)\n"
     ]
    }
   ],
   "source": [
    "y0  = 0\n",
    "yf  = 0.5e-3 #m\n",
    "mu  = 0.9    #Pa*s\n",
    "DPL = -200e6  #Pa/m\n",
    "v0  = 0      #m/sec (velocity at top plate)\n",
    "vf  = 10      #m/sec (velocity at bottom plate)\n",
    "\n",
    "yeval = np.linspace(y0, yf, 100)\n",
    "yspan = np.array([y0,yf])\n",
    "var0  = np.array([0, 56000])\n",
    "\n",
    "def f1(y, var):\n",
    "    v, vp = var\n",
    "    dvdy  = vp\n",
    "    dvpdy = np.ones(y.shape)/mu*DPL\n",
    "    return [dvdy, dvpdy]\n",
    "\n",
    "def bc(vara, varb):\n",
    "    va, vpa  = vara\n",
    "    vb, vpb  = varb\n",
    "    return [va, vb]\n",
    "\n",
    "p = np.polyfit([y0, yf/2, yf], [0, 5, 0], 2)\n",
    "dp = np.polyder(p)\n",
    "vguess = np.polyval(p, yeval)\n",
    "vpguess = np.polyval(dp,yeval)\n",
    "#plt.plot(yeval, vguess, 'b-')\n",
    "#plt.twinx()\n",
    "#plt.plot(yeval, vpguess, 'r-.')\n",
    "varguess = np.array([vguess, vpguess])\n",
    "print(yeval.shape)"
   ]
  },
  {
   "cell_type": "code",
   "execution_count": 108,
   "metadata": {},
   "outputs": [
    {
     "data": {
      "text/plain": [
       "[<matplotlib.lines.Line2D at 0x1e2ec9a8808>]"
      ]
     },
     "execution_count": 108,
     "metadata": {},
     "output_type": "execute_result"
    },
    {
     "data": {
      "image/png": "[encoded data removed]",
      "text/plain": [
       "<Figure size 432x288 with 1 Axes>"
      ]
     },
     "metadata": {
      "needs_background": "light"
     },
     "output_type": "display_data"
    }
   ],
   "source": [
    "sol = bvp(f1, bc, yeval, varguess)\n",
    "v, vp = sol.y\n",
    "y     = sol.x\n",
    "plt.plot(y,vp)"
   ]
  },
  {
   "cell_type": "markdown",
   "metadata": {},
   "source": [
    "## exam3-5 BVP by ODE\n",
    "\n"
   ]
  },
  {
   "cell_type": "markdown",
   "metadata": {},
   "source": [
    "**This is an exam. You must be present in the exam room to get credit for this problem unless you have prior permission from the instructor. You may not talk during the exam except to ask an instructor a question. By turning this in, you agree that this work is your own, and you did not get unauthorized help to complete it or provide unauthorized help to anyone else. You may not modify your exam answer after the due time without permission.**\n",
    "\n",
    "In this problem we learn a new way to solve a *linear* boundary value problem. The problem of interest is:\n",
    "\n",
    "$y'''(x) - x^2 y = -x^4$ with $y(0)=0, y'(0)=0, y(2)=4$.\n",
    "\n",
    "This will take some steps, so read the following carefully. Some of these steps will be worked out, and others you will be asked to complete. You *do not need to derive these*, they are here to guide what you will do.\n",
    "\n",
    "First, we recall that the general solution of a linear ODE can be written as a linear combination of solutions to the homogeneous equation (where the right hand side is zero) and a particular solution to the non-homogeneous equation (where the right hand side in this case is $-x^4$).\n",
    "\n",
    "Here are the homogeneous versions and the particular version of the equation above, expressed in *initial value form*. The initial conditions are chosen here to provide three linearly independent functions $Y_1, Y_2$, and $Y_3$. For $Y_p$ any values can be used since any particular solution will do.\n",
    "\n",
    "$Y_1''' - x^2 Y_1 = 0$ with $Y_1(0)=1, Y_1'(0)=0, Y_1''(0)=0$\n",
    "\n",
    "$Y_2''' - x^2 Y_2 = 0$ with $Y_2(0)=0, Y_2'(0)=1, Y_2''(0)=0$\n",
    "\n",
    "$Y_3''' - x^2 Y_3 = 0$ with $Y_3(0)=0, Y_3'(0)=0, Y_3''(0)=1$\n",
    "\n",
    "$Y_p''' - x^2 Y_p = -x^4$ with $Y_p(0)=0, Y_p'(0)=0, Y_p''(0)=0$\n",
    "\n",
    "These can be combined to form the general solution to the differential equation.\n",
    "\n",
    "$y(x) = C_1 Y_1(x) + C_2 Y_2(x) + C_3 Y_3(x) + Y_p(x)$\n",
    "\n",
    "To get towards a solution to the original BVP, we next apply the boundary conditions to find the constants $C_i$.\n",
    "\n",
    "$y(0) = 0 = C_1 + 0 + 0 + 0$\n",
    "\n",
    "$y'(0) = 0 = 0 + C_2 + 0 + 0$\n",
    "\n",
    "$y(2) = 4 = C_1 Y_1(2) + C_2 Y_2(2) + C_3 Y_3(2) + Y_p(2)$\n",
    "\n",
    "Combined, these lead to:\n",
    "\n",
    "$y(x) = \\frac{4 - Y_p(2)}{Y_3(2)} Y_3(x) + Y_p(x)$ where $Y_p(2)$ means the function $Y_p$ evaluated at $x=2$ and $Y_3(2)$ means the function $Y_3$ evaluated at $x=2$.\n",
    "\n",
    "That is remarkably the solution to the boundary value problem originally stated, and we can now get $Y_3$ and $Y_p$ by integrating two *ordinary initial value* differential equations!\n",
    "\n"
   ]
  },
  {
   "cell_type": "markdown",
   "metadata": {},
   "source": [
    "### Solve for $Y_3$ and $Y_p$\n",
    "\n"
   ]
  },
  {
   "cell_type": "markdown",
   "metadata": {},
   "source": [
    "Find solutions to these two initial value ODEs over the range of $x=0$ to $x=2$:\n",
    "\n",
    "$Y_3''' - x^2 Y_3 = 0$ with $Y_3(0)=0, Y_3'(0)=0, Y_3''(0)=1$\n",
    "\n",
    "Note that in the next step you will need to evaluate $Y_3(2)$ and $Y_p(2)$.\n",
    "\n"
   ]
  },
  {
   "cell_type": "code",
   "execution_count": 133,
   "metadata": {},
   "outputs": [],
   "source": [
    "def y3(x, var):\n",
    "    Y3   = var[0]\n",
    "    Y3p  = var[1]\n",
    "    Y3pp = var[2]\n",
    "    \n",
    "    dY3dx   = Y3p\n",
    "    dY3pdx  = Y3pp\n",
    "    dY3ppdx = x**2*Y3\n",
    "    \n",
    "    return np.array([dY3dx, dY3pdx, dY3ppdx])\n",
    "xspan = np.array([0,2])\n",
    "xeval = np.linspace(0,2,100)\n",
    "var0  = np.array([0,0,1])\n",
    "sol = ivp(y3,xspan, var0, dense_output = True)\n",
    "x             = sol.t\n",
    "y3, y3p, y3pp = sol.y\n",
    "Y32 = y3[-1]\n",
    "Y3  = sol.sol"
   ]
  },
  {
   "cell_type": "code",
   "execution_count": 145,
   "metadata": {},
   "outputs": [],
   "source": [
    "def yp(x, var):\n",
    "    YP   = var[0]\n",
    "    YPp  = var[1]\n",
    "    YPpp = var[2]\n",
    "    \n",
    "    dYPdx   = YPp\n",
    "    dYPpdx  = YPpp\n",
    "    dYPppdx = x**2*YP - x**4\n",
    "    \n",
    "    return np.array([dYPdx, dYPpdx, dYPppdx])\n",
    "xspan = np.array([0,2])\n",
    "xeval = np.linspace(0,2,100)\n",
    "var0  = np.array([0,0,0])\n",
    "sol = ivp(yp,xspan, var0, dense_output = True)\n",
    "x             = sol.t\n",
    "yP, yPp, yPpp = sol.y\n",
    "YP2 = yP[-1]\n",
    "YP  = sol.sol"
   ]
  },
  {
   "cell_type": "markdown",
   "metadata": {},
   "source": [
    "$Y_p''' - x^2 Y_p = -x^4$ with $Y_p(0)=0, Y_p'(0)=0, Y_p''(0)=0$\n",
    "\n"
   ]
  },
  {
   "cell_type": "code",
   "execution_count": 149,
   "metadata": {},
   "outputs": [
    {
     "data": {
      "text/plain": [
       "[<matplotlib.lines.Line2D at 0x1e2ecbd96c8>]"
      ]
     },
     "execution_count": 149,
     "metadata": {},
     "output_type": "execute_result"
    },
    {
     "data": {
      "image/png": "[encoded data removed]",
      "text/plain": [
       "<Figure size 432x288 with 1 Axes>"
      ]
     },
     "metadata": {
      "needs_background": "light"
     },
     "output_type": "display_data"
    }
   ],
   "source": [
    "def y(x):\n",
    "    result = (4 - YP2)/Y32*Y3(x) + YP(x)\n",
    "    return result[0]\n",
    "\n",
    "x = np.linspace(0,2,100)\n",
    "y = [y(val) for val in x]\n",
    "\n",
    "plt.plot(x,y)"
   ]
  },
  {
   "cell_type": "markdown",
   "metadata": {},
   "source": [
    "### Combine them to get a solution to the BVP\n",
    "\n"
   ]
  },
  {
   "cell_type": "markdown",
   "metadata": {},
   "source": [
    "Use your solutions to create the overall solution. $Y_p(2)$ means evaluate $Y_p(x)$ at $x=2$. $Y_3(2)$ means evaluate $Y_3(x)$ at $x=2$. You can do this anyway you want.\n",
    "\n",
    "$y(x) = \\frac{4 - Y_p(2)}{Y_3(2)} Y_3(x) + Y_p(x)$\n",
    "\n",
    "Make a plot of $y(x)$.\n",
    "\n"
   ]
  },
  {
   "cell_type": "code",
   "execution_count": 1,
   "metadata": {},
   "outputs": [],
   "source": []
  }
 ],
 "metadata": {
  "kernelspec": {
   "display_name": "Python 3",
   "language": "python",
   "name": "python3"
  },
  "language_info": {
   "codemirror_mode": {
    "name": "ipython",
    "version": 3
   },
   "file_extension": ".py",
   "mimetype": "text/x-python",
   "name": "python",
   "nbconvert_exporter": "python",
   "pygments_lexer": "ipython3",
   "version": "3.7.6"
  },
  "org": null
 },
 "nbformat": 4,
 "nbformat_minor": 1
}
