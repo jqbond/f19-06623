{
 "cells": [
  {
   "cell_type": "markdown",
   "metadata": {},
   "source": [
    "- KEYWORDS: autograd\n"
   ]
  },
  {
   "cell_type": "markdown",
   "metadata": {},
   "source": [
    "## Choice of activation functions in neural networks\n",
    "\n"
   ]
  },
  {
   "cell_type": "markdown",
   "metadata": {},
   "source": [
    "The activation function in a neural network provides the nonlinearity in the model. We previously learned that one interpretation of the activation function is that it is a basis function that you can expand the data in to find a functional representation that fits the data.\n",
    "\n",
    "Today we explore the impact of the activation function on the fitting, and extrapolation of neural networks. The following code is for setting up a neural network, and initializing the parameters with random numbers.\n",
    "\n"
   ]
  },
  {
   "cell_type": "code",
   "execution_count": 1,
   "metadata": {},
   "outputs": [
    {
     "data": {
      "text/plain": [
       "[(1, 3), (3, 1)]"
      ]
     },
     "execution_count": 1,
     "metadata": {},
     "output_type": "execute_result"
    }
   ],
   "source": [
    "layer_sizes = [1, 3, 1]\n",
    "list(zip(layer_sizes[:-1], layer_sizes[1:]))"
   ]
  },
  {
   "cell_type": "code",
   "execution_count": 2,
   "metadata": {},
   "outputs": [
    {
     "data": {
      "text/plain": [
       "[(array([[0.17640523, 0.04001572, 0.0978738 ]]),\n",
       "  array([ 0.22408932,  0.1867558 , -0.09772779])),\n",
       " (array([[ 0.09500884],\n",
       "         [-0.01513572],\n",
       "         [-0.01032189]]),\n",
       "  array([0.04105985]))]"
      ]
     },
     "execution_count": 2,
     "metadata": {},
     "output_type": "execute_result"
    }
   ],
   "source": [
    "import autograd.numpy as np\n",
    "import autograd.numpy.random as npr\n",
    "\n",
    "def nn(params, inputs, activation=np.tanh):\n",
    "    \"\"\"a neural network.\n",
    "    params is a list of (weights, bias) for each layer.\n",
    "    inputs goes into the nn. Each row corresponds to one output label.\n",
    "    activation is the nonlinear activation function.\n",
    "    \"\"\"\n",
    "    for W, b in params[:-1]:\n",
    "        outputs = np.dot(inputs, W) + b\n",
    "        inputs = activation(outputs)\n",
    "    # no activation on the last layer\n",
    "    W, b = params[-1]\n",
    "    return np.dot(inputs, W) + b\n",
    "\n",
    "def init_random_params(scale, layer_sizes, rs=npr.RandomState(0)):\n",
    "    \"\"\"Build a list of (weights, biases) tuples, one for each layer.\"\"\"\n",
    "    return [(rs.randn(insize, outsize) * scale,   # weight matrix\n",
    "             rs.randn(outsize) * scale)           # bias vector\n",
    "            for insize, outsize in zip(layer_sizes[:-1], layer_sizes[1:])]\n",
    "\n",
    "init_random_params(0.1, (1, 3, 1))"
   ]
  },
  {
   "cell_type": "markdown",
   "metadata": {},
   "source": [
    "As before, we are going to consider this dataset so we can evaluate fitting and extrapolation.\n",
    "\n"
   ]
  },
  {
   "cell_type": "code",
   "execution_count": 3,
   "metadata": {},
   "outputs": [
    {
     "data": {
      "text/plain": [
       "Text(0, 0.5, 'y')"
      ]
     },
     "execution_count": 3,
     "metadata": {},
     "output_type": "execute_result"
    },
    {
     "data": {
      "image/png": "[encoded data removed]",
      "text/plain": [
       "<Figure size 432x288 with 1 Axes>"
      ]
     },
     "metadata": {
      "needs_background": "light"
     },
     "output_type": "display_data"
    }
   ],
   "source": [
    "# Some generated data\n",
    "X = np.linspace(0, 1)\n",
    "Y = X**(1. / 3.)\n",
    "\n",
    "%matplotlib inline\n",
    "import matplotlib.pyplot as plt\n",
    "plt.plot(X, Y, 'b.')\n",
    "plt.xlabel('x')\n",
    "plt.ylabel('y')"
   ]
  },
  {
   "cell_type": "markdown",
   "metadata": {},
   "source": [
    "### tanh\n",
    "\n"
   ]
  },
  {
   "cell_type": "markdown",
   "metadata": {},
   "source": [
    "First we review the case of `tanh` which is a classic activation function. The `tanh` function is \"active\" between about &plusmn; 2.5, and outside that window it saturates. That means the derivative of this function becomes close to zero outside that window. So if you have large values of inputs, you should scale them to avoid this issue.\n",
    "\n"
   ]
  },
  {
   "cell_type": "code",
   "execution_count": 4,
   "metadata": {},
   "outputs": [
    {
     "data": {
      "text/plain": [
       "Text(0, 0.5, 'y')"
      ]
     },
     "execution_count": 4,
     "metadata": {},
     "output_type": "execute_result"
    },
    {
     "data": {
      "image/png": "[encoded data removed]",
      "text/plain": [
       "<Figure size 432x288 with 1 Axes>"
      ]
     },
     "metadata": {
      "needs_background": "light"
     },
     "output_type": "display_data"
    }
   ],
   "source": [
    "xt = np.linspace(-10, 10)\n",
    "plt.plot(xt, np.tanh(xt))\n",
    "plt.xlabel('x')\n",
    "plt.ylabel('y')"
   ]
  },
  {
   "cell_type": "code",
   "execution_count": 5,
   "metadata": {},
   "outputs": [
    {
     "name": "stdout",
     "output_type": "stream",
     "text": [
      "Step 0: 0.020315790544979926\n",
      "Step 100: 9.470108542632499e-05\n",
      "Tolerance reached, stopping\n"
     ]
    }
   ],
   "source": [
    "def objective1(params, step=None):\n",
    "    pred = nn(params, np.array([X]).T)\n",
    "    err = np.array([Y]).T - pred\n",
    "    return np.mean(err**2)\n",
    "\n",
    "from autograd.misc.optimizers import adam\n",
    "from autograd import grad\n",
    "\n",
    "params1 = init_random_params(0.1, layer_sizes=[1, 3, 1])\n",
    "\n",
    "N = 50\n",
    "MAX_EPOCHS = 500\n",
    "\n",
    "for i in range(MAX_EPOCHS):\n",
    "    params1 = adam(grad(objective1), params1,\n",
    "                  step_size=0.01, num_iters=N)\n",
    "    if i % 100 == 0:  # print every 100th step\n",
    "        print(f'Step {i}: {objective1(params1)}')\n",
    "    if objective1(params1, _) < 2e-5:\n",
    "        print('Tolerance reached, stopping')\n",
    "        break"
   ]
  },
  {
   "cell_type": "code",
   "execution_count": 6,
   "metadata": {},
   "outputs": [],
   "source": [
    "?adam"
   ]
  },
  {
   "cell_type": "code",
   "execution_count": 7,
   "metadata": {},
   "outputs": [
    {
     "data": {
      "text/plain": [
       "[(array([[ 0.85815128,  3.00081761, 33.46095533]]),\n",
       "  array([-0.44095357,  0.20622904,  0.57208777])),\n",
       " (array([[0.43813494],\n",
       "         [0.39815568],\n",
       "         [0.66964954]]),\n",
       "  array([-0.24135401]))]"
      ]
     },
     "execution_count": 7,
     "metadata": {},
     "output_type": "execute_result"
    }
   ],
   "source": [
    "params1"
   ]
  },
  {
   "cell_type": "markdown",
   "metadata": {},
   "source": [
    "Now we can examine the fit and extrapolation.\n",
    "\n"
   ]
  },
  {
   "cell_type": "code",
   "execution_count": 8,
   "metadata": {},
   "outputs": [
    {
     "name": "stderr",
     "output_type": "stream",
     "text": [
      "C:\\Users\\jqbon\\anaconda3\\lib\\site-packages\\ipykernel_launcher.py:2: RuntimeWarning: invalid value encountered in power\n",
      "  \n"
     ]
    },
    {
     "data": {
      "image/png": "[encoded data removed]",
      "text/plain": [
       "<Figure size 432x288 with 1 Axes>"
      ]
     },
     "metadata": {
      "needs_background": "light"
     },
     "output_type": "display_data"
    }
   ],
   "source": [
    "X2 = np.linspace(-2, 10)\n",
    "Y2 = X2**(1/3)\n",
    "Z2 = nn(params1, X2.reshape([-1, 1]))\n",
    "\n",
    "plt.plot(X2, Y2, 'b.', label='analytical')\n",
    "plt.plot(X2, Z2, label='NN')\n",
    "plt.fill_between(X2 < 1, 0, 1.4, facecolor='gray', alpha=0.5)\n",
    "plt.xlabel('x')\n",
    "plt.ylabel('y');"
   ]
  },
  {
   "cell_type": "markdown",
   "metadata": {},
   "source": [
    "For large enough $x$, all of the `tanh` functions saturate at $y=1$. So, the neural network also saturates at a constant value for large $x$.\n",
    "\n",
    "**exercise** Can you work out from the NN math what the saturated values should be?\n",
    "\n"
   ]
  },
  {
   "cell_type": "markdown",
   "metadata": {},
   "source": [
    "### relu\n",
    "\n"
   ]
  },
  {
   "cell_type": "markdown",
   "metadata": {},
   "source": [
    "A common activation function in deep learning is the Relu:\n",
    "\n"
   ]
  },
  {
   "cell_type": "code",
   "execution_count": 9,
   "metadata": {},
   "outputs": [
    {
     "data": {
      "text/plain": [
       "[<matplotlib.lines.Line2D at 0x1ae4a4dfc88>]"
      ]
     },
     "execution_count": 9,
     "metadata": {},
     "output_type": "execute_result"
    },
    {
     "data": {
      "image/png": "[encoded data removed]",
      "text/plain": [
       "<Figure size 432x288 with 1 Axes>"
      ]
     },
     "metadata": {
      "needs_background": "light"
     },
     "output_type": "display_data"
    }
   ],
   "source": [
    "def relu(x):\n",
    "    return x * (x > 0)\n",
    "\n",
    "plt.plot(X2, relu(X2))"
   ]
  },
  {
   "cell_type": "markdown",
   "metadata": {},
   "source": [
    "This is popular because if is very fast to compute, and the derivatives are constant. For positive $x$ there is no saturation. For negative $x$, however, the neuron is \"dead\".\n",
    "\n"
   ]
  },
  {
   "cell_type": "code",
   "execution_count": 10,
   "metadata": {},
   "outputs": [
    {
     "name": "stdout",
     "output_type": "stream",
     "text": [
      "Step 0: 0.022935107138404753\n",
      "Step 100: 0.0058298430399787516\n",
      "Step 200: 0.005829606810484628\n",
      "Step 300: 0.005829383470762832\n",
      "Step 400: 0.005829150369017915\n"
     ]
    }
   ],
   "source": [
    "def objective2(par, step=None):\n",
    "    pred = nn(par, np.array([X]).T, activation=relu)\n",
    "    err = np.array([Y]).T - pred\n",
    "    return np.mean(err**2)\n",
    "\n",
    "from autograd.misc.optimizers import adam\n",
    "from autograd import grad\n",
    "\n",
    "params2 = init_random_params(0.01, layer_sizes=[1, 3, 1])\n",
    "\n",
    "N = 50\n",
    "MAX_EPOCHS = 500\n",
    "\n",
    "for i in range(MAX_EPOCHS):\n",
    "    params2 = adam(grad(objective2), params2,\n",
    "                  step_size=0.01, num_iters=N)\n",
    "    if i % 100 == 0:  # print every 100th step\n",
    "        print(f'Step {i}: {objective2(params2)}')\n",
    "    if objective2(params2, _) < 2e-5:\n",
    "        print('Tolerance reached, stopping')\n",
    "        break"
   ]
  },
  {
   "cell_type": "code",
   "execution_count": 11,
   "metadata": {},
   "outputs": [
    {
     "data": {
      "image/png": "[encoded data removed]",
      "text/plain": [
       "<Figure size 432x288 with 1 Axes>"
      ]
     },
     "metadata": {
      "needs_background": "light"
     },
     "output_type": "display_data"
    }
   ],
   "source": [
    "X2 = np.linspace(0., 1)\n",
    "Y2 = X2**(1/3)\n",
    "Z2 = nn(params2, X2.reshape([-1, 1]), activation=relu)\n",
    "\n",
    "plt.plot(X2, Y2, 'b.', label='analytical')\n",
    "plt.plot(X2, Z2, label='NN')\n",
    "plt.xlabel('x')\n",
    "plt.ylabel('y');"
   ]
  },
  {
   "cell_type": "code",
   "execution_count": 12,
   "metadata": {},
   "outputs": [
    {
     "data": {
      "text/plain": [
       "[(array([[-0.0255299 ,  1.1907681 ,  0.00864436]]),\n",
       "  array([-0.00742165,  0.01023201, -0.01454366])),\n",
       " (array([[4.57585173e-04],\n",
       "         [5.64269160e-01],\n",
       "         [1.53277921e-02]]),\n",
       "  array([0.40150588]))]"
      ]
     },
     "execution_count": 12,
     "metadata": {},
     "output_type": "execute_result"
    }
   ],
   "source": [
    "params2"
   ]
  },
  {
   "cell_type": "markdown",
   "metadata": {},
   "source": [
    "Notes:\n",
    "\n",
    "1.  The fit is not very good.\n",
    "2.  we have piecewise linear fits here.\n",
    "3.  There are negative weights, which means there are some \"dead neurons\". Maybe other initial guesses might improve this.\n",
    "\n",
    "Let's look at the extrapolating behavior.\n",
    "\n"
   ]
  },
  {
   "cell_type": "code",
   "execution_count": 13,
   "metadata": {},
   "outputs": [
    {
     "data": {
      "image/png": "[encoded data removed]",
      "text/plain": [
       "<Figure size 432x288 with 1 Axes>"
      ]
     },
     "metadata": {
      "needs_background": "light"
     },
     "output_type": "display_data"
    }
   ],
   "source": [
    "X2 = np.linspace(0, 1)\n",
    "Y2 = X2**(1/3)\n",
    "\n",
    "xf = np.linspace(-2, 2)\n",
    "Z2 = nn(params2, xf.reshape([-1, 1]), activation=relu)\n",
    "\n",
    "plt.plot(X2, Y2, 'b.', label='analytical')\n",
    "plt.plot(xf, Z2, label='NN')\n",
    "plt.fill_between(X2 < 1, 0, 1.4, facecolor='gray', alpha=0.5)\n",
    "plt.xlabel('x')\n",
    "plt.ylabel('y');"
   ]
  },
  {
   "cell_type": "markdown",
   "metadata": {},
   "source": [
    "Notes this extrapolates linearly on the right, and is constant on the left. These are properties of the Relu.\n",
    "\n"
   ]
  },
  {
   "cell_type": "markdown",
   "metadata": {},
   "source": [
    "### Gaussian (radial basis function)\n",
    "\n"
   ]
  },
  {
   "cell_type": "markdown",
   "metadata": {},
   "source": [
    "Finally we consider the Gaussian activation function.\n",
    "\n"
   ]
  },
  {
   "cell_type": "code",
   "execution_count": 14,
   "metadata": {},
   "outputs": [
    {
     "data": {
      "text/plain": [
       "[<matplotlib.lines.Line2D at 0x1ae4a6276c8>]"
      ]
     },
     "execution_count": 14,
     "metadata": {},
     "output_type": "execute_result"
    },
    {
     "data": {
      "image/png": "[encoded data removed]",
      "text/plain": [
       "<Figure size 432x288 with 1 Axes>"
      ]
     },
     "metadata": {
      "needs_background": "light"
     },
     "output_type": "display_data"
    }
   ],
   "source": [
    "def rbf(x):\n",
    "    return np.exp(-x**2)\n",
    "\n",
    "x3 = np.linspace(-3, 3)\n",
    "plt.plot(x3, rbf(x3))"
   ]
  },
  {
   "cell_type": "markdown",
   "metadata": {},
   "source": [
    "Now we fit the data.\n",
    "\n"
   ]
  },
  {
   "cell_type": "code",
   "execution_count": 19,
   "metadata": {},
   "outputs": [
    {
     "name": "stdout",
     "output_type": "stream",
     "text": [
      "Step 0: 0.04811275239425354\n",
      "Step 100: 0.0011377939097990725\n",
      "Step 200: 0.0010827094269805473\n",
      "Step 300: 0.0010201891852789527\n",
      "Step 400: 0.0009128304648063034\n"
     ]
    }
   ],
   "source": [
    "def objective3(pars, step=None):\n",
    "    pred = nn(pars, np.array([X]).T, activation=rbf)\n",
    "    err = np.array([Y]).T - pred\n",
    "    return np.mean(err**2)\n",
    "\n",
    "from autograd.misc.optimizers import adam\n",
    "from autograd import grad\n",
    "\n",
    "params3 = init_random_params(0.1, layer_sizes=[1, 3, 1])\n",
    "\n",
    "N = 50\n",
    "MAX_EPOCHS = 500\n",
    "\n",
    "for i in range(MAX_EPOCHS):\n",
    "    params3 = adam(grad(objective3), params3,\n",
    "                  step_size=0.01, num_iters=N)\n",
    "    if i % 100 == 0:  # print every 100th step\n",
    "        print(f'Step {i}: {objective3(params3)}')\n",
    "    if objective3(params3, _) < 2e-5:\n",
    "        print('Tolerance reached, stopping')\n",
    "        break"
   ]
  },
  {
   "cell_type": "code",
   "execution_count": 16,
   "metadata": {},
   "outputs": [
    {
     "data": {
      "image/png": "[encoded data removed]",
      "text/plain": [
       "<Figure size 432x288 with 1 Axes>"
      ]
     },
     "metadata": {
      "needs_background": "light"
     },
     "output_type": "display_data"
    }
   ],
   "source": [
    "X2 = np.linspace(0., 1)\n",
    "Y2 = X2**(1/3)\n",
    "Z2 = nn(params3, X2.reshape([-1, 1]), activation=rbf)\n",
    "\n",
    "plt.plot(X2, Y2, 'b.', label='analytical')\n",
    "plt.plot(X2, Z2, label='NN')\n",
    "plt.xlabel('x')\n",
    "plt.ylabel('y');"
   ]
  },
  {
   "cell_type": "markdown",
   "metadata": {},
   "source": [
    "Note we have piecewise linear fits here.\n",
    "\n"
   ]
  },
  {
   "cell_type": "code",
   "execution_count": 17,
   "metadata": {},
   "outputs": [
    {
     "name": "stderr",
     "output_type": "stream",
     "text": [
      "C:\\Users\\jqbon\\anaconda3\\lib\\site-packages\\ipykernel_launcher.py:2: RuntimeWarning: invalid value encountered in power\n",
      "  \n"
     ]
    },
    {
     "data": {
      "image/png": "[encoded data removed]",
      "text/plain": [
       "<Figure size 432x288 with 1 Axes>"
      ]
     },
     "metadata": {
      "needs_background": "light"
     },
     "output_type": "display_data"
    }
   ],
   "source": [
    "X2 = np.linspace(-2.5, 5)\n",
    "Y2 = X2**(1/3)\n",
    "Z2 = nn(params3, X2.reshape([-1, 1]), activation=rbf)\n",
    "\n",
    "plt.plot(X2, Y2, 'b.', label='analytical')\n",
    "plt.plot(X2, Z2, label='NN')\n",
    "plt.fill_between(X2 < 1, 0, 1.4, facecolor='gray', alpha=0.5)\n",
    "plt.xlabel('x')\n",
    "plt.ylabel('y');"
   ]
  },
  {
   "cell_type": "markdown",
   "metadata": {},
   "source": [
    "Notes this extrapolates to zero when you are far from the data. It fits reasonably in the region trained. \"If your function is nonlinear enough, somewhere the nonlinearity matches your data.\" (Z. Ulissi).\n",
    "\n"
   ]
  },
  {
   "cell_type": "code",
   "execution_count": 20,
   "metadata": {},
   "outputs": [
    {
     "name": "stdout",
     "output_type": "stream",
     "text": [
      "Step 0: 0.018754842674234697\n",
      "Step 100: 0.0014343568162574999\n",
      "Step 200: 0.0013839085102387216\n",
      "Step 300: 0.0009902428910297742\n",
      "Step 400: 0.0009785483143361067\n"
     ]
    }
   ],
   "source": [
    "def objective33(pars, step=None):\n",
    "    pred = nn(pars, np.array([X]).T, activation=np.sin)\n",
    "    err = np.array([Y]).T - pred\n",
    "    return np.mean(err**2)\n",
    "\n",
    "from autograd.misc.optimizers import adam\n",
    "from autograd import grad\n",
    "\n",
    "params33 = init_random_params(0.1, layer_sizes=[1, 3, 1])\n",
    "\n",
    "N = 50\n",
    "MAX_EPOCHS = 500\n",
    "\n",
    "for i in range(MAX_EPOCHS):\n",
    "    params33 = adam(grad(objective33), params33,\n",
    "                  step_size=0.01, num_iters=N)\n",
    "    if i % 100 == 0:  # print every 100th step\n",
    "        print(f'Step {i}: {objective33(params33)}')\n",
    "    if objective33(params33, _) < 2e-5:\n",
    "        print('Tolerance reached, stopping')\n",
    "        break"
   ]
  },
  {
   "cell_type": "code",
   "execution_count": 23,
   "metadata": {},
   "outputs": [
    {
     "name": "stderr",
     "output_type": "stream",
     "text": [
      "C:\\Users\\jqbon\\anaconda3\\lib\\site-packages\\ipykernel_launcher.py:2: RuntimeWarning: invalid value encountered in power\n",
      "  \n"
     ]
    },
    {
     "data": {
      "image/png": "[encoded data removed]",
      "text/plain": [
       "<Figure size 432x288 with 1 Axes>"
      ]
     },
     "metadata": {
      "needs_background": "light"
     },
     "output_type": "display_data"
    }
   ],
   "source": [
    "X2 = np.linspace(-15, 5)\n",
    "Y2 = X2**(1/3)\n",
    "Z2 = nn(params33, X2.reshape([-1, 1]), activation=np.sin)\n",
    "\n",
    "plt.plot(X2, Y2, 'b.', label='analytical')\n",
    "plt.plot(X2, Z2, label='NN')\n",
    "plt.fill_between(X2 < 1, 0, 1.4, facecolor='gray', alpha=0.5)\n",
    "plt.xlabel('x')\n",
    "plt.ylabel('y');"
   ]
  },
  {
   "cell_type": "markdown",
   "metadata": {},
   "source": [
    "**Exercise** how many neurons do you need to get a better fit for sin as the activation function."
   ]
  },
  {
   "cell_type": "markdown",
   "metadata": {},
   "source": [
    "### Summary\n",
    "\n"
   ]
  },
  {
   "cell_type": "markdown",
   "metadata": {},
   "source": [
    "We can think of single layer neural networks as partial expansions in the activation function space. That means the extrapolation behavior will be like the dominating feature of the activation functions, e.g. relu extrapolates like a line, tanh saturates at large x, and Gaussians effectively go to zero. Unexpected things can happen at the edges of the data, so at intermediate extrapolations you do not always know what will happen.\n",
    "\n"
   ]
  },
  {
   "cell_type": "markdown",
   "metadata": {},
   "source": [
    "## Train/test splits on data\n",
    "\n"
   ]
  },
  {
   "cell_type": "markdown",
   "metadata": {},
   "source": [
    "So far we have not considered how to split your data when fitting. This becomes important for a few reasons:\n",
    "\n",
    "1.  We need to be able to tell if we are overfitting. One way to do this is to compare fitting errors to prediction errors.\n",
    "\n",
    "This means we need a way to split a dataset into a train set and a test set. Then, we can do training on the train set, and testing on the test set.\n",
    "\n",
    "Let's start by remembering what our dataset is.\n",
    "\n"
   ]
  },
  {
   "cell_type": "code",
   "execution_count": 24,
   "metadata": {},
   "outputs": [
    {
     "data": {
      "text/plain": [
       "(array([0.        , 0.02040816, 0.04081633, 0.06122449, 0.08163265,\n",
       "        0.10204082, 0.12244898, 0.14285714, 0.16326531, 0.18367347,\n",
       "        0.20408163, 0.2244898 , 0.24489796, 0.26530612, 0.28571429,\n",
       "        0.30612245, 0.32653061, 0.34693878, 0.36734694, 0.3877551 ,\n",
       "        0.40816327, 0.42857143, 0.44897959, 0.46938776, 0.48979592,\n",
       "        0.51020408, 0.53061224, 0.55102041, 0.57142857, 0.59183673,\n",
       "        0.6122449 , 0.63265306, 0.65306122, 0.67346939, 0.69387755,\n",
       "        0.71428571, 0.73469388, 0.75510204, 0.7755102 , 0.79591837,\n",
       "        0.81632653, 0.83673469, 0.85714286, 0.87755102, 0.89795918,\n",
       "        0.91836735, 0.93877551, 0.95918367, 0.97959184, 1.        ]),\n",
       " array([0.        , 0.27327588, 0.34430604, 0.39413203, 0.43379842,\n",
       "        0.46729519, 0.49657523, 0.52275796, 0.54655177, 0.56843674,\n",
       "        0.58875504, 0.60776012, 0.62564559, 0.64256306, 0.65863376,\n",
       "        0.67395628, 0.68861208, 0.70266925, 0.71618542, 0.72920982,\n",
       "        0.74178487, 0.75394744, 0.76572977, 0.77716026, 0.78826405,\n",
       "        0.79906353, 0.80957873, 0.81982765, 0.82982653, 0.83959009,\n",
       "        0.84913171, 0.85846357, 0.86759685, 0.87654178, 0.88530778,\n",
       "        0.89390354, 0.90233709, 0.91061587, 0.9187468 , 0.9267363 ,\n",
       "        0.93459037, 0.94231461, 0.94991425, 0.9573942 , 0.96475906,\n",
       "        0.97201316, 0.97916057, 0.98620513, 0.99315047, 1.        ]))"
      ]
     },
     "execution_count": 24,
     "metadata": {},
     "output_type": "execute_result"
    }
   ],
   "source": [
    "X = np.linspace(0, 1)\n",
    "Y2 = X**(1/3)\n",
    "X, Y2"
   ]
  },
  {
   "cell_type": "markdown",
   "metadata": {},
   "source": [
    "The way to split this is that we use indexing. We start by making an array of integers.\n",
    "\n"
   ]
  },
  {
   "cell_type": "code",
   "execution_count": 25,
   "metadata": {},
   "outputs": [
    {
     "data": {
      "text/plain": [
       "array([ 0,  1,  2,  3,  4,  5,  6,  7,  8,  9, 10, 11, 12, 13, 14, 15, 16,\n",
       "       17, 18, 19, 20, 21, 22, 23, 24, 25, 26, 27, 28, 29, 30, 31, 32, 33,\n",
       "       34, 35, 36, 37, 38, 39, 40, 41, 42, 43, 44, 45, 46, 47, 48, 49])"
      ]
     },
     "execution_count": 25,
     "metadata": {},
     "output_type": "execute_result"
    }
   ],
   "source": [
    "ind = np.arange(len(X))\n",
    "ind"
   ]
  },
  {
   "cell_type": "markdown",
   "metadata": {},
   "source": [
    "Next, we randomly shuffle the array of integers.\n",
    "\n"
   ]
  },
  {
   "cell_type": "code",
   "execution_count": 43,
   "metadata": {},
   "outputs": [],
   "source": [
    "?np.random.permutation"
   ]
  },
  {
   "cell_type": "code",
   "execution_count": 26,
   "metadata": {},
   "outputs": [
    {
     "data": {
      "text/plain": [
       "array([43,  8, 13, 37,  3,  1, 46, 16, 14, 30, 42, 20, 27, 15, 36, 21, 10,\n",
       "       32, 25, 22, 41,  9, 24, 12, 45, 23, 19, 18, 29, 38, 11,  4,  6,  0,\n",
       "       48, 35,  7, 40, 17, 28, 33, 44, 31, 39, 34,  5, 47, 26, 49,  2])"
      ]
     },
     "execution_count": 26,
     "metadata": {},
     "output_type": "execute_result"
    }
   ],
   "source": [
    "pind = np.random.permutation(ind)\n",
    "pind"
   ]
  },
  {
   "cell_type": "markdown",
   "metadata": {},
   "source": [
    "Next, we decide on the train/test split. A common choice is 80/20. We find the integer that is closest to 80% of the index array.\n",
    "\n"
   ]
  },
  {
   "cell_type": "code",
   "execution_count": 27,
   "metadata": {},
   "outputs": [
    {
     "data": {
      "text/plain": [
       "40"
      ]
     },
     "execution_count": 27,
     "metadata": {},
     "output_type": "execute_result"
    }
   ],
   "source": [
    "split = int(0.8 * len(pind))\n",
    "split"
   ]
  },
  {
   "cell_type": "code",
   "execution_count": 28,
   "metadata": {},
   "outputs": [
    {
     "name": "stdout",
     "output_type": "stream",
     "text": [
      "40 10\n"
     ]
    },
    {
     "data": {
      "text/plain": [
       "array([33, 44, 31, 39, 34,  5, 47, 26, 49,  2])"
      ]
     },
     "execution_count": 28,
     "metadata": {},
     "output_type": "execute_result"
    }
   ],
   "source": [
    "train_ind = pind[:split]\n",
    "test_ind = pind[split:]\n",
    "print(len(train_ind), len(test_ind))\n",
    "test_ind"
   ]
  },
  {
   "cell_type": "markdown",
   "metadata": {},
   "source": [
    "We check that we have a reasonable choice here.\n",
    "\n"
   ]
  },
  {
   "cell_type": "code",
   "execution_count": 29,
   "metadata": {},
   "outputs": [
    {
     "data": {
      "text/plain": [
       "<matplotlib.legend.Legend at 0x1ae4a80aa48>"
      ]
     },
     "execution_count": 29,
     "metadata": {},
     "output_type": "execute_result"
    },
    {
     "data": {
      "image/png": "[encoded data removed]",
      "text/plain": [
       "<Figure size 432x288 with 1 Axes>"
      ]
     },
     "metadata": {
      "needs_background": "light"
     },
     "output_type": "display_data"
    }
   ],
   "source": [
    "train_x = X[train_ind]\n",
    "train_y = Y2[train_ind]\n",
    "\n",
    "test_x = X[test_ind]\n",
    "test_y = Y2[test_ind]\n",
    "plt.plot(test_x, test_y, 'ro')\n",
    "plt.plot(train_x, train_y, 'bo')\n",
    "plt.legend(['test','train'])"
   ]
  },
  {
   "cell_type": "markdown",
   "metadata": {},
   "source": [
    "Now, we train on the train data.\n",
    "\n"
   ]
  },
  {
   "cell_type": "code",
   "execution_count": 30,
   "metadata": {},
   "outputs": [
    {
     "name": "stdout",
     "output_type": "stream",
     "text": [
      "Step 0: 0.022611630618369044\n",
      "Step 100: 8.284645920286155e-05\n",
      "Tolerance reached, stopping\n"
     ]
    }
   ],
   "source": [
    "def objective10(params, step=None):\n",
    "    pred = nn(params, np.array([train_x]).T)\n",
    "    err = np.array([train_y]).T - pred\n",
    "    return np.mean(err**2)\n",
    "\n",
    "from autograd.misc.optimizers import adam\n",
    "from autograd import grad\n",
    "\n",
    "params10 = init_random_params(0.1, layer_sizes=[1, 3, 1])\n",
    "\n",
    "N = 50\n",
    "MAX_EPOCHS = 500\n",
    "\n",
    "for i in range(MAX_EPOCHS):\n",
    "    params10 = adam(grad(objective10), params10,\n",
    "                  step_size=0.01, num_iters=N)\n",
    "    if i % 100 == 0:  # print every 100th step\n",
    "        print(f'Step {i}: {objective10(params10)}')\n",
    "    if objective10(params10, _) < 2e-5:\n",
    "        print('Tolerance reached, stopping')\n",
    "        break"
   ]
  },
  {
   "cell_type": "markdown",
   "metadata": {},
   "source": [
    "As usual, we should check the fit on the train data. This is a little trickier than before, because the points are out of order.\n",
    "\n"
   ]
  },
  {
   "cell_type": "code",
   "execution_count": 31,
   "metadata": {},
   "outputs": [
    {
     "data": {
      "text/plain": [
       "[<matplotlib.lines.Line2D at 0x1ae4a88be08>]"
      ]
     },
     "execution_count": 31,
     "metadata": {},
     "output_type": "execute_result"
    },
    {
     "data": {
      "image/png": "[encoded data removed]",
      "text/plain": [
       "<Figure size 432x288 with 1 Axes>"
      ]
     },
     "metadata": {
      "needs_background": "light"
     },
     "output_type": "display_data"
    }
   ],
   "source": [
    "Z2 = nn(params10, train_x.reshape([-1, 1]))\n",
    "plt.plot(train_x, Z2, 'bo', label='NN')\n",
    "plt.plot(train_x, train_y, 'r+', label='analytical')\n",
    "plt.xlabel('x')\n",
    "plt.ylabel('y')\n",
    "\n",
    "plt.plot(test_x, nn(params10, test_x.reshape([-1, 1])), 'go', label='NN')\n",
    "plt.plot(test_x, test_y, 'y*', label='analytical')"
   ]
  },
  {
   "cell_type": "code",
   "execution_count": 32,
   "metadata": {},
   "outputs": [
    {
     "name": "stdout",
     "output_type": "stream",
     "text": [
      "RMSE train = 0.156\n",
      "RMSE test = 0.108\n"
     ]
    }
   ],
   "source": [
    "rmse_train = np.mean((train_y - nn(params10, train_x.reshape([-1, 1]))**2))\n",
    "rmse_test =  np.mean((test_y - nn(params10, test_x.reshape([-1, 1]))**2))\n",
    "\n",
    "print(f'''RMSE train = {rmse_train:1.3f}\n",
    "RMSE test = {rmse_test:1.3f}''')"
   ]
  },
  {
   "cell_type": "markdown",
   "metadata": {},
   "source": [
    "Here, the test RMSE is *a little higher* than the train data. This suggests a possible overfitting, but not by much. This may also be due to extrapolation errors because the first two test points are technically outside the training data. For the train/test split to be meaningful, it is important that the two datasets have similar distributions of values.\n",
    "\n"
   ]
  },
  {
   "cell_type": "markdown",
   "metadata": {},
   "source": [
    "## Summary\n",
    "\n"
   ]
  },
  {
   "cell_type": "markdown",
   "metadata": {},
   "source": [
    "Today we reviewed the role of activation functions in neural networks, and observed that it doesn't generally matter what you use (but the details always matter in individual cases). The mathematical form of these activation functions determines how they will extrapolate, which can be important depending on your application.\n",
    "\n",
    "We then explored how to efficiently split a dataset into a train and test set so that overfitting can be evaluated. This becomes increasingly important for when you plan to explore many models (choices of hyperparameters), and then you split the data three ways (train, test and validate).\n",
    "\n"
   ]
  }
 ],
 "metadata": {
  "kernelspec": {
   "display_name": "Python 3",
   "language": "python",
   "name": "python3"
  },
  "language_info": {
   "codemirror_mode": {
    "name": "ipython",
    "version": 3
   },
   "file_extension": ".py",
   "mimetype": "text/x-python",
   "name": "python",
   "nbconvert_exporter": "python",
   "pygments_lexer": "ipython3",
   "version": "3.7.6"
  },
  "org": {
   "KEYWORDS": "autograd"
  }
 },
 "nbformat": 4,
 "nbformat_minor": 1
}
